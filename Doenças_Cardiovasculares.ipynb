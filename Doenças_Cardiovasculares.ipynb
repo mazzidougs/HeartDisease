{
  "nbformat": 4,
  "nbformat_minor": 0,
  "metadata": {
    "colab": {
      "name": "Doenças Cardiovasculares.ipynb",
      "provenance": [],
      "collapsed_sections": []
    },
    "kernelspec": {
      "name": "python3",
      "display_name": "Python 3"
    }
  },
  "cells": [
    {
      "cell_type": "markdown",
      "metadata": {
        "id": "w0OlvP4PEdzR"
      },
      "source": [
        "# Análise Exploratória de Dados - Doenças Cardiovasculares\n",
        "\n",
        "Doenças Cardiovasculares geralmente são eventos agudos causados principalmente por um bloqueio que impede que o sangue flua para o coração ou para o cérebro.\n",
        "\n",
        "A razão mais comum para isso é o acúmulo de depósitos de gordura nas paredes internas dos vasos sanguíneos que irrigam o coração ou o cérebro. Os acidentes vasculares cerebrais também podem ser causados por uma hemorragia em vasos sanguíneos do cérebro ou a partir de coágulos de sangue. \n",
        "\n",
        "A causa de ataques cardíacos e AVCs geralmente são uma combinação de fatores de risco, como o uso de tabaco, dietas inadequadas e obesidade, sedentarismo e o uso nocivo do álcool, hipertensão, diabetes e hiperlipidemia.\n",
        "\n",
        "<center><img src=\"https://github.com/mazzidougs/HeartDisease/blob/main/jesse-orrico-Us3AQvyOP-o-unsplash%20(1).jpg?raw=true\"></center>\n",
        "\n",
        "Apesar de ser uma das principais causas de morte em todo o mundo, estima-se que cerca de 90% das doenças cardiovasculares poderiam ser evitadas por meio da adoção de algumas medidas e mudanças no estilo de vida.\n",
        "\n",
        "Existem hoje várias pesquisas na área de *Machine Learning* visando a construções de modelos preditivos que ajudem os médicos a descobrirem doenças cardiovasculares em seus pacientes.\n",
        "\n",
        "Estudos publicados na revista *na revista Nature Biomedical Engineering* mostram que algoritmos de *Deep Learning* foram capazes de antecipar doenças cardíacas em até 5 anos.\n",
        "\n",
        "Definitivamente, o uso de Inteligência Artificial tem impactado profundamente a área da saúde, e tem proporcionado aos profissionais médicos insumos de inteligência cada vez mais precisos.\n",
        "\n"
      ]
    },
    {
      "cell_type": "markdown",
      "metadata": {
        "id": "F3XPABqpLFOX"
      },
      "source": [
        "## Obtenção dos Dados\n",
        "\n",
        "O conjunto principal de dados usado neste projeto foi coletado da ***Cleveland Clinic Foundation*** e se encontra disponível no conhecido [Repositório UCI *Machine Learning*](https://archive.ics.uci.edu/ml/datasets/heart+Disease). Podemos ressaltar que os nomes, identidade e documentos pessoais dos pacientes foram removidos completamente do banco de dados.\n",
        "\n",
        "O *dataset* processado contém dados de 1025 pessoas e 76 atributos. Entretanto, os principais artigos e estudos publicados optaram por usar apenas 14 atributos, considerados de maior relevância. Da mesma maneira, este projeto de *Data Science* usará essas mesmas 14 variáveis principais.\n",
        "\n",
        "* O arquivo `csv` com os dados de 1025 pessoas e 14 atributos pode ser baixado [neste link](https://raw.githubusercontent.com/mazzidougs/HeartDisease/main/dataset_1025).\n",
        "\n",
        "* O arquivo contendo todos os detalhes e documentação do *dataset* usado neste projeto se encontra [neste link](https://raw.githubusercontent.com/mazzidougs/HeartDisease/main/heart-diseases.names).\n",
        "\n",
        "* Há ainda um *dataset* secundário que será utilizado para ver a evolução no número de mortes por doenças cardiovasculares no Brasil (entre os anos de 2004-2017). Esses dados foram disponibilizados pela [Sociedade Brasileira de Cardiologia](http://www.cardiometro.com.br/anteriores.asp), e podem ser baixados [neste link](https://raw.githubusercontent.com/mazzidougs/HeartDisease/main/dataset_amount).\n",
        "\n"
      ]
    },
    {
      "cell_type": "markdown",
      "metadata": {
        "id": "JTJNji8-CFbX"
      },
      "source": [
        "### Informações sobre os atributos:\n",
        "\n",
        "\n",
        "* `age` - idade em anos\n",
        "* `sex` - sexo do paciente\n",
        "  * 0: mulher\n",
        "  * 1: homem\n",
        "* `cp` - tipo da dor torácica\n",
        "  * 1: angina típica\n",
        "  * 2: angina atípica\n",
        "  * 3: dor não cardíaca\n",
        "  * 4: assintomática\n",
        "* `trestbps` - pressão arterial em repouso\n",
        "* `chol` - colesterol sérico (*mg/dl*)\n",
        "* `fbs` - açucar no sangue em jejum > 120*mg/dl*\n",
        "  * 0: `False`\n",
        "  * 1: `True`\n",
        "* `restecg` - resultado do eletrocardiografia de repouso\n",
        "  * 0: normal\n",
        "  * 1: anormalidades de ST-T  (inversão da onda T e elevação ou depressão de > 0.05*mV*)\n",
        "  * 2: hipertrofia ventricular esquerda provável ou definitiva (pelos critérios de Romhilt-Estes)\n",
        "* `thalach` - frequência cardíaca máxima atingida\n",
        "* `exang` - angina induzida pelo exercício\n",
        "  * 0: não\n",
        "  * 1: sim\n",
        "* `oldpeak` - depressão do segmento ST induzida pelo exercício em relação ao repouso\n",
        "* `slope` - inclinação do segmento ST no pico do exercício\n",
        "* `ca` - número de vasos principais colorido por fluoroscopia\n",
        "* `thal` - Teste de estresse cardíaco\n",
        "  * 3: normal\n",
        "  * 6: defeito fixo\n",
        "  * 7: defeito reversível\n",
        "* `num` - diagnóstico de doença cardíaca (diagnóstico angiográfico)\n",
        "  * 0: não há doença cardíaca ( < 50% de estreitamento do diâmetro)\n",
        "  * 1: há doença cardíaca ( > 50% de estreitamento do diâmetro)"
      ]
    },
    {
      "cell_type": "markdown",
      "metadata": {
        "id": "TjJW1eAGoH7Y"
      },
      "source": [
        "### Importar os Dados\n",
        "\n",
        "Em uma etapa inicial, importaremos os dois *datasets* mencionados no início do *notebook*:\n",
        "\n",
        "* Um contendo os dados relacionados às doenças cardiovasculares (1025 pessoas e 14 atributos); e\n",
        "* Um contendo os dados da mortalidade no Brasil por doenças cardiovasculares."
      ]
    },
    {
      "cell_type": "code",
      "metadata": {
        "id": "lr_gI2RzC8EW",
        "cellView": "both"
      },
      "source": [
        "# importar as bibliotecas necessárias\n",
        "import pandas as pd\n",
        "import matplotlib.pyplot as plt\n",
        "#import numpy as np\n",
        "import seaborn as sns\n",
        "\n",
        "# url dos datasets\n",
        "dataset_uci = \"https://raw.githubusercontent.com/mazzidougs/HeartDisease/main/dataset_1025\"\n",
        "dataset_brasil = \"https://raw.githubusercontent.com/mazzidougs/HeartDisease/main/dataset_amount\"\n",
        "\n",
        "# importar dataset da UCI\n",
        "df = pd.read_csv(dataset_uci)\n",
        "\n",
        "# importar dataset dos indíces do Brasil\n",
        "df_brasil = pd.read_csv(dataset_brasil)"
      ],
      "execution_count": null,
      "outputs": []
    },
    {
      "cell_type": "markdown",
      "source": [
        "# Análise exploratória\n",
        "\n",
        "Esta é uma etapa muito importante de nosso processo para nos situarmos em relação ao dataset que iremos trabalhar, aqui veremos o tamanho de nosso df, uma descrição estatística, tipos de nossas variáveis, verificaremos quantas pessoas possuem doença ou não dado o df, contaremos os valores ausentes e plotaremos alguns gráficos.\n",
        "  "
      ],
      "metadata": {
        "id": "pOPoRR4mlwrX"
      }
    },
    {
      "cell_type": "markdown",
      "source": [
        "Verificando o tamanho de nosso dataframe:\n"
      ],
      "metadata": {
        "id": "pYD0eH2Zl5WK"
      }
    },
    {
      "cell_type": "code",
      "metadata": {
        "id": "mEBOowAIb7cg",
        "colab": {
          "base_uri": "https://localhost:8080/"
        },
        "outputId": "2b8c7553-05c5-4191-d823-59b256a45763"
      },
      "source": [
        "print(\"Forma dos dados\")\n",
        "print(\"Linhas:\\t\\t\",df.shape[0])\n",
        "print(\"Colunas:\\t\",df.shape[1])"
      ],
      "execution_count": null,
      "outputs": [
        {
          "output_type": "stream",
          "name": "stdout",
          "text": [
            "Forma dos dados\n",
            "Linhas:\t\t 1025\n",
            "Colunas:\t 14\n"
          ]
        }
      ]
    },
    {
      "cell_type": "markdown",
      "source": [
        "Descrição estatística:"
      ],
      "metadata": {
        "id": "UwRt_Rwjn5ft"
      }
    },
    {
      "cell_type": "code",
      "source": [
        "df.describe()"
      ],
      "metadata": {
        "colab": {
          "base_uri": "https://localhost:8080/",
          "height": 344
        },
        "id": "I5gyTsf5D1KP",
        "outputId": "d70c4533-592c-4198-83e4-e4307c3b08b6"
      },
      "execution_count": null,
      "outputs": [
        {
          "output_type": "execute_result",
          "data": {
            "text/plain": [
              "               age          sex           cp     trestbps        chol  \\\n",
              "count  1025.000000  1025.000000  1025.000000  1025.000000  1025.00000   \n",
              "mean     54.434146     0.695610     0.942439   131.611707   246.00000   \n",
              "std       9.072290     0.460373     1.029641    17.516718    51.59251   \n",
              "min      29.000000     0.000000     0.000000    94.000000   126.00000   \n",
              "25%      48.000000     0.000000     0.000000   120.000000   211.00000   \n",
              "50%      56.000000     1.000000     1.000000   130.000000   240.00000   \n",
              "75%      61.000000     1.000000     2.000000   140.000000   275.00000   \n",
              "max      77.000000     1.000000     3.000000   200.000000   564.00000   \n",
              "\n",
              "               fbs      restecg      thalach        exang      oldpeak  \\\n",
              "count  1025.000000  1025.000000  1025.000000  1025.000000  1025.000000   \n",
              "mean      0.149268     0.529756   149.114146     0.336585     1.071512   \n",
              "std       0.356527     0.527878    23.005724     0.472772     1.175053   \n",
              "min       0.000000     0.000000    71.000000     0.000000     0.000000   \n",
              "25%       0.000000     0.000000   132.000000     0.000000     0.000000   \n",
              "50%       0.000000     1.000000   152.000000     0.000000     0.800000   \n",
              "75%       0.000000     1.000000   166.000000     1.000000     1.800000   \n",
              "max       1.000000     2.000000   202.000000     1.000000     6.200000   \n",
              "\n",
              "             slope           ca         thal       target  \n",
              "count  1025.000000  1025.000000  1025.000000  1025.000000  \n",
              "mean      1.385366     0.754146     2.323902     0.513171  \n",
              "std       0.617755     1.030798     0.620660     0.500070  \n",
              "min       0.000000     0.000000     0.000000     0.000000  \n",
              "25%       1.000000     0.000000     2.000000     0.000000  \n",
              "50%       1.000000     0.000000     2.000000     1.000000  \n",
              "75%       2.000000     1.000000     3.000000     1.000000  \n",
              "max       2.000000     4.000000     3.000000     1.000000  "
            ],
            "text/html": [
              "\n",
              "  <div id=\"df-8181e16e-201a-448f-b70a-8a07f4ed20f6\">\n",
              "    <div class=\"colab-df-container\">\n",
              "      <div>\n",
              "<style scoped>\n",
              "    .dataframe tbody tr th:only-of-type {\n",
              "        vertical-align: middle;\n",
              "    }\n",
              "\n",
              "    .dataframe tbody tr th {\n",
              "        vertical-align: top;\n",
              "    }\n",
              "\n",
              "    .dataframe thead th {\n",
              "        text-align: right;\n",
              "    }\n",
              "</style>\n",
              "<table border=\"1\" class=\"dataframe\">\n",
              "  <thead>\n",
              "    <tr style=\"text-align: right;\">\n",
              "      <th></th>\n",
              "      <th>age</th>\n",
              "      <th>sex</th>\n",
              "      <th>cp</th>\n",
              "      <th>trestbps</th>\n",
              "      <th>chol</th>\n",
              "      <th>fbs</th>\n",
              "      <th>restecg</th>\n",
              "      <th>thalach</th>\n",
              "      <th>exang</th>\n",
              "      <th>oldpeak</th>\n",
              "      <th>slope</th>\n",
              "      <th>ca</th>\n",
              "      <th>thal</th>\n",
              "      <th>target</th>\n",
              "    </tr>\n",
              "  </thead>\n",
              "  <tbody>\n",
              "    <tr>\n",
              "      <th>count</th>\n",
              "      <td>1025.000000</td>\n",
              "      <td>1025.000000</td>\n",
              "      <td>1025.000000</td>\n",
              "      <td>1025.000000</td>\n",
              "      <td>1025.00000</td>\n",
              "      <td>1025.000000</td>\n",
              "      <td>1025.000000</td>\n",
              "      <td>1025.000000</td>\n",
              "      <td>1025.000000</td>\n",
              "      <td>1025.000000</td>\n",
              "      <td>1025.000000</td>\n",
              "      <td>1025.000000</td>\n",
              "      <td>1025.000000</td>\n",
              "      <td>1025.000000</td>\n",
              "    </tr>\n",
              "    <tr>\n",
              "      <th>mean</th>\n",
              "      <td>54.434146</td>\n",
              "      <td>0.695610</td>\n",
              "      <td>0.942439</td>\n",
              "      <td>131.611707</td>\n",
              "      <td>246.00000</td>\n",
              "      <td>0.149268</td>\n",
              "      <td>0.529756</td>\n",
              "      <td>149.114146</td>\n",
              "      <td>0.336585</td>\n",
              "      <td>1.071512</td>\n",
              "      <td>1.385366</td>\n",
              "      <td>0.754146</td>\n",
              "      <td>2.323902</td>\n",
              "      <td>0.513171</td>\n",
              "    </tr>\n",
              "    <tr>\n",
              "      <th>std</th>\n",
              "      <td>9.072290</td>\n",
              "      <td>0.460373</td>\n",
              "      <td>1.029641</td>\n",
              "      <td>17.516718</td>\n",
              "      <td>51.59251</td>\n",
              "      <td>0.356527</td>\n",
              "      <td>0.527878</td>\n",
              "      <td>23.005724</td>\n",
              "      <td>0.472772</td>\n",
              "      <td>1.175053</td>\n",
              "      <td>0.617755</td>\n",
              "      <td>1.030798</td>\n",
              "      <td>0.620660</td>\n",
              "      <td>0.500070</td>\n",
              "    </tr>\n",
              "    <tr>\n",
              "      <th>min</th>\n",
              "      <td>29.000000</td>\n",
              "      <td>0.000000</td>\n",
              "      <td>0.000000</td>\n",
              "      <td>94.000000</td>\n",
              "      <td>126.00000</td>\n",
              "      <td>0.000000</td>\n",
              "      <td>0.000000</td>\n",
              "      <td>71.000000</td>\n",
              "      <td>0.000000</td>\n",
              "      <td>0.000000</td>\n",
              "      <td>0.000000</td>\n",
              "      <td>0.000000</td>\n",
              "      <td>0.000000</td>\n",
              "      <td>0.000000</td>\n",
              "    </tr>\n",
              "    <tr>\n",
              "      <th>25%</th>\n",
              "      <td>48.000000</td>\n",
              "      <td>0.000000</td>\n",
              "      <td>0.000000</td>\n",
              "      <td>120.000000</td>\n",
              "      <td>211.00000</td>\n",
              "      <td>0.000000</td>\n",
              "      <td>0.000000</td>\n",
              "      <td>132.000000</td>\n",
              "      <td>0.000000</td>\n",
              "      <td>0.000000</td>\n",
              "      <td>1.000000</td>\n",
              "      <td>0.000000</td>\n",
              "      <td>2.000000</td>\n",
              "      <td>0.000000</td>\n",
              "    </tr>\n",
              "    <tr>\n",
              "      <th>50%</th>\n",
              "      <td>56.000000</td>\n",
              "      <td>1.000000</td>\n",
              "      <td>1.000000</td>\n",
              "      <td>130.000000</td>\n",
              "      <td>240.00000</td>\n",
              "      <td>0.000000</td>\n",
              "      <td>1.000000</td>\n",
              "      <td>152.000000</td>\n",
              "      <td>0.000000</td>\n",
              "      <td>0.800000</td>\n",
              "      <td>1.000000</td>\n",
              "      <td>0.000000</td>\n",
              "      <td>2.000000</td>\n",
              "      <td>1.000000</td>\n",
              "    </tr>\n",
              "    <tr>\n",
              "      <th>75%</th>\n",
              "      <td>61.000000</td>\n",
              "      <td>1.000000</td>\n",
              "      <td>2.000000</td>\n",
              "      <td>140.000000</td>\n",
              "      <td>275.00000</td>\n",
              "      <td>0.000000</td>\n",
              "      <td>1.000000</td>\n",
              "      <td>166.000000</td>\n",
              "      <td>1.000000</td>\n",
              "      <td>1.800000</td>\n",
              "      <td>2.000000</td>\n",
              "      <td>1.000000</td>\n",
              "      <td>3.000000</td>\n",
              "      <td>1.000000</td>\n",
              "    </tr>\n",
              "    <tr>\n",
              "      <th>max</th>\n",
              "      <td>77.000000</td>\n",
              "      <td>1.000000</td>\n",
              "      <td>3.000000</td>\n",
              "      <td>200.000000</td>\n",
              "      <td>564.00000</td>\n",
              "      <td>1.000000</td>\n",
              "      <td>2.000000</td>\n",
              "      <td>202.000000</td>\n",
              "      <td>1.000000</td>\n",
              "      <td>6.200000</td>\n",
              "      <td>2.000000</td>\n",
              "      <td>4.000000</td>\n",
              "      <td>3.000000</td>\n",
              "      <td>1.000000</td>\n",
              "    </tr>\n",
              "  </tbody>\n",
              "</table>\n",
              "</div>\n",
              "      <button class=\"colab-df-convert\" onclick=\"convertToInteractive('df-8181e16e-201a-448f-b70a-8a07f4ed20f6')\"\n",
              "              title=\"Convert this dataframe to an interactive table.\"\n",
              "              style=\"display:none;\">\n",
              "        \n",
              "  <svg xmlns=\"http://www.w3.org/2000/svg\" height=\"24px\"viewBox=\"0 0 24 24\"\n",
              "       width=\"24px\">\n",
              "    <path d=\"M0 0h24v24H0V0z\" fill=\"none\"/>\n",
              "    <path d=\"M18.56 5.44l.94 2.06.94-2.06 2.06-.94-2.06-.94-.94-2.06-.94 2.06-2.06.94zm-11 1L8.5 8.5l.94-2.06 2.06-.94-2.06-.94L8.5 2.5l-.94 2.06-2.06.94zm10 10l.94 2.06.94-2.06 2.06-.94-2.06-.94-.94-2.06-.94 2.06-2.06.94z\"/><path d=\"M17.41 7.96l-1.37-1.37c-.4-.4-.92-.59-1.43-.59-.52 0-1.04.2-1.43.59L10.3 9.45l-7.72 7.72c-.78.78-.78 2.05 0 2.83L4 21.41c.39.39.9.59 1.41.59.51 0 1.02-.2 1.41-.59l7.78-7.78 2.81-2.81c.8-.78.8-2.07 0-2.86zM5.41 20L4 18.59l7.72-7.72 1.47 1.35L5.41 20z\"/>\n",
              "  </svg>\n",
              "      </button>\n",
              "      \n",
              "  <style>\n",
              "    .colab-df-container {\n",
              "      display:flex;\n",
              "      flex-wrap:wrap;\n",
              "      gap: 12px;\n",
              "    }\n",
              "\n",
              "    .colab-df-convert {\n",
              "      background-color: #E8F0FE;\n",
              "      border: none;\n",
              "      border-radius: 50%;\n",
              "      cursor: pointer;\n",
              "      display: none;\n",
              "      fill: #1967D2;\n",
              "      height: 32px;\n",
              "      padding: 0 0 0 0;\n",
              "      width: 32px;\n",
              "    }\n",
              "\n",
              "    .colab-df-convert:hover {\n",
              "      background-color: #E2EBFA;\n",
              "      box-shadow: 0px 1px 2px rgba(60, 64, 67, 0.3), 0px 1px 3px 1px rgba(60, 64, 67, 0.15);\n",
              "      fill: #174EA6;\n",
              "    }\n",
              "\n",
              "    [theme=dark] .colab-df-convert {\n",
              "      background-color: #3B4455;\n",
              "      fill: #D2E3FC;\n",
              "    }\n",
              "\n",
              "    [theme=dark] .colab-df-convert:hover {\n",
              "      background-color: #434B5C;\n",
              "      box-shadow: 0px 1px 3px 1px rgba(0, 0, 0, 0.15);\n",
              "      filter: drop-shadow(0px 1px 2px rgba(0, 0, 0, 0.3));\n",
              "      fill: #FFFFFF;\n",
              "    }\n",
              "  </style>\n",
              "\n",
              "      <script>\n",
              "        const buttonEl =\n",
              "          document.querySelector('#df-8181e16e-201a-448f-b70a-8a07f4ed20f6 button.colab-df-convert');\n",
              "        buttonEl.style.display =\n",
              "          google.colab.kernel.accessAllowed ? 'block' : 'none';\n",
              "\n",
              "        async function convertToInteractive(key) {\n",
              "          const element = document.querySelector('#df-8181e16e-201a-448f-b70a-8a07f4ed20f6');\n",
              "          const dataTable =\n",
              "            await google.colab.kernel.invokeFunction('convertToInteractive',\n",
              "                                                     [key], {});\n",
              "          if (!dataTable) return;\n",
              "\n",
              "          const docLinkHtml = 'Like what you see? Visit the ' +\n",
              "            '<a target=\"_blank\" href=https://colab.research.google.com/notebooks/data_table.ipynb>data table notebook</a>'\n",
              "            + ' to learn more about interactive tables.';\n",
              "          element.innerHTML = '';\n",
              "          dataTable['output_type'] = 'display_data';\n",
              "          await google.colab.output.renderOutput(dataTable, element);\n",
              "          const docLink = document.createElement('div');\n",
              "          docLink.innerHTML = docLinkHtml;\n",
              "          element.appendChild(docLink);\n",
              "        }\n",
              "      </script>\n",
              "    </div>\n",
              "  </div>\n",
              "  "
            ]
          },
          "metadata": {},
          "execution_count": 13
        }
      ]
    },
    {
      "cell_type": "markdown",
      "source": [
        "Tipos dos atributos:"
      ],
      "metadata": {
        "id": "5ZsI7nOtP8w7"
      }
    },
    {
      "cell_type": "code",
      "source": [
        "#Para vermos os tipos de nossas variáveis, utilizamos o dtypes\n",
        "\n",
        "df.dtypes\n",
        "\n",
        "#podemos verificar que a maioria são do tipo float e apenas a váriavel num é do tipo inteiro\n",
        "#depois de mostrarmos nosso df, vemos que a váriavel \"num\" é binária, portanto assume o valor de 0 ou 1"
      ],
      "metadata": {
        "id": "mQYflqVCD5rN",
        "colab": {
          "base_uri": "https://localhost:8080/"
        },
        "outputId": "cf25c51a-7421-405f-db1c-242a2f333756"
      },
      "execution_count": null,
      "outputs": [
        {
          "output_type": "execute_result",
          "data": {
            "text/plain": [
              "age           int64\n",
              "sex           int64\n",
              "cp            int64\n",
              "trestbps      int64\n",
              "chol          int64\n",
              "fbs           int64\n",
              "restecg       int64\n",
              "thalach       int64\n",
              "exang         int64\n",
              "oldpeak     float64\n",
              "slope         int64\n",
              "ca            int64\n",
              "thal          int64\n",
              "target        int64\n",
              "dtype: object"
            ]
          },
          "metadata": {},
          "execution_count": 14
        }
      ]
    },
    {
      "cell_type": "code",
      "source": [
        "#Verificando as 5 primeiras entradas com head. Se colocarmos um parâmetro dentro dos parênteses, escolhemos a quantidade de itens a ser mostrados\n",
        "df.head()"
      ],
      "metadata": {
        "colab": {
          "base_uri": "https://localhost:8080/",
          "height": 206
        },
        "id": "cZWsi2Wkihcn",
        "outputId": "c2030591-00cf-42a6-a7b4-8146ff7c8936"
      },
      "execution_count": null,
      "outputs": [
        {
          "output_type": "execute_result",
          "data": {
            "text/plain": [
              "   age  sex  cp  trestbps  chol  fbs  restecg  thalach  exang  oldpeak  slope  \\\n",
              "0   52    1   0       125   212    0        1      168      0      1.0      2   \n",
              "1   53    1   0       140   203    1        0      155      1      3.1      0   \n",
              "2   70    1   0       145   174    0        1      125      1      2.6      0   \n",
              "3   61    1   0       148   203    0        1      161      0      0.0      2   \n",
              "4   62    0   0       138   294    1        1      106      0      1.9      1   \n",
              "\n",
              "   ca  thal  target  \n",
              "0   2     3       0  \n",
              "1   0     3       0  \n",
              "2   0     3       0  \n",
              "3   1     3       0  \n",
              "4   3     2       0  "
            ],
            "text/html": [
              "\n",
              "  <div id=\"df-986ad2ab-551a-43b0-875c-b1f78620dcea\">\n",
              "    <div class=\"colab-df-container\">\n",
              "      <div>\n",
              "<style scoped>\n",
              "    .dataframe tbody tr th:only-of-type {\n",
              "        vertical-align: middle;\n",
              "    }\n",
              "\n",
              "    .dataframe tbody tr th {\n",
              "        vertical-align: top;\n",
              "    }\n",
              "\n",
              "    .dataframe thead th {\n",
              "        text-align: right;\n",
              "    }\n",
              "</style>\n",
              "<table border=\"1\" class=\"dataframe\">\n",
              "  <thead>\n",
              "    <tr style=\"text-align: right;\">\n",
              "      <th></th>\n",
              "      <th>age</th>\n",
              "      <th>sex</th>\n",
              "      <th>cp</th>\n",
              "      <th>trestbps</th>\n",
              "      <th>chol</th>\n",
              "      <th>fbs</th>\n",
              "      <th>restecg</th>\n",
              "      <th>thalach</th>\n",
              "      <th>exang</th>\n",
              "      <th>oldpeak</th>\n",
              "      <th>slope</th>\n",
              "      <th>ca</th>\n",
              "      <th>thal</th>\n",
              "      <th>target</th>\n",
              "    </tr>\n",
              "  </thead>\n",
              "  <tbody>\n",
              "    <tr>\n",
              "      <th>0</th>\n",
              "      <td>52</td>\n",
              "      <td>1</td>\n",
              "      <td>0</td>\n",
              "      <td>125</td>\n",
              "      <td>212</td>\n",
              "      <td>0</td>\n",
              "      <td>1</td>\n",
              "      <td>168</td>\n",
              "      <td>0</td>\n",
              "      <td>1.0</td>\n",
              "      <td>2</td>\n",
              "      <td>2</td>\n",
              "      <td>3</td>\n",
              "      <td>0</td>\n",
              "    </tr>\n",
              "    <tr>\n",
              "      <th>1</th>\n",
              "      <td>53</td>\n",
              "      <td>1</td>\n",
              "      <td>0</td>\n",
              "      <td>140</td>\n",
              "      <td>203</td>\n",
              "      <td>1</td>\n",
              "      <td>0</td>\n",
              "      <td>155</td>\n",
              "      <td>1</td>\n",
              "      <td>3.1</td>\n",
              "      <td>0</td>\n",
              "      <td>0</td>\n",
              "      <td>3</td>\n",
              "      <td>0</td>\n",
              "    </tr>\n",
              "    <tr>\n",
              "      <th>2</th>\n",
              "      <td>70</td>\n",
              "      <td>1</td>\n",
              "      <td>0</td>\n",
              "      <td>145</td>\n",
              "      <td>174</td>\n",
              "      <td>0</td>\n",
              "      <td>1</td>\n",
              "      <td>125</td>\n",
              "      <td>1</td>\n",
              "      <td>2.6</td>\n",
              "      <td>0</td>\n",
              "      <td>0</td>\n",
              "      <td>3</td>\n",
              "      <td>0</td>\n",
              "    </tr>\n",
              "    <tr>\n",
              "      <th>3</th>\n",
              "      <td>61</td>\n",
              "      <td>1</td>\n",
              "      <td>0</td>\n",
              "      <td>148</td>\n",
              "      <td>203</td>\n",
              "      <td>0</td>\n",
              "      <td>1</td>\n",
              "      <td>161</td>\n",
              "      <td>0</td>\n",
              "      <td>0.0</td>\n",
              "      <td>2</td>\n",
              "      <td>1</td>\n",
              "      <td>3</td>\n",
              "      <td>0</td>\n",
              "    </tr>\n",
              "    <tr>\n",
              "      <th>4</th>\n",
              "      <td>62</td>\n",
              "      <td>0</td>\n",
              "      <td>0</td>\n",
              "      <td>138</td>\n",
              "      <td>294</td>\n",
              "      <td>1</td>\n",
              "      <td>1</td>\n",
              "      <td>106</td>\n",
              "      <td>0</td>\n",
              "      <td>1.9</td>\n",
              "      <td>1</td>\n",
              "      <td>3</td>\n",
              "      <td>2</td>\n",
              "      <td>0</td>\n",
              "    </tr>\n",
              "  </tbody>\n",
              "</table>\n",
              "</div>\n",
              "      <button class=\"colab-df-convert\" onclick=\"convertToInteractive('df-986ad2ab-551a-43b0-875c-b1f78620dcea')\"\n",
              "              title=\"Convert this dataframe to an interactive table.\"\n",
              "              style=\"display:none;\">\n",
              "        \n",
              "  <svg xmlns=\"http://www.w3.org/2000/svg\" height=\"24px\"viewBox=\"0 0 24 24\"\n",
              "       width=\"24px\">\n",
              "    <path d=\"M0 0h24v24H0V0z\" fill=\"none\"/>\n",
              "    <path d=\"M18.56 5.44l.94 2.06.94-2.06 2.06-.94-2.06-.94-.94-2.06-.94 2.06-2.06.94zm-11 1L8.5 8.5l.94-2.06 2.06-.94-2.06-.94L8.5 2.5l-.94 2.06-2.06.94zm10 10l.94 2.06.94-2.06 2.06-.94-2.06-.94-.94-2.06-.94 2.06-2.06.94z\"/><path d=\"M17.41 7.96l-1.37-1.37c-.4-.4-.92-.59-1.43-.59-.52 0-1.04.2-1.43.59L10.3 9.45l-7.72 7.72c-.78.78-.78 2.05 0 2.83L4 21.41c.39.39.9.59 1.41.59.51 0 1.02-.2 1.41-.59l7.78-7.78 2.81-2.81c.8-.78.8-2.07 0-2.86zM5.41 20L4 18.59l7.72-7.72 1.47 1.35L5.41 20z\"/>\n",
              "  </svg>\n",
              "      </button>\n",
              "      \n",
              "  <style>\n",
              "    .colab-df-container {\n",
              "      display:flex;\n",
              "      flex-wrap:wrap;\n",
              "      gap: 12px;\n",
              "    }\n",
              "\n",
              "    .colab-df-convert {\n",
              "      background-color: #E8F0FE;\n",
              "      border: none;\n",
              "      border-radius: 50%;\n",
              "      cursor: pointer;\n",
              "      display: none;\n",
              "      fill: #1967D2;\n",
              "      height: 32px;\n",
              "      padding: 0 0 0 0;\n",
              "      width: 32px;\n",
              "    }\n",
              "\n",
              "    .colab-df-convert:hover {\n",
              "      background-color: #E2EBFA;\n",
              "      box-shadow: 0px 1px 2px rgba(60, 64, 67, 0.3), 0px 1px 3px 1px rgba(60, 64, 67, 0.15);\n",
              "      fill: #174EA6;\n",
              "    }\n",
              "\n",
              "    [theme=dark] .colab-df-convert {\n",
              "      background-color: #3B4455;\n",
              "      fill: #D2E3FC;\n",
              "    }\n",
              "\n",
              "    [theme=dark] .colab-df-convert:hover {\n",
              "      background-color: #434B5C;\n",
              "      box-shadow: 0px 1px 3px 1px rgba(0, 0, 0, 0.15);\n",
              "      filter: drop-shadow(0px 1px 2px rgba(0, 0, 0, 0.3));\n",
              "      fill: #FFFFFF;\n",
              "    }\n",
              "  </style>\n",
              "\n",
              "      <script>\n",
              "        const buttonEl =\n",
              "          document.querySelector('#df-986ad2ab-551a-43b0-875c-b1f78620dcea button.colab-df-convert');\n",
              "        buttonEl.style.display =\n",
              "          google.colab.kernel.accessAllowed ? 'block' : 'none';\n",
              "\n",
              "        async function convertToInteractive(key) {\n",
              "          const element = document.querySelector('#df-986ad2ab-551a-43b0-875c-b1f78620dcea');\n",
              "          const dataTable =\n",
              "            await google.colab.kernel.invokeFunction('convertToInteractive',\n",
              "                                                     [key], {});\n",
              "          if (!dataTable) return;\n",
              "\n",
              "          const docLinkHtml = 'Like what you see? Visit the ' +\n",
              "            '<a target=\"_blank\" href=https://colab.research.google.com/notebooks/data_table.ipynb>data table notebook</a>'\n",
              "            + ' to learn more about interactive tables.';\n",
              "          element.innerHTML = '';\n",
              "          dataTable['output_type'] = 'display_data';\n",
              "          await google.colab.output.renderOutput(dataTable, element);\n",
              "          const docLink = document.createElement('div');\n",
              "          docLink.innerHTML = docLinkHtml;\n",
              "          element.appendChild(docLink);\n",
              "        }\n",
              "      </script>\n",
              "    </div>\n",
              "  </div>\n",
              "  "
            ]
          },
          "metadata": {},
          "execution_count": 15
        }
      ]
    },
    {
      "cell_type": "code",
      "source": [
        "#A nossa variável num diz respeito a quais pessoas possuem doença cardíaca ou não, podemos contar esses valores com value_counts\n",
        "\n",
        "df.target.value_counts()\n",
        "\n",
        "#após executarmos, observamos que 499 pessoas não possuem doenças cardíacas e 526 pessoas possuem"
      ],
      "metadata": {
        "colab": {
          "base_uri": "https://localhost:8080/"
        },
        "id": "n4GfwC3Ti-Nn",
        "outputId": "b92160f5-76d9-4da3-96db-720b1d1af0b5"
      },
      "execution_count": null,
      "outputs": [
        {
          "output_type": "execute_result",
          "data": {
            "text/plain": [
              "1    526\n",
              "0    499\n",
              "Name: target, dtype: int64"
            ]
          },
          "metadata": {},
          "execution_count": 16
        }
      ]
    },
    {
      "cell_type": "markdown",
      "source": [
        "Agora faremos uma etapa muito importante para a análise de nossos dados, verificaremos quais valores de nosso df são ausentes, para isso, usaremos o isnull."
      ],
      "metadata": {
        "id": "4A6siLsUPkU_"
      }
    },
    {
      "cell_type": "code",
      "source": [
        "df.isnull().sum()\n",
        "\n",
        "#adicionei o sum para a visualização dos valores ausentes ficar mais simples\n",
        "#depois de rodarmos a célula, podemos verificar que não possuimos valores ausentes em nosso df, o que é muito bom!"
      ],
      "metadata": {
        "colab": {
          "base_uri": "https://localhost:8080/"
        },
        "id": "CBULTItGjw0e",
        "outputId": "d770400f-4b67-442d-b3e3-8678942279a9"
      },
      "execution_count": null,
      "outputs": [
        {
          "output_type": "execute_result",
          "data": {
            "text/plain": [
              "age         0\n",
              "sex         0\n",
              "cp          0\n",
              "trestbps    0\n",
              "chol        0\n",
              "fbs         0\n",
              "restecg     0\n",
              "thalach     0\n",
              "exang       0\n",
              "oldpeak     0\n",
              "slope       0\n",
              "ca          0\n",
              "thal        0\n",
              "target      0\n",
              "dtype: int64"
            ]
          },
          "metadata": {},
          "execution_count": 17
        }
      ]
    },
    {
      "cell_type": "markdown",
      "source": [
        "## Verificando a existência de outliers"
      ],
      "metadata": {
        "id": "2fsCqeaKA6wL"
      }
    },
    {
      "cell_type": "code",
      "source": [
        "#Verificando outliers\n",
        "\n",
        "df.chol.plot(kind='box', vert=False, figsize=(15, 3))\n",
        "plt.show()"
      ],
      "metadata": {
        "colab": {
          "base_uri": "https://localhost:8080/",
          "height": 211
        },
        "id": "cEhIqpYc8QH2",
        "outputId": "df470ba7-98d9-4843-dacb-ee37e7d3dca7"
      },
      "execution_count": null,
      "outputs": [
        {
          "output_type": "display_data",
          "data": {
            "text/plain": [
              "<Figure size 1080x216 with 1 Axes>"
            ],
            "image/png": "[encoded data removed]"
          },
          "metadata": {
            "needs_background": "light"
          }
        }
      ]
    },
    {
      "cell_type": "code",
      "source": [
        "df.fbs.plot(kind='box', vert=False, figsize=(15, 3))\n",
        "plt.show()"
      ],
      "metadata": {
        "colab": {
          "base_uri": "https://localhost:8080/",
          "height": 211
        },
        "id": "wZMrj-y-DCMA",
        "outputId": "62e91746-d692-45a7-c980-f63d3edfd6d6"
      },
      "execution_count": null,
      "outputs": [
        {
          "output_type": "display_data",
          "data": {
            "text/plain": [
              "<Figure size 1080x216 with 1 Axes>"
            ],
            "image/png": "[encoded data removed]"
          },
          "metadata": {
            "needs_background": "light"
          }
        }
      ]
    },
    {
      "cell_type": "code",
      "source": [
        "for column in df:\n",
        "    plt.figure()\n",
        "    df.boxplot([column])"
      ],
      "metadata": {
        "colab": {
          "base_uri": "https://localhost:8080/",
          "height": 1000
        },
        "id": "oK9vIuzKAyZU",
        "outputId": "a9647474-386c-4e8d-eef6-1ad6dde56078"
      },
      "execution_count": null,
      "outputs": [
        {
          "output_type": "display_data",
          "data": {
            "text/plain": [
              "<Figure size 432x288 with 1 Axes>"
            ],
            "image/png": "[encoded data removed]"
          },
          "metadata": {
            "needs_background": "light"
          }
        },
        {
          "output_type": "display_data",
          "data": {
            "text/plain": [
              "<Figure size 432x288 with 1 Axes>"
            ],
            "image/png": "[encoded data removed]"
          },
          "metadata": {
            "needs_background": "light"
          }
        },
        {
          "output_type": "display_data",
          "data": {
            "text/plain": [
              "<Figure size 432x288 with 1 Axes>"
            ],
            "image/png": "[encoded data removed]"
          },
          "metadata": {
            "needs_background": "light"
          }
        },
        {
          "output_type": "display_data",
          "data": {
            "text/plain": [
              "<Figure size 432x288 with 1 Axes>"
            ],
            "image/png": "[encoded data removed]"
          },
          "metadata": {
            "needs_background": "light"
          }
        },
        {
          "output_type": "display_data",
          "data": {
            "text/plain": [
              "<Figure size 432x288 with 1 Axes>"
            ],
            "image/png": "[encoded data removed]"
          },
          "metadata": {
            "needs_background": "light"
          }
        },
        {
          "output_type": "display_data",
          "data": {
            "text/plain": [
              "<Figure size 432x288 with 1 Axes>"
            ],
            "image/png": "[encoded data removed]"
          },
          "metadata": {
            "needs_background": "light"
          }
        },
        {
          "output_type": "display_data",
          "data": {
            "text/plain": [
              "<Figure size 432x288 with 1 Axes>"
            ],
            "image/png": "[encoded data removed]"
          },
          "metadata": {
            "needs_background": "light"
          }
        },
        {
          "output_type": "display_data",
          "data": {
            "text/plain": [
              "<Figure size 432x288 with 1 Axes>"
            ],
            "image/png": "[encoded data removed]"
          },
          "metadata": {
            "needs_background": "light"
          }
        },
        {
          "output_type": "display_data",
          "data": {
            "text/plain": [
              "<Figure size 432x288 with 1 Axes>"
            ],
            "image/png": "[encoded data removed]"
          },
          "metadata": {
            "needs_background": "light"
          }
        },
        {
          "output_type": "display_data",
          "data": {
            "text/plain": [
              "<Figure size 432x288 with 1 Axes>"
            ],
            "image/png": "[encoded data removed]"
          },
          "metadata": {
            "needs_background": "light"
          }
        },
        {
          "output_type": "display_data",
          "data": {
            "text/plain": [
              "<Figure size 432x288 with 1 Axes>"
            ],
            "image/png": "[encoded data removed]"
          },
          "metadata": {
            "needs_background": "light"
          }
        },
        {
          "output_type": "display_data",
          "data": {
            "text/plain": [
              "<Figure size 432x288 with 1 Axes>"
            ],
            "image/png": "[encoded data removed]"
          },
          "metadata": {
            "needs_background": "light"
          }
        },
        {
          "output_type": "display_data",
          "data": {
            "text/plain": [
              "<Figure size 432x288 with 1 Axes>"
            ],
            "image/png": "[encoded data removed]"
          },
          "metadata": {
            "needs_background": "light"
          }
        },
        {
          "output_type": "display_data",
          "data": {
            "text/plain": [
              "<Figure size 432x288 with 1 Axes>"
            ],
            "image/png": "[encoded data removed]"
          },
          "metadata": {
            "needs_background": "light"
          }
        }
      ]
    },
    {
      "cell_type": "code",
      "source": [
        "df.fbs.value_counts()"
      ],
      "metadata": {
        "id": "JUM7FJU4L710",
        "outputId": "73f6d8b4-04d6-421e-fd39-5a94eb64ccd6",
        "colab": {
          "base_uri": "https://localhost:8080/"
        }
      },
      "execution_count": null,
      "outputs": [
        {
          "output_type": "execute_result",
          "data": {
            "text/plain": [
              "0    872\n",
              "1    153\n",
              "Name: fbs, dtype: int64"
            ]
          },
          "metadata": {},
          "execution_count": 20
        }
      ]
    },
    {
      "cell_type": "code",
      "source": [
        "#eliminando outliers\n",
        "\n",
        "#chol\n",
        "df_clean = df.copy()\n",
        "df_clean.drop(df_clean[df_clean.chol > 380].index, axis=0, inplace=True)\n",
        "\n",
        "#trestbps\n",
        "df_clean.drop(df_clean[df_clean.trestbps > 170].index, axis=0, inplace=True)\n",
        "\n",
        "#thalach\n",
        "df_clean.drop(df_clean[df_clean.thalach < 80].index, axis=0, inplace=True)\n",
        "\n",
        "#oldpeak\n",
        "df_clean.drop(df_clean[df_clean.oldpeak > 5].index, axis=0, inplace=True)\n",
        "\n",
        "#ca\n",
        "df_clean.drop(df_clean[df_clean.ca > 2.5].index, axis=0, inplace=True)\n",
        "\n",
        "#thal\n",
        "df_clean.drop(df_clean[df_clean.thal < 1].index, axis=0, inplace=True)\n"
      ],
      "metadata": {
        "id": "k1zJT2_T88Sa"
      },
      "execution_count": null,
      "outputs": []
    },
    {
      "cell_type": "code",
      "source": [
        "print(\"Forma dos dados\")\n",
        "print(\"Linhas:\\t\\t\",df_clean.shape[0])\n",
        "print(\"Colunas:\\t\",df_clean.shape[1])"
      ],
      "metadata": {
        "colab": {
          "base_uri": "https://localhost:8080/"
        },
        "id": "03i7PwKCkR3H",
        "outputId": "de3fa34b-8bb1-4a1d-df4c-e044732db67b"
      },
      "execution_count": null,
      "outputs": [
        {
          "output_type": "stream",
          "name": "stdout",
          "text": [
            "Forma dos dados\n",
            "Linhas:\t\t 881\n",
            "Colunas:\t 14\n"
          ]
        }
      ]
    },
    {
      "cell_type": "code",
      "source": [
        "df_clean.chol.plot(kind='box', vert=False, figsize=(15, 3))\n",
        "plt.show()"
      ],
      "metadata": {
        "colab": {
          "base_uri": "https://localhost:8080/",
          "height": 211
        },
        "id": "TSPwl5zL9j5Y",
        "outputId": "5db7feef-27c6-484f-8424-957e0ef80ed5"
      },
      "execution_count": null,
      "outputs": [
        {
          "output_type": "display_data",
          "data": {
            "text/plain": [
              "<Figure size 1080x216 with 1 Axes>"
            ],
            "image/png": "[encoded data removed]"
          },
          "metadata": {
            "needs_background": "light"
          }
        }
      ]
    },
    {
      "cell_type": "code",
      "source": [
        "df_clean.trestbps.plot(kind='box', vert=False, figsize=(15, 3))\n",
        "plt.show()"
      ],
      "metadata": {
        "colab": {
          "base_uri": "https://localhost:8080/",
          "height": 211
        },
        "id": "1vpsrWz7BVKN",
        "outputId": "b9db7c84-07a6-40fb-f337-fd89ef986d1c"
      },
      "execution_count": null,
      "outputs": [
        {
          "output_type": "display_data",
          "data": {
            "text/plain": [
              "<Figure size 1080x216 with 1 Axes>"
            ],
            "image/png": "[encoded data removed]"
          },
          "metadata": {
            "needs_background": "light"
          }
        }
      ]
    },
    {
      "cell_type": "code",
      "source": [
        "for column in df_clean:\n",
        "    plt.figure()\n",
        "    df_clean.boxplot([column])"
      ],
      "metadata": {
        "colab": {
          "base_uri": "https://localhost:8080/",
          "height": 1000
        },
        "id": "pg1NAw7kCrRN",
        "outputId": "ec211a2f-15c3-46fa-c510-3ae4515c393a"
      },
      "execution_count": null,
      "outputs": [
        {
          "output_type": "display_data",
          "data": {
            "text/plain": [
              "<Figure size 432x288 with 1 Axes>"
            ],
            "image/png": "[encoded data removed]"
          },
          "metadata": {
            "needs_background": "light"
          }
        },
        {
          "output_type": "display_data",
          "data": {
            "text/plain": [
              "<Figure size 432x288 with 1 Axes>"
            ],
            "image/png": "[encoded data removed]"
          },
          "metadata": {
            "needs_background": "light"
          }
        },
        {
          "output_type": "display_data",
          "data": {
            "text/plain": [
              "<Figure size 432x288 with 1 Axes>"
            ],
            "image/png": "[encoded data removed]"
          },
          "metadata": {
            "needs_background": "light"
          }
        },
        {
          "output_type": "display_data",
          "data": {
            "text/plain": [
              "<Figure size 432x288 with 1 Axes>"
            ],
            "image/png": "[encoded data removed]"
          },
          "metadata": {
            "needs_background": "light"
          }
        },
        {
          "output_type": "display_data",
          "data": {
            "text/plain": [
              "<Figure size 432x288 with 1 Axes>"
            ],
            "image/png": "[encoded data removed]"
          },
          "metadata": {
            "needs_background": "light"
          }
        },
        {
          "output_type": "display_data",
          "data": {
            "text/plain": [
              "<Figure size 432x288 with 1 Axes>"
            ],
            "image/png": "[encoded data removed]"
          },
          "metadata": {
            "needs_background": "light"
          }
        },
        {
          "output_type": "display_data",
          "data": {
            "text/plain": [
              "<Figure size 432x288 with 1 Axes>"
            ],
            "image/png": "[encoded data removed]"
          },
          "metadata": {
            "needs_background": "light"
          }
        },
        {
          "output_type": "display_data",
          "data": {
            "text/plain": [
              "<Figure size 432x288 with 1 Axes>"
            ],
            "image/png": "[encoded data removed]"
          },
          "metadata": {
            "needs_background": "light"
          }
        },
        {
          "output_type": "display_data",
          "data": {
            "text/plain": [
              "<Figure size 432x288 with 1 Axes>"
            ],
            "image/png": "[encoded data removed]"
          },
          "metadata": {
            "needs_background": "light"
          }
        },
        {
          "output_type": "display_data",
          "data": {
            "text/plain": [
              "<Figure size 432x288 with 1 Axes>"
            ],
            "image/png": "[encoded data removed]"
          },
          "metadata": {
            "needs_background": "light"
          }
        },
        {
          "output_type": "display_data",
          "data": {
            "text/plain": [
              "<Figure size 432x288 with 1 Axes>"
            ],
            "image/png": "[encoded data removed]"
          },
          "metadata": {
            "needs_background": "light"
          }
        },
        {
          "output_type": "display_data",
          "data": {
            "text/plain": [
              "<Figure size 432x288 with 1 Axes>"
            ],
            "image/png": "[encoded data removed]"
          },
          "metadata": {
            "needs_background": "light"
          }
        },
        {
          "output_type": "display_data",
          "data": {
            "text/plain": [
              "<Figure size 432x288 with 1 Axes>"
            ],
            "image/png": "[encoded data removed]"
          },
          "metadata": {
            "needs_background": "light"
          }
        },
        {
          "output_type": "display_data",
          "data": {
            "text/plain": [
              "<Figure size 432x288 with 1 Axes>"
            ],
            "image/png": "[encoded data removed]"
          },
          "metadata": {
            "needs_background": "light"
          }
        }
      ]
    },
    {
      "cell_type": "code",
      "source": [
        "df_clean.describe()"
      ],
      "metadata": {
        "colab": {
          "base_uri": "https://localhost:8080/",
          "height": 300
        },
        "id": "GatIXqKHDvqY",
        "outputId": "a7c847bc-cbd8-4d45-9342-02026d49603b"
      },
      "execution_count": null,
      "outputs": [
        {
          "output_type": "execute_result",
          "data": {
            "text/plain": [
              "              age         sex          cp    trestbps        chol         fbs  \\\n",
              "count  881.000000  881.000000  881.000000  881.000000  881.000000  881.000000   \n",
              "mean    53.868331    0.699205    0.977299  129.459705  242.014756    0.127128   \n",
              "std      9.033946    0.458864    1.036573   15.389445   44.533807    0.333306   \n",
              "min     29.000000    0.000000    0.000000   94.000000  126.000000    0.000000   \n",
              "25%     46.000000    0.000000    0.000000  120.000000  209.000000    0.000000   \n",
              "50%     55.000000    1.000000    1.000000  130.000000  239.000000    0.000000   \n",
              "75%     60.000000    1.000000    2.000000  140.000000  270.000000    0.000000   \n",
              "max     76.000000    1.000000    3.000000  170.000000  360.000000    1.000000   \n",
              "\n",
              "          restecg     thalach       exang     oldpeak       slope          ca  \\\n",
              "count  881.000000  881.000000  881.000000  881.000000  881.000000  881.000000   \n",
              "mean     0.531215  150.568672    0.325766    0.983201    1.419977    0.528944   \n",
              "std      0.514993   22.558663    0.468927    1.053291    0.609217    0.727318   \n",
              "min      0.000000   88.000000    0.000000    0.000000    0.000000    0.000000   \n",
              "25%      0.000000  136.000000    0.000000    0.000000    1.000000    0.000000   \n",
              "50%      1.000000  154.000000    0.000000    0.600000    1.000000    0.000000   \n",
              "75%      1.000000  168.000000    1.000000    1.600000    2.000000    1.000000   \n",
              "max      2.000000  202.000000    1.000000    4.000000    2.000000    2.000000   \n",
              "\n",
              "             thal      target  \n",
              "count  881.000000  881.000000  \n",
              "mean     2.312145    0.545970  \n",
              "std      0.586941    0.498165  \n",
              "min      1.000000    0.000000  \n",
              "25%      2.000000    0.000000  \n",
              "50%      2.000000    1.000000  \n",
              "75%      3.000000    1.000000  \n",
              "max      3.000000    1.000000  "
            ],
            "text/html": [
              "\n",
              "  <div id=\"df-484f2cd2-619e-491f-b370-7af510e39b67\">\n",
              "    <div class=\"colab-df-container\">\n",
              "      <div>\n",
              "<style scoped>\n",
              "    .dataframe tbody tr th:only-of-type {\n",
              "        vertical-align: middle;\n",
              "    }\n",
              "\n",
              "    .dataframe tbody tr th {\n",
              "        vertical-align: top;\n",
              "    }\n",
              "\n",
              "    .dataframe thead th {\n",
              "        text-align: right;\n",
              "    }\n",
              "</style>\n",
              "<table border=\"1\" class=\"dataframe\">\n",
              "  <thead>\n",
              "    <tr style=\"text-align: right;\">\n",
              "      <th></th>\n",
              "      <th>age</th>\n",
              "      <th>sex</th>\n",
              "      <th>cp</th>\n",
              "      <th>trestbps</th>\n",
              "      <th>chol</th>\n",
              "      <th>fbs</th>\n",
              "      <th>restecg</th>\n",
              "      <th>thalach</th>\n",
              "      <th>exang</th>\n",
              "      <th>oldpeak</th>\n",
              "      <th>slope</th>\n",
              "      <th>ca</th>\n",
              "      <th>thal</th>\n",
              "      <th>target</th>\n",
              "    </tr>\n",
              "  </thead>\n",
              "  <tbody>\n",
              "    <tr>\n",
              "      <th>count</th>\n",
              "      <td>881.000000</td>\n",
              "      <td>881.000000</td>\n",
              "      <td>881.000000</td>\n",
              "      <td>881.000000</td>\n",
              "      <td>881.000000</td>\n",
              "      <td>881.000000</td>\n",
              "      <td>881.000000</td>\n",
              "      <td>881.000000</td>\n",
              "      <td>881.000000</td>\n",
              "      <td>881.000000</td>\n",
              "      <td>881.000000</td>\n",
              "      <td>881.000000</td>\n",
              "      <td>881.000000</td>\n",
              "      <td>881.000000</td>\n",
              "    </tr>\n",
              "    <tr>\n",
              "      <th>mean</th>\n",
              "      <td>53.868331</td>\n",
              "      <td>0.699205</td>\n",
              "      <td>0.977299</td>\n",
              "      <td>129.459705</td>\n",
              "      <td>242.014756</td>\n",
              "      <td>0.127128</td>\n",
              "      <td>0.531215</td>\n",
              "      <td>150.568672</td>\n",
              "      <td>0.325766</td>\n",
              "      <td>0.983201</td>\n",
              "      <td>1.419977</td>\n",
              "      <td>0.528944</td>\n",
              "      <td>2.312145</td>\n",
              "      <td>0.545970</td>\n",
              "    </tr>\n",
              "    <tr>\n",
              "      <th>std</th>\n",
              "      <td>9.033946</td>\n",
              "      <td>0.458864</td>\n",
              "      <td>1.036573</td>\n",
              "      <td>15.389445</td>\n",
              "      <td>44.533807</td>\n",
              "      <td>0.333306</td>\n",
              "      <td>0.514993</td>\n",
              "      <td>22.558663</td>\n",
              "      <td>0.468927</td>\n",
              "      <td>1.053291</td>\n",
              "      <td>0.609217</td>\n",
              "      <td>0.727318</td>\n",
              "      <td>0.586941</td>\n",
              "      <td>0.498165</td>\n",
              "    </tr>\n",
              "    <tr>\n",
              "      <th>min</th>\n",
              "      <td>29.000000</td>\n",
              "      <td>0.000000</td>\n",
              "      <td>0.000000</td>\n",
              "      <td>94.000000</td>\n",
              "      <td>126.000000</td>\n",
              "      <td>0.000000</td>\n",
              "      <td>0.000000</td>\n",
              "      <td>88.000000</td>\n",
              "      <td>0.000000</td>\n",
              "      <td>0.000000</td>\n",
              "      <td>0.000000</td>\n",
              "      <td>0.000000</td>\n",
              "      <td>1.000000</td>\n",
              "      <td>0.000000</td>\n",
              "    </tr>\n",
              "    <tr>\n",
              "      <th>25%</th>\n",
              "      <td>46.000000</td>\n",
              "      <td>0.000000</td>\n",
              "      <td>0.000000</td>\n",
              "      <td>120.000000</td>\n",
              "      <td>209.000000</td>\n",
              "      <td>0.000000</td>\n",
              "      <td>0.000000</td>\n",
              "      <td>136.000000</td>\n",
              "      <td>0.000000</td>\n",
              "      <td>0.000000</td>\n",
              "      <td>1.000000</td>\n",
              "      <td>0.000000</td>\n",
              "      <td>2.000000</td>\n",
              "      <td>0.000000</td>\n",
              "    </tr>\n",
              "    <tr>\n",
              "      <th>50%</th>\n",
              "      <td>55.000000</td>\n",
              "      <td>1.000000</td>\n",
              "      <td>1.000000</td>\n",
              "      <td>130.000000</td>\n",
              "      <td>239.000000</td>\n",
              "      <td>0.000000</td>\n",
              "      <td>1.000000</td>\n",
              "      <td>154.000000</td>\n",
              "      <td>0.000000</td>\n",
              "      <td>0.600000</td>\n",
              "      <td>1.000000</td>\n",
              "      <td>0.000000</td>\n",
              "      <td>2.000000</td>\n",
              "      <td>1.000000</td>\n",
              "    </tr>\n",
              "    <tr>\n",
              "      <th>75%</th>\n",
              "      <td>60.000000</td>\n",
              "      <td>1.000000</td>\n",
              "      <td>2.000000</td>\n",
              "      <td>140.000000</td>\n",
              "      <td>270.000000</td>\n",
              "      <td>0.000000</td>\n",
              "      <td>1.000000</td>\n",
              "      <td>168.000000</td>\n",
              "      <td>1.000000</td>\n",
              "      <td>1.600000</td>\n",
              "      <td>2.000000</td>\n",
              "      <td>1.000000</td>\n",
              "      <td>3.000000</td>\n",
              "      <td>1.000000</td>\n",
              "    </tr>\n",
              "    <tr>\n",
              "      <th>max</th>\n",
              "      <td>76.000000</td>\n",
              "      <td>1.000000</td>\n",
              "      <td>3.000000</td>\n",
              "      <td>170.000000</td>\n",
              "      <td>360.000000</td>\n",
              "      <td>1.000000</td>\n",
              "      <td>2.000000</td>\n",
              "      <td>202.000000</td>\n",
              "      <td>1.000000</td>\n",
              "      <td>4.000000</td>\n",
              "      <td>2.000000</td>\n",
              "      <td>2.000000</td>\n",
              "      <td>3.000000</td>\n",
              "      <td>1.000000</td>\n",
              "    </tr>\n",
              "  </tbody>\n",
              "</table>\n",
              "</div>\n",
              "      <button class=\"colab-df-convert\" onclick=\"convertToInteractive('df-484f2cd2-619e-491f-b370-7af510e39b67')\"\n",
              "              title=\"Convert this dataframe to an interactive table.\"\n",
              "              style=\"display:none;\">\n",
              "        \n",
              "  <svg xmlns=\"http://www.w3.org/2000/svg\" height=\"24px\"viewBox=\"0 0 24 24\"\n",
              "       width=\"24px\">\n",
              "    <path d=\"M0 0h24v24H0V0z\" fill=\"none\"/>\n",
              "    <path d=\"M18.56 5.44l.94 2.06.94-2.06 2.06-.94-2.06-.94-.94-2.06-.94 2.06-2.06.94zm-11 1L8.5 8.5l.94-2.06 2.06-.94-2.06-.94L8.5 2.5l-.94 2.06-2.06.94zm10 10l.94 2.06.94-2.06 2.06-.94-2.06-.94-.94-2.06-.94 2.06-2.06.94z\"/><path d=\"M17.41 7.96l-1.37-1.37c-.4-.4-.92-.59-1.43-.59-.52 0-1.04.2-1.43.59L10.3 9.45l-7.72 7.72c-.78.78-.78 2.05 0 2.83L4 21.41c.39.39.9.59 1.41.59.51 0 1.02-.2 1.41-.59l7.78-7.78 2.81-2.81c.8-.78.8-2.07 0-2.86zM5.41 20L4 18.59l7.72-7.72 1.47 1.35L5.41 20z\"/>\n",
              "  </svg>\n",
              "      </button>\n",
              "      \n",
              "  <style>\n",
              "    .colab-df-container {\n",
              "      display:flex;\n",
              "      flex-wrap:wrap;\n",
              "      gap: 12px;\n",
              "    }\n",
              "\n",
              "    .colab-df-convert {\n",
              "      background-color: #E8F0FE;\n",
              "      border: none;\n",
              "      border-radius: 50%;\n",
              "      cursor: pointer;\n",
              "      display: none;\n",
              "      fill: #1967D2;\n",
              "      height: 32px;\n",
              "      padding: 0 0 0 0;\n",
              "      width: 32px;\n",
              "    }\n",
              "\n",
              "    .colab-df-convert:hover {\n",
              "      background-color: #E2EBFA;\n",
              "      box-shadow: 0px 1px 2px rgba(60, 64, 67, 0.3), 0px 1px 3px 1px rgba(60, 64, 67, 0.15);\n",
              "      fill: #174EA6;\n",
              "    }\n",
              "\n",
              "    [theme=dark] .colab-df-convert {\n",
              "      background-color: #3B4455;\n",
              "      fill: #D2E3FC;\n",
              "    }\n",
              "\n",
              "    [theme=dark] .colab-df-convert:hover {\n",
              "      background-color: #434B5C;\n",
              "      box-shadow: 0px 1px 3px 1px rgba(0, 0, 0, 0.15);\n",
              "      filter: drop-shadow(0px 1px 2px rgba(0, 0, 0, 0.3));\n",
              "      fill: #FFFFFF;\n",
              "    }\n",
              "  </style>\n",
              "\n",
              "      <script>\n",
              "        const buttonEl =\n",
              "          document.querySelector('#df-484f2cd2-619e-491f-b370-7af510e39b67 button.colab-df-convert');\n",
              "        buttonEl.style.display =\n",
              "          google.colab.kernel.accessAllowed ? 'block' : 'none';\n",
              "\n",
              "        async function convertToInteractive(key) {\n",
              "          const element = document.querySelector('#df-484f2cd2-619e-491f-b370-7af510e39b67');\n",
              "          const dataTable =\n",
              "            await google.colab.kernel.invokeFunction('convertToInteractive',\n",
              "                                                     [key], {});\n",
              "          if (!dataTable) return;\n",
              "\n",
              "          const docLinkHtml = 'Like what you see? Visit the ' +\n",
              "            '<a target=\"_blank\" href=https://colab.research.google.com/notebooks/data_table.ipynb>data table notebook</a>'\n",
              "            + ' to learn more about interactive tables.';\n",
              "          element.innerHTML = '';\n",
              "          dataTable['output_type'] = 'display_data';\n",
              "          await google.colab.output.renderOutput(dataTable, element);\n",
              "          const docLink = document.createElement('div');\n",
              "          docLink.innerHTML = docLinkHtml;\n",
              "          element.appendChild(docLink);\n",
              "        }\n",
              "      </script>\n",
              "    </div>\n",
              "  </div>\n",
              "  "
            ]
          },
          "metadata": {},
          "execution_count": 27
        }
      ]
    },
    {
      "cell_type": "markdown",
      "source": [
        "##Verificando o crescimento de mortes por doenças cardíacas no Brasil\n",
        "\n",
        "Gráfico de linha para df_brasil:"
      ],
      "metadata": {
        "id": "zlCMujwHKqx4"
      }
    },
    {
      "cell_type": "code",
      "source": [
        "df_brasil.head(None)"
      ],
      "metadata": {
        "colab": {
          "base_uri": "https://localhost:8080/",
          "height": 488
        },
        "id": "lzQZQ5BzkpFT",
        "outputId": "3a72375f-8a99-4b68-f7fa-d3b044e80ca4"
      },
      "execution_count": null,
      "outputs": [
        {
          "output_type": "execute_result",
          "data": {
            "text/plain": [
              "     ano  mortes_doencas_cardio\n",
              "0   2017                383.961\n",
              "1   2016                362.091\n",
              "2   2015                349.584\n",
              "3   2014                340.284\n",
              "4   2013                339.672\n",
              "5   2012                333.295\n",
              "6   2011                335.213\n",
              "7   2010                326.371\n",
              "8   2009                320.074\n",
              "9   2008                317.797\n",
              "10  2007                308.466\n",
              "11  2006                302.817\n",
              "12  2005                283.927\n",
              "13  2004                285.543"
            ],
            "text/html": [
              "\n",
              "  <div id=\"df-ed000283-f7d7-4480-8abe-5fd4cc0a371f\">\n",
              "    <div class=\"colab-df-container\">\n",
              "      <div>\n",
              "<style scoped>\n",
              "    .dataframe tbody tr th:only-of-type {\n",
              "        vertical-align: middle;\n",
              "    }\n",
              "\n",
              "    .dataframe tbody tr th {\n",
              "        vertical-align: top;\n",
              "    }\n",
              "\n",
              "    .dataframe thead th {\n",
              "        text-align: right;\n",
              "    }\n",
              "</style>\n",
              "<table border=\"1\" class=\"dataframe\">\n",
              "  <thead>\n",
              "    <tr style=\"text-align: right;\">\n",
              "      <th></th>\n",
              "      <th>ano</th>\n",
              "      <th>mortes_doencas_cardio</th>\n",
              "    </tr>\n",
              "  </thead>\n",
              "  <tbody>\n",
              "    <tr>\n",
              "      <th>0</th>\n",
              "      <td>2017</td>\n",
              "      <td>383.961</td>\n",
              "    </tr>\n",
              "    <tr>\n",
              "      <th>1</th>\n",
              "      <td>2016</td>\n",
              "      <td>362.091</td>\n",
              "    </tr>\n",
              "    <tr>\n",
              "      <th>2</th>\n",
              "      <td>2015</td>\n",
              "      <td>349.584</td>\n",
              "    </tr>\n",
              "    <tr>\n",
              "      <th>3</th>\n",
              "      <td>2014</td>\n",
              "      <td>340.284</td>\n",
              "    </tr>\n",
              "    <tr>\n",
              "      <th>4</th>\n",
              "      <td>2013</td>\n",
              "      <td>339.672</td>\n",
              "    </tr>\n",
              "    <tr>\n",
              "      <th>5</th>\n",
              "      <td>2012</td>\n",
              "      <td>333.295</td>\n",
              "    </tr>\n",
              "    <tr>\n",
              "      <th>6</th>\n",
              "      <td>2011</td>\n",
              "      <td>335.213</td>\n",
              "    </tr>\n",
              "    <tr>\n",
              "      <th>7</th>\n",
              "      <td>2010</td>\n",
              "      <td>326.371</td>\n",
              "    </tr>\n",
              "    <tr>\n",
              "      <th>8</th>\n",
              "      <td>2009</td>\n",
              "      <td>320.074</td>\n",
              "    </tr>\n",
              "    <tr>\n",
              "      <th>9</th>\n",
              "      <td>2008</td>\n",
              "      <td>317.797</td>\n",
              "    </tr>\n",
              "    <tr>\n",
              "      <th>10</th>\n",
              "      <td>2007</td>\n",
              "      <td>308.466</td>\n",
              "    </tr>\n",
              "    <tr>\n",
              "      <th>11</th>\n",
              "      <td>2006</td>\n",
              "      <td>302.817</td>\n",
              "    </tr>\n",
              "    <tr>\n",
              "      <th>12</th>\n",
              "      <td>2005</td>\n",
              "      <td>283.927</td>\n",
              "    </tr>\n",
              "    <tr>\n",
              "      <th>13</th>\n",
              "      <td>2004</td>\n",
              "      <td>285.543</td>\n",
              "    </tr>\n",
              "  </tbody>\n",
              "</table>\n",
              "</div>\n",
              "      <button class=\"colab-df-convert\" onclick=\"convertToInteractive('df-ed000283-f7d7-4480-8abe-5fd4cc0a371f')\"\n",
              "              title=\"Convert this dataframe to an interactive table.\"\n",
              "              style=\"display:none;\">\n",
              "        \n",
              "  <svg xmlns=\"http://www.w3.org/2000/svg\" height=\"24px\"viewBox=\"0 0 24 24\"\n",
              "       width=\"24px\">\n",
              "    <path d=\"M0 0h24v24H0V0z\" fill=\"none\"/>\n",
              "    <path d=\"M18.56 5.44l.94 2.06.94-2.06 2.06-.94-2.06-.94-.94-2.06-.94 2.06-2.06.94zm-11 1L8.5 8.5l.94-2.06 2.06-.94-2.06-.94L8.5 2.5l-.94 2.06-2.06.94zm10 10l.94 2.06.94-2.06 2.06-.94-2.06-.94-.94-2.06-.94 2.06-2.06.94z\"/><path d=\"M17.41 7.96l-1.37-1.37c-.4-.4-.92-.59-1.43-.59-.52 0-1.04.2-1.43.59L10.3 9.45l-7.72 7.72c-.78.78-.78 2.05 0 2.83L4 21.41c.39.39.9.59 1.41.59.51 0 1.02-.2 1.41-.59l7.78-7.78 2.81-2.81c.8-.78.8-2.07 0-2.86zM5.41 20L4 18.59l7.72-7.72 1.47 1.35L5.41 20z\"/>\n",
              "  </svg>\n",
              "      </button>\n",
              "      \n",
              "  <style>\n",
              "    .colab-df-container {\n",
              "      display:flex;\n",
              "      flex-wrap:wrap;\n",
              "      gap: 12px;\n",
              "    }\n",
              "\n",
              "    .colab-df-convert {\n",
              "      background-color: #E8F0FE;\n",
              "      border: none;\n",
              "      border-radius: 50%;\n",
              "      cursor: pointer;\n",
              "      display: none;\n",
              "      fill: #1967D2;\n",
              "      height: 32px;\n",
              "      padding: 0 0 0 0;\n",
              "      width: 32px;\n",
              "    }\n",
              "\n",
              "    .colab-df-convert:hover {\n",
              "      background-color: #E2EBFA;\n",
              "      box-shadow: 0px 1px 2px rgba(60, 64, 67, 0.3), 0px 1px 3px 1px rgba(60, 64, 67, 0.15);\n",
              "      fill: #174EA6;\n",
              "    }\n",
              "\n",
              "    [theme=dark] .colab-df-convert {\n",
              "      background-color: #3B4455;\n",
              "      fill: #D2E3FC;\n",
              "    }\n",
              "\n",
              "    [theme=dark] .colab-df-convert:hover {\n",
              "      background-color: #434B5C;\n",
              "      box-shadow: 0px 1px 3px 1px rgba(0, 0, 0, 0.15);\n",
              "      filter: drop-shadow(0px 1px 2px rgba(0, 0, 0, 0.3));\n",
              "      fill: #FFFFFF;\n",
              "    }\n",
              "  </style>\n",
              "\n",
              "      <script>\n",
              "        const buttonEl =\n",
              "          document.querySelector('#df-ed000283-f7d7-4480-8abe-5fd4cc0a371f button.colab-df-convert');\n",
              "        buttonEl.style.display =\n",
              "          google.colab.kernel.accessAllowed ? 'block' : 'none';\n",
              "\n",
              "        async function convertToInteractive(key) {\n",
              "          const element = document.querySelector('#df-ed000283-f7d7-4480-8abe-5fd4cc0a371f');\n",
              "          const dataTable =\n",
              "            await google.colab.kernel.invokeFunction('convertToInteractive',\n",
              "                                                     [key], {});\n",
              "          if (!dataTable) return;\n",
              "\n",
              "          const docLinkHtml = 'Like what you see? Visit the ' +\n",
              "            '<a target=\"_blank\" href=https://colab.research.google.com/notebooks/data_table.ipynb>data table notebook</a>'\n",
              "            + ' to learn more about interactive tables.';\n",
              "          element.innerHTML = '';\n",
              "          dataTable['output_type'] = 'display_data';\n",
              "          await google.colab.output.renderOutput(dataTable, element);\n",
              "          const docLink = document.createElement('div');\n",
              "          docLink.innerHTML = docLinkHtml;\n",
              "          element.appendChild(docLink);\n",
              "        }\n",
              "      </script>\n",
              "    </div>\n",
              "  </div>\n",
              "  "
            ]
          },
          "metadata": {},
          "execution_count": 20
        }
      ]
    },
    {
      "cell_type": "code",
      "source": [
        "df_brasil.plot('ano', 'mortes_doencas_cardio', kind='line', xlabel='Ano', title='Mortes no Brasil', ylabel='Mortes (mil)')\n",
        "\n",
        "max_value = df_brasil.mortes_doencas_cardio.max()\n",
        "min_value = df_brasil.mortes_doencas_cardio.min()\n",
        "\n",
        "growth_rate = (max_value - min_value)/(max_value/100)\n",
        "print(growth_rate)\n",
        "print('\\n')"
      ],
      "metadata": {
        "id": "4Y4KL_VPkzZf",
        "colab": {
          "base_uri": "https://localhost:8080/",
          "height": 347
        },
        "outputId": "2f990242-0653-4ecc-8c0f-d4934c3b7c10"
      },
      "execution_count": null,
      "outputs": [
        {
          "output_type": "stream",
          "name": "stdout",
          "text": [
            "26.053166858092357\n",
            "\n",
            "\n"
          ]
        },
        {
          "output_type": "display_data",
          "data": {
            "text/plain": [
              "<Figure size 432x288 with 1 Axes>"
            ],
            "image/png": "[encoded data removed]"
          },
          "metadata": {
            "needs_background": "light"
          }
        }
      ]
    },
    {
      "cell_type": "markdown",
      "source": [
        "Após plotarmos o gráfico, notamos uma alta de 100.000 mortes no período de 2004 a 2016 e também uma taxa de crescimento de `26.05%` do ano de 2004 ao ano de 2017. \n"
      ],
      "metadata": {
        "id": "UhO1c4cOyUzW"
      }
    },
    {
      "cell_type": "markdown",
      "source": [
        "Agora começaremos uma análise em relação ao sexo dos pacientes."
      ],
      "metadata": {
        "id": "ZByvQR3gX1E0"
      }
    },
    {
      "cell_type": "code",
      "source": [
        "df.sex.value_counts()"
      ],
      "metadata": {
        "colab": {
          "base_uri": "https://localhost:8080/"
        },
        "id": "xXYi9QJxaoTH",
        "outputId": "e1c171d4-84a6-4c8d-b13b-471ece4749da"
      },
      "execution_count": null,
      "outputs": [
        {
          "output_type": "execute_result",
          "data": {
            "text/plain": [
              "1    713\n",
              "0    312\n",
              "Name: sex, dtype: int64"
            ]
          },
          "metadata": {},
          "execution_count": 152
        }
      ]
    },
    {
      "cell_type": "markdown",
      "source": [
        "Gênero dos pacientes:\n",
        "\n",
        "0 - Mulher;\n",
        "\n",
        "1 - Homem;\n",
        "\n",
        "Em relação à gênero, 713 pacientes são homens e 312 são mulheres. Vamos plotar um gráfico para visualizarmos a diferença.\n",
        "\n"
      ],
      "metadata": {
        "id": "aI7XPnoVsnxa"
      }
    },
    {
      "cell_type": "code",
      "source": [
        "x = df.sex.value_counts().index #aqui definimos os valores presentes no atríbuto 'sex' como indíce\n",
        "y = df.sex.value_counts().values #aqui definimos os valores presentes no atríbuto 'sex' com os valores presentes no df.sex\n",
        "\n",
        "fig, ax = plt.subplots()                       \n",
        "ax.bar(x, y, align='center', alpha=0.6)         \n",
        "ax.set_xticks(x)                               \n",
        "ax.set_xlabel('Gênero')                        \n",
        "ax.set_ylabel('Quantidade')                    \n",
        "ax.set_title('Gênero')                         \n",
        "plt.show()                                     "
      ],
      "metadata": {
        "colab": {
          "base_uri": "https://localhost:8080/",
          "height": 295
        },
        "id": "Zj8vNmp1acAi",
        "outputId": "6cf01d43-8ebc-43e5-de2e-ff2288aa33b4"
      },
      "execution_count": null,
      "outputs": [
        {
          "output_type": "display_data",
          "data": {
            "text/plain": [
              "<Figure size 432x288 with 1 Axes>"
            ],
            "image/png": "[encoded data removed]"
          },
          "metadata": {
            "needs_background": "light"
          }
        }
      ]
    },
    {
      "cell_type": "markdown",
      "source": [
        "Vamos ver a quantidade de homens e mulheres que possuem e não possuem doença cardiovascular.\n",
        "\n"
      ],
      "metadata": {
        "id": "QxM81SvXa5xJ"
      }
    },
    {
      "cell_type": "code",
      "source": [
        "((df[\"sex\"] == 0) & (df[\"target\"] == 0)).value_counts() \n",
        "# 86 pacientes são mulheres e não possuem doença cardíaca"
      ],
      "metadata": {
        "colab": {
          "base_uri": "https://localhost:8080/"
        },
        "id": "GuIQXdHUHuWc",
        "outputId": "a04902e2-45d5-4526-f836-05b0687aaf89"
      },
      "execution_count": null,
      "outputs": [
        {
          "output_type": "execute_result",
          "data": {
            "text/plain": [
              "False    939\n",
              "True      86\n",
              "dtype: int64"
            ]
          },
          "metadata": {},
          "execution_count": 154
        }
      ]
    },
    {
      "cell_type": "code",
      "source": [
        "((df[\"sex\"] == 0) & (df[\"target\"] == 1)).value_counts() \n",
        "# 226 pacientes são mulheres e possuem doença cardíaca"
      ],
      "metadata": {
        "colab": {
          "base_uri": "https://localhost:8080/"
        },
        "id": "qk7wLyt0akns",
        "outputId": "9c15c845-2cb0-4e57-9e84-c297536482ca"
      },
      "execution_count": null,
      "outputs": [
        {
          "output_type": "execute_result",
          "data": {
            "text/plain": [
              "False    799\n",
              "True     226\n",
              "dtype: int64"
            ]
          },
          "metadata": {},
          "execution_count": 155
        }
      ]
    },
    {
      "cell_type": "code",
      "source": [
        "((df[\"sex\"] == 1) & (df[\"target\"] == 0)).value_counts() \n",
        "# 413 pacientes são homens e não possuem doença cardíaca"
      ],
      "metadata": {
        "colab": {
          "base_uri": "https://localhost:8080/"
        },
        "id": "TBFrwGNNagiO",
        "outputId": "22d67682-7aa6-41da-aef3-a30b69c07b7a"
      },
      "execution_count": null,
      "outputs": [
        {
          "output_type": "execute_result",
          "data": {
            "text/plain": [
              "False    612\n",
              "True     413\n",
              "dtype: int64"
            ]
          },
          "metadata": {},
          "execution_count": 28
        }
      ]
    },
    {
      "cell_type": "code",
      "source": [
        "((df[\"sex\"] == 1) & (df[\"target\"] == 1)).value_counts() \n",
        "# 300 pacientes são homens e possuem doença cardíaca"
      ],
      "metadata": {
        "colab": {
          "base_uri": "https://localhost:8080/"
        },
        "id": "gKCA7Gtxadl7",
        "outputId": "33e960b0-7497-484c-9f4d-91a9defb1f4c"
      },
      "execution_count": null,
      "outputs": [
        {
          "output_type": "execute_result",
          "data": {
            "text/plain": [
              "False    725\n",
              "True     300\n",
              "dtype: int64"
            ]
          },
          "metadata": {},
          "execution_count": 157
        }
      ]
    },
    {
      "cell_type": "markdown",
      "source": [
        "Armazenando a quantidade de homens e mulheres em variáveis para efetuarmos o cálculo de porcentagem. "
      ],
      "metadata": {
        "id": "Mr9xlJ0JJ6K0"
      }
    },
    {
      "cell_type": "code",
      "source": [
        "women_amount = (df.sex == 0).sum() #soma de todas as mulheres\n",
        "women_amount_d = ((df[\"sex\"] == 0) & (df[\"target\"] == 1)).sum() #mulheres e cardiopatia\n",
        "\n",
        "men_amount = (df.sex == 1).sum() #soma de todos os homens\n",
        "men_amount_d = ((df[\"sex\"] == 1) & (df[\"target\"] == 1)).sum() #homens e cardiopatia"
      ],
      "metadata": {
        "id": "DtU34xIibSYg"
      },
      "execution_count": null,
      "outputs": []
    },
    {
      "cell_type": "markdown",
      "source": [
        "Aqui é calculada a porcentagem de homens e mulheres com doença cardiovascular."
      ],
      "metadata": {
        "id": "KO0oXrfoKHzj"
      }
    },
    {
      "cell_type": "code",
      "source": [
        "perc_women = (100*women_amount_d)/women_amount\n",
        "print(perc_women)\n",
        "\n",
        "perc_men = (100*men_amount_d)/men_amount\n",
        "print(perc_men)"
      ],
      "metadata": {
        "colab": {
          "base_uri": "https://localhost:8080/"
        },
        "id": "819u3h8zchKy",
        "outputId": "aa3bf873-c41e-4789-fc7d-134b834ed798"
      },
      "execution_count": null,
      "outputs": [
        {
          "output_type": "stream",
          "name": "stdout",
          "text": [
            "72.43589743589743\n",
            "42.07573632538569\n"
          ]
        }
      ]
    },
    {
      "cell_type": "markdown",
      "source": [
        "* Mulheres sem doença cardíaca: `86` \n",
        "* Mulheres com doença cardíaca: `226`\n",
        "\n",
        "* Homens sem doença cardíaca: `413`\n",
        "* Homens com doença cardíaca: `300`\n",
        "\n",
        "\n",
        "Após realizarmos essa análise, notamos que `72.44%` das mulheres  e `42.07%` dos homens possuem doença neste dataset. Esta porcentagem é explicada pela maior quantidade de homens."
      ],
      "metadata": {
        "id": "yWogQv2ZbElS"
      }
    },
    {
      "cell_type": "markdown",
      "source": [
        "Aqui vamos visualizar as correlações entre as variáveis e salvar na variável `corr`, seguindo a análise vamos plotar um mapa de calor para visualizarmos de maneira mais intuitiva e teremos uma explicação mais detalhada."
      ],
      "metadata": {
        "id": "V5P5vORatSEh"
      }
    },
    {
      "cell_type": "code",
      "source": [
        "corr = df_clean.corr(method='pearson')\n",
        "corr"
      ],
      "metadata": {
        "id": "UEuKw5aY-5RL",
        "colab": {
          "base_uri": "https://localhost:8080/",
          "height": 488
        },
        "outputId": "ca0ece97-5f2d-4965-a978-0e2abf32d846"
      },
      "execution_count": null,
      "outputs": [
        {
          "output_type": "execute_result",
          "data": {
            "text/plain": [
              "               age       sex        cp  trestbps      chol       fbs  \\\n",
              "age       1.000000 -0.076727 -0.029929  0.270502  0.139340  0.126709   \n",
              "sex      -0.076727  1.000000 -0.088434 -0.007914 -0.135913  0.042269   \n",
              "cp       -0.029929 -0.088434  1.000000  0.104658 -0.032413  0.133348   \n",
              "trestbps  0.270502 -0.007914  0.104658  1.000000  0.093535  0.131930   \n",
              "chol      0.139340 -0.135913 -0.032413  0.093535  1.000000 -0.003572   \n",
              "fbs       0.126709  0.042269  0.133348  0.131930 -0.003572  1.000000   \n",
              "restecg  -0.112204 -0.082846  0.063061 -0.145409 -0.120199 -0.102587   \n",
              "thalach  -0.386922 -0.062058  0.285036 -0.024030 -0.005068 -0.011742   \n",
              "exang     0.077735  0.176010 -0.384537 -0.028176  0.051355  0.011009   \n",
              "oldpeak   0.193139  0.158818 -0.145230  0.141590 -0.024029  0.026806   \n",
              "slope    -0.140255 -0.059780  0.087094 -0.054917  0.046054 -0.078558   \n",
              "ca        0.383488  0.089108 -0.214668  0.051552  0.093256  0.120744   \n",
              "thal      0.067981  0.247750 -0.190059 -0.013011  0.083555 -0.086900   \n",
              "target   -0.202676 -0.329678  0.404736 -0.084209 -0.096712 -0.014705   \n",
              "\n",
              "           restecg   thalach     exang   oldpeak     slope        ca  \\\n",
              "age      -0.112204 -0.386922  0.077735  0.193139 -0.140255  0.383488   \n",
              "sex      -0.082846 -0.062058  0.176010  0.158818 -0.059780  0.089108   \n",
              "cp        0.063061  0.285036 -0.384537 -0.145230  0.087094 -0.214668   \n",
              "trestbps -0.145409 -0.024030 -0.028176  0.141590 -0.054917  0.051552   \n",
              "chol     -0.120199 -0.005068  0.051355 -0.024029  0.046054  0.093256   \n",
              "fbs      -0.102587 -0.011742  0.011009  0.026806 -0.078558  0.120744   \n",
              "restecg   1.000000  0.069826 -0.086858 -0.088066  0.121157 -0.092671   \n",
              "thalach   0.069826  1.000000 -0.425204 -0.343713  0.382885 -0.244417   \n",
              "exang    -0.086858 -0.425204  1.000000  0.370695 -0.276588  0.197223   \n",
              "oldpeak  -0.088066 -0.343713  0.370695  1.000000 -0.523276  0.283956   \n",
              "slope     0.121157  0.382885 -0.276588 -0.523276  1.000000 -0.045418   \n",
              "ca       -0.092671 -0.244417  0.197223  0.283956 -0.045418  1.000000   \n",
              "thal      0.052316 -0.137952  0.241178  0.183665 -0.068307  0.126550   \n",
              "target    0.143892  0.402196 -0.431451 -0.444658  0.314488 -0.468636   \n",
              "\n",
              "              thal    target  \n",
              "age       0.067981 -0.202676  \n",
              "sex       0.247750 -0.329678  \n",
              "cp       -0.190059  0.404736  \n",
              "trestbps -0.013011 -0.084209  \n",
              "chol      0.083555 -0.096712  \n",
              "fbs      -0.086900 -0.014705  \n",
              "restecg   0.052316  0.143892  \n",
              "thalach  -0.137952  0.402196  \n",
              "exang     0.241178 -0.431451  \n",
              "oldpeak   0.183665 -0.444658  \n",
              "slope    -0.068307  0.314488  \n",
              "ca        0.126550 -0.468636  \n",
              "thal      1.000000 -0.389193  \n",
              "target   -0.389193  1.000000  "
            ],
            "text/html": [
              "\n",
              "  <div id=\"df-ff96a9c0-32bb-41ca-8cbe-b7127c8cfce4\">\n",
              "    <div class=\"colab-df-container\">\n",
              "      <div>\n",
              "<style scoped>\n",
              "    .dataframe tbody tr th:only-of-type {\n",
              "        vertical-align: middle;\n",
              "    }\n",
              "\n",
              "    .dataframe tbody tr th {\n",
              "        vertical-align: top;\n",
              "    }\n",
              "\n",
              "    .dataframe thead th {\n",
              "        text-align: right;\n",
              "    }\n",
              "</style>\n",
              "<table border=\"1\" class=\"dataframe\">\n",
              "  <thead>\n",
              "    <tr style=\"text-align: right;\">\n",
              "      <th></th>\n",
              "      <th>age</th>\n",
              "      <th>sex</th>\n",
              "      <th>cp</th>\n",
              "      <th>trestbps</th>\n",
              "      <th>chol</th>\n",
              "      <th>fbs</th>\n",
              "      <th>restecg</th>\n",
              "      <th>thalach</th>\n",
              "      <th>exang</th>\n",
              "      <th>oldpeak</th>\n",
              "      <th>slope</th>\n",
              "      <th>ca</th>\n",
              "      <th>thal</th>\n",
              "      <th>target</th>\n",
              "    </tr>\n",
              "  </thead>\n",
              "  <tbody>\n",
              "    <tr>\n",
              "      <th>age</th>\n",
              "      <td>1.000000</td>\n",
              "      <td>-0.076727</td>\n",
              "      <td>-0.029929</td>\n",
              "      <td>0.270502</td>\n",
              "      <td>0.139340</td>\n",
              "      <td>0.126709</td>\n",
              "      <td>-0.112204</td>\n",
              "      <td>-0.386922</td>\n",
              "      <td>0.077735</td>\n",
              "      <td>0.193139</td>\n",
              "      <td>-0.140255</td>\n",
              "      <td>0.383488</td>\n",
              "      <td>0.067981</td>\n",
              "      <td>-0.202676</td>\n",
              "    </tr>\n",
              "    <tr>\n",
              "      <th>sex</th>\n",
              "      <td>-0.076727</td>\n",
              "      <td>1.000000</td>\n",
              "      <td>-0.088434</td>\n",
              "      <td>-0.007914</td>\n",
              "      <td>-0.135913</td>\n",
              "      <td>0.042269</td>\n",
              "      <td>-0.082846</td>\n",
              "      <td>-0.062058</td>\n",
              "      <td>0.176010</td>\n",
              "      <td>0.158818</td>\n",
              "      <td>-0.059780</td>\n",
              "      <td>0.089108</td>\n",
              "      <td>0.247750</td>\n",
              "      <td>-0.329678</td>\n",
              "    </tr>\n",
              "    <tr>\n",
              "      <th>cp</th>\n",
              "      <td>-0.029929</td>\n",
              "      <td>-0.088434</td>\n",
              "      <td>1.000000</td>\n",
              "      <td>0.104658</td>\n",
              "      <td>-0.032413</td>\n",
              "      <td>0.133348</td>\n",
              "      <td>0.063061</td>\n",
              "      <td>0.285036</td>\n",
              "      <td>-0.384537</td>\n",
              "      <td>-0.145230</td>\n",
              "      <td>0.087094</td>\n",
              "      <td>-0.214668</td>\n",
              "      <td>-0.190059</td>\n",
              "      <td>0.404736</td>\n",
              "    </tr>\n",
              "    <tr>\n",
              "      <th>trestbps</th>\n",
              "      <td>0.270502</td>\n",
              "      <td>-0.007914</td>\n",
              "      <td>0.104658</td>\n",
              "      <td>1.000000</td>\n",
              "      <td>0.093535</td>\n",
              "      <td>0.131930</td>\n",
              "      <td>-0.145409</td>\n",
              "      <td>-0.024030</td>\n",
              "      <td>-0.028176</td>\n",
              "      <td>0.141590</td>\n",
              "      <td>-0.054917</td>\n",
              "      <td>0.051552</td>\n",
              "      <td>-0.013011</td>\n",
              "      <td>-0.084209</td>\n",
              "    </tr>\n",
              "    <tr>\n",
              "      <th>chol</th>\n",
              "      <td>0.139340</td>\n",
              "      <td>-0.135913</td>\n",
              "      <td>-0.032413</td>\n",
              "      <td>0.093535</td>\n",
              "      <td>1.000000</td>\n",
              "      <td>-0.003572</td>\n",
              "      <td>-0.120199</td>\n",
              "      <td>-0.005068</td>\n",
              "      <td>0.051355</td>\n",
              "      <td>-0.024029</td>\n",
              "      <td>0.046054</td>\n",
              "      <td>0.093256</td>\n",
              "      <td>0.083555</td>\n",
              "      <td>-0.096712</td>\n",
              "    </tr>\n",
              "    <tr>\n",
              "      <th>fbs</th>\n",
              "      <td>0.126709</td>\n",
              "      <td>0.042269</td>\n",
              "      <td>0.133348</td>\n",
              "      <td>0.131930</td>\n",
              "      <td>-0.003572</td>\n",
              "      <td>1.000000</td>\n",
              "      <td>-0.102587</td>\n",
              "      <td>-0.011742</td>\n",
              "      <td>0.011009</td>\n",
              "      <td>0.026806</td>\n",
              "      <td>-0.078558</td>\n",
              "      <td>0.120744</td>\n",
              "      <td>-0.086900</td>\n",
              "      <td>-0.014705</td>\n",
              "    </tr>\n",
              "    <tr>\n",
              "      <th>restecg</th>\n",
              "      <td>-0.112204</td>\n",
              "      <td>-0.082846</td>\n",
              "      <td>0.063061</td>\n",
              "      <td>-0.145409</td>\n",
              "      <td>-0.120199</td>\n",
              "      <td>-0.102587</td>\n",
              "      <td>1.000000</td>\n",
              "      <td>0.069826</td>\n",
              "      <td>-0.086858</td>\n",
              "      <td>-0.088066</td>\n",
              "      <td>0.121157</td>\n",
              "      <td>-0.092671</td>\n",
              "      <td>0.052316</td>\n",
              "      <td>0.143892</td>\n",
              "    </tr>\n",
              "    <tr>\n",
              "      <th>thalach</th>\n",
              "      <td>-0.386922</td>\n",
              "      <td>-0.062058</td>\n",
              "      <td>0.285036</td>\n",
              "      <td>-0.024030</td>\n",
              "      <td>-0.005068</td>\n",
              "      <td>-0.011742</td>\n",
              "      <td>0.069826</td>\n",
              "      <td>1.000000</td>\n",
              "      <td>-0.425204</td>\n",
              "      <td>-0.343713</td>\n",
              "      <td>0.382885</td>\n",
              "      <td>-0.244417</td>\n",
              "      <td>-0.137952</td>\n",
              "      <td>0.402196</td>\n",
              "    </tr>\n",
              "    <tr>\n",
              "      <th>exang</th>\n",
              "      <td>0.077735</td>\n",
              "      <td>0.176010</td>\n",
              "      <td>-0.384537</td>\n",
              "      <td>-0.028176</td>\n",
              "      <td>0.051355</td>\n",
              "      <td>0.011009</td>\n",
              "      <td>-0.086858</td>\n",
              "      <td>-0.425204</td>\n",
              "      <td>1.000000</td>\n",
              "      <td>0.370695</td>\n",
              "      <td>-0.276588</td>\n",
              "      <td>0.197223</td>\n",
              "      <td>0.241178</td>\n",
              "      <td>-0.431451</td>\n",
              "    </tr>\n",
              "    <tr>\n",
              "      <th>oldpeak</th>\n",
              "      <td>0.193139</td>\n",
              "      <td>0.158818</td>\n",
              "      <td>-0.145230</td>\n",
              "      <td>0.141590</td>\n",
              "      <td>-0.024029</td>\n",
              "      <td>0.026806</td>\n",
              "      <td>-0.088066</td>\n",
              "      <td>-0.343713</td>\n",
              "      <td>0.370695</td>\n",
              "      <td>1.000000</td>\n",
              "      <td>-0.523276</td>\n",
              "      <td>0.283956</td>\n",
              "      <td>0.183665</td>\n",
              "      <td>-0.444658</td>\n",
              "    </tr>\n",
              "    <tr>\n",
              "      <th>slope</th>\n",
              "      <td>-0.140255</td>\n",
              "      <td>-0.059780</td>\n",
              "      <td>0.087094</td>\n",
              "      <td>-0.054917</td>\n",
              "      <td>0.046054</td>\n",
              "      <td>-0.078558</td>\n",
              "      <td>0.121157</td>\n",
              "      <td>0.382885</td>\n",
              "      <td>-0.276588</td>\n",
              "      <td>-0.523276</td>\n",
              "      <td>1.000000</td>\n",
              "      <td>-0.045418</td>\n",
              "      <td>-0.068307</td>\n",
              "      <td>0.314488</td>\n",
              "    </tr>\n",
              "    <tr>\n",
              "      <th>ca</th>\n",
              "      <td>0.383488</td>\n",
              "      <td>0.089108</td>\n",
              "      <td>-0.214668</td>\n",
              "      <td>0.051552</td>\n",
              "      <td>0.093256</td>\n",
              "      <td>0.120744</td>\n",
              "      <td>-0.092671</td>\n",
              "      <td>-0.244417</td>\n",
              "      <td>0.197223</td>\n",
              "      <td>0.283956</td>\n",
              "      <td>-0.045418</td>\n",
              "      <td>1.000000</td>\n",
              "      <td>0.126550</td>\n",
              "      <td>-0.468636</td>\n",
              "    </tr>\n",
              "    <tr>\n",
              "      <th>thal</th>\n",
              "      <td>0.067981</td>\n",
              "      <td>0.247750</td>\n",
              "      <td>-0.190059</td>\n",
              "      <td>-0.013011</td>\n",
              "      <td>0.083555</td>\n",
              "      <td>-0.086900</td>\n",
              "      <td>0.052316</td>\n",
              "      <td>-0.137952</td>\n",
              "      <td>0.241178</td>\n",
              "      <td>0.183665</td>\n",
              "      <td>-0.068307</td>\n",
              "      <td>0.126550</td>\n",
              "      <td>1.000000</td>\n",
              "      <td>-0.389193</td>\n",
              "    </tr>\n",
              "    <tr>\n",
              "      <th>target</th>\n",
              "      <td>-0.202676</td>\n",
              "      <td>-0.329678</td>\n",
              "      <td>0.404736</td>\n",
              "      <td>-0.084209</td>\n",
              "      <td>-0.096712</td>\n",
              "      <td>-0.014705</td>\n",
              "      <td>0.143892</td>\n",
              "      <td>0.402196</td>\n",
              "      <td>-0.431451</td>\n",
              "      <td>-0.444658</td>\n",
              "      <td>0.314488</td>\n",
              "      <td>-0.468636</td>\n",
              "      <td>-0.389193</td>\n",
              "      <td>1.000000</td>\n",
              "    </tr>\n",
              "  </tbody>\n",
              "</table>\n",
              "</div>\n",
              "      <button class=\"colab-df-convert\" onclick=\"convertToInteractive('df-ff96a9c0-32bb-41ca-8cbe-b7127c8cfce4')\"\n",
              "              title=\"Convert this dataframe to an interactive table.\"\n",
              "              style=\"display:none;\">\n",
              "        \n",
              "  <svg xmlns=\"http://www.w3.org/2000/svg\" height=\"24px\"viewBox=\"0 0 24 24\"\n",
              "       width=\"24px\">\n",
              "    <path d=\"M0 0h24v24H0V0z\" fill=\"none\"/>\n",
              "    <path d=\"M18.56 5.44l.94 2.06.94-2.06 2.06-.94-2.06-.94-.94-2.06-.94 2.06-2.06.94zm-11 1L8.5 8.5l.94-2.06 2.06-.94-2.06-.94L8.5 2.5l-.94 2.06-2.06.94zm10 10l.94 2.06.94-2.06 2.06-.94-2.06-.94-.94-2.06-.94 2.06-2.06.94z\"/><path d=\"M17.41 7.96l-1.37-1.37c-.4-.4-.92-.59-1.43-.59-.52 0-1.04.2-1.43.59L10.3 9.45l-7.72 7.72c-.78.78-.78 2.05 0 2.83L4 21.41c.39.39.9.59 1.41.59.51 0 1.02-.2 1.41-.59l7.78-7.78 2.81-2.81c.8-.78.8-2.07 0-2.86zM5.41 20L4 18.59l7.72-7.72 1.47 1.35L5.41 20z\"/>\n",
              "  </svg>\n",
              "      </button>\n",
              "      \n",
              "  <style>\n",
              "    .colab-df-container {\n",
              "      display:flex;\n",
              "      flex-wrap:wrap;\n",
              "      gap: 12px;\n",
              "    }\n",
              "\n",
              "    .colab-df-convert {\n",
              "      background-color: #E8F0FE;\n",
              "      border: none;\n",
              "      border-radius: 50%;\n",
              "      cursor: pointer;\n",
              "      display: none;\n",
              "      fill: #1967D2;\n",
              "      height: 32px;\n",
              "      padding: 0 0 0 0;\n",
              "      width: 32px;\n",
              "    }\n",
              "\n",
              "    .colab-df-convert:hover {\n",
              "      background-color: #E2EBFA;\n",
              "      box-shadow: 0px 1px 2px rgba(60, 64, 67, 0.3), 0px 1px 3px 1px rgba(60, 64, 67, 0.15);\n",
              "      fill: #174EA6;\n",
              "    }\n",
              "\n",
              "    [theme=dark] .colab-df-convert {\n",
              "      background-color: #3B4455;\n",
              "      fill: #D2E3FC;\n",
              "    }\n",
              "\n",
              "    [theme=dark] .colab-df-convert:hover {\n",
              "      background-color: #434B5C;\n",
              "      box-shadow: 0px 1px 3px 1px rgba(0, 0, 0, 0.15);\n",
              "      filter: drop-shadow(0px 1px 2px rgba(0, 0, 0, 0.3));\n",
              "      fill: #FFFFFF;\n",
              "    }\n",
              "  </style>\n",
              "\n",
              "      <script>\n",
              "        const buttonEl =\n",
              "          document.querySelector('#df-ff96a9c0-32bb-41ca-8cbe-b7127c8cfce4 button.colab-df-convert');\n",
              "        buttonEl.style.display =\n",
              "          google.colab.kernel.accessAllowed ? 'block' : 'none';\n",
              "\n",
              "        async function convertToInteractive(key) {\n",
              "          const element = document.querySelector('#df-ff96a9c0-32bb-41ca-8cbe-b7127c8cfce4');\n",
              "          const dataTable =\n",
              "            await google.colab.kernel.invokeFunction('convertToInteractive',\n",
              "                                                     [key], {});\n",
              "          if (!dataTable) return;\n",
              "\n",
              "          const docLinkHtml = 'Like what you see? Visit the ' +\n",
              "            '<a target=\"_blank\" href=https://colab.research.google.com/notebooks/data_table.ipynb>data table notebook</a>'\n",
              "            + ' to learn more about interactive tables.';\n",
              "          element.innerHTML = '';\n",
              "          dataTable['output_type'] = 'display_data';\n",
              "          await google.colab.output.renderOutput(dataTable, element);\n",
              "          const docLink = document.createElement('div');\n",
              "          docLink.innerHTML = docLinkHtml;\n",
              "          element.appendChild(docLink);\n",
              "        }\n",
              "      </script>\n",
              "    </div>\n",
              "  </div>\n",
              "  "
            ]
          },
          "metadata": {},
          "execution_count": 32
        }
      ]
    },
    {
      "cell_type": "markdown",
      "source": [
        "####Gráfico de dispersão:\n",
        "\n",
        "Este é importante para vermos correlações entre as variáveis em uma forma gráfica, temos 3 tipos de correlações: `postiva`, `negativa` e `nula`.\n",
        "\n",
        "Quando temos a `positiva`, vemos que a variável independente aumenta e a dependente também. A `negativa` se dá pela diminuição da independente e consequentemente da dependente. Já a `nula`, não ocorre nem aumento e nem diminuição, portanto há uma dispersão entre os pontos e isso significa que não há correlação aparente entre as variáveis."
      ],
      "metadata": {
        "id": "cRROwP0HJhbi"
      }
    },
    {
      "cell_type": "markdown",
      "source": [
        "Gráfico de dispersão (idade x colesterol)"
      ],
      "metadata": {
        "id": "VJwgTaYWb3ng"
      }
    },
    {
      "cell_type": "code",
      "source": [
        "#grafico de dispersão entre age e chol\n",
        "\n",
        "fig, ax = plt.subplots(figsize=(10,6)) \n",
        "ax.scatter('age', 'chol', data=df, s=3, alpha=1)\n",
        "ax.set_xlabel('Idade')\n",
        "ax.set_ylabel('Colesterol')\n",
        "ax.set_title('Gráfico de dispersão (Idade x Colesterol)');"
      ],
      "metadata": {
        "id": "ThHk4EhUQWqZ",
        "colab": {
          "base_uri": "https://localhost:8080/",
          "height": 404
        },
        "outputId": "fa296a17-d455-4eec-e24e-d664a0b30f4c"
      },
      "execution_count": null,
      "outputs": [
        {
          "output_type": "display_data",
          "data": {
            "text/plain": [
              "<Figure size 720x432 with 1 Axes>"
            ],
            "image/png": "[encoded data removed]"
          },
          "metadata": {
            "needs_background": "light"
          }
        }
      ]
    },
    {
      "cell_type": "markdown",
      "source": [
        "Gráfico de dispersão após a remoção de outliers."
      ],
      "metadata": {
        "id": "CQ-k-dnnbxPY"
      }
    },
    {
      "cell_type": "code",
      "source": [
        "fig, ax = plt.subplots(figsize=(10,6)) \n",
        "ax.scatter('age', 'chol', data=df_clean, s=3, alpha=1)\n",
        "ax.set_xlabel('Idade')\n",
        "ax.set_ylabel('Colesterol')\n",
        "ax.set_title('Gráfico de dispersão (Idade x Colesterol)');"
      ],
      "metadata": {
        "colab": {
          "base_uri": "https://localhost:8080/",
          "height": 404
        },
        "id": "cKL5WRFP--pp",
        "outputId": "2c06b942-67f9-4849-8c50-70414cd6b8a6"
      },
      "execution_count": null,
      "outputs": [
        {
          "output_type": "display_data",
          "data": {
            "text/plain": [
              "<Figure size 720x432 with 1 Axes>"
            ],
            "image/png": "[encoded data removed]"
          },
          "metadata": {
            "needs_background": "light"
          }
        }
      ]
    },
    {
      "cell_type": "markdown",
      "source": [
        "Neste plot, vemos uma correlação nula, podemos notar uma concentração de pacientes com nível de colesterol um pouco mais evidenciada entre as idades 50-60, mas isso não significa que os níveis de colesterol nesta idade sejam superiores ou inferiores aos dos demais."
      ],
      "metadata": {
        "id": "2LSHBCuDuGgR"
      }
    },
    {
      "cell_type": "markdown",
      "source": [
        "###Histograma de nível de colesterol\n",
        "\n"
      ],
      "metadata": {
        "id": "84-_0B2DvWQg"
      }
    },
    {
      "cell_type": "code",
      "source": [
        "df_clean.chol.plot(kind='hist');"
      ],
      "metadata": {
        "colab": {
          "base_uri": "https://localhost:8080/",
          "height": 265
        },
        "id": "AnUA8UBzXUcV",
        "outputId": "1cba179b-2031-4fe5-d474-6db348b02fa2"
      },
      "execution_count": null,
      "outputs": [
        {
          "output_type": "display_data",
          "data": {
            "text/plain": [
              "<Figure size 432x288 with 1 Axes>"
            ],
            "image/png": "[encoded data removed]"
          },
          "metadata": {
            "needs_background": "light"
          }
        }
      ]
    },
    {
      "cell_type": "markdown",
      "source": [
        "Ao vermos este gráfico, notamos uma concentração de pacientes contendo níveis entre 200-300 (mg/dL - miligramas por decilitro). Para referência, um nível de colesterol interessante para o ser o humano seria menor que 200 mg/dL."
      ],
      "metadata": {
        "id": "xWZ_AJ72v-hk"
      }
    },
    {
      "cell_type": "markdown",
      "source": [
        "###Plotando heatmap de correlação:\n"
      ],
      "metadata": {
        "id": "YSyfoAyk9nZH"
      }
    },
    {
      "cell_type": "code",
      "source": [
        "fig, ax = plt.subplots(figsize=(10,10))  \n",
        "\n",
        "sns.heatmap(corr, cmap='RdBu', fmt='.2f', \n",
        "            square=True, linecolor='white', annot=True, ax=ax);"
      ],
      "metadata": {
        "colab": {
          "base_uri": "https://localhost:8080/",
          "height": 578
        },
        "id": "Ge7Lp6FwkHB5",
        "outputId": "b3ff9b4d-2727-4d54-93b8-67c8fc5963a5"
      },
      "execution_count": null,
      "outputs": [
        {
          "output_type": "display_data",
          "data": {
            "text/plain": [
              "<Figure size 720x720 with 2 Axes>"
            ],
            "image/png": "[encoded data removed]"
          },
          "metadata": {
            "needs_background": "light"
          }
        }
      ]
    },
    {
      "cell_type": "markdown",
      "source": [
        "Após plotarmos o `heatmap`, não vemos uma correlação significativa.\n",
        "\n",
        "`thal:` teste de estresse cardíaco;\n",
        "\n",
        "`num:` pessoas que possuem ou não doença cardiovascular;\n",
        "\n",
        "`oldpeak:` depressão do segmento ST induzida pelo exercício em relação ao repouso;\n",
        "\n",
        "`thalach:` máximo batimento cardíaco atingido.\n",
        "\n",
        "\n",
        "Em `thal` e `num`, vemos um coeficiente de correlação `r = 0.52`, onde este valor é moderado, portanto não se afetam significativamente.\n",
        "\n",
        "Em `oldpeak` e `num` o coeficiente de correlação `r = 0.58`, no qual este valor é um pouco maior que o anterior, mas ainda moderado.\n",
        "\n",
        "É interessante notar que o atributo `thalach`, possui uma correlação negativa moderada em relação ao atributo `num`, em que `r = -0,42`. "
      ],
      "metadata": {
        "id": "hClgahF_9l7A"
      }
    },
    {
      "cell_type": "markdown",
      "source": [
        "# Implementação do modelo\n",
        "\n",
        "Neste passo, iniciaremos a construir um modelo para classificarmos se um paciente possui doença cardíaca ou não."
      ],
      "metadata": {
        "id": "c1woxwhBs4jK"
      }
    },
    {
      "cell_type": "markdown",
      "source": [
        "## Logistic Regression"
      ],
      "metadata": {
        "id": "nw3k3jxWRODV"
      }
    },
    {
      "cell_type": "code",
      "source": [
        "# importando as bibliotecas necessárias\n",
        "from sklearn.model_selection import train_test_split\n",
        "from sklearn.preprocessing import StandardScaler\n",
        "from sklearn import preprocessing\n",
        "\n",
        "from sklearn.linear_model import LogisticRegression\n",
        "\n",
        "from sklearn.metrics import confusion_matrix\n",
        "from sklearn.metrics import classification_report\n",
        "from sklearn.metrics import r2_score\n",
        "from sklearn.metrics import mean_absolute_error\n",
        "from sklearn.metrics import mean_squared_error\n",
        "from sklearn.metrics import accuracy_score"
      ],
      "metadata": {
        "id": "YCcbkXJHs90g"
      },
      "execution_count": null,
      "outputs": []
    },
    {
      "cell_type": "code",
      "source": [
        "# instanciando e e escolhendo os hyperparameters\n",
        "lr_model = LogisticRegression()\n",
        "\n",
        "# criando x e y\n",
        "x = df_clean.drop('target', axis=1)\n",
        "y = df_clean.target\n",
        "\n",
        "# dividindo o dataset entre treino e teste\n",
        "seed = 7\n",
        "test_size = 0.33\n",
        "x_train, x_test, y_train, y_test = train_test_split(x, y, \n",
        "                                                        test_size=test_size,\n",
        "                                                        random_state=seed)\n",
        "\n",
        "# padronizando os dados de treino\n",
        "scaler = StandardScaler().fit(x_train)\n",
        "x_train = scaler.transform(x_train)\n",
        "\n",
        "# padronizando os dados de teste\n",
        "x_test = scaler.transform(x_test)\n",
        "\n",
        "# fit do modelo\n",
        "lr_model.fit(x_train, y_train)\n",
        "\n",
        "# previsões\n",
        "y_pred = lr_model.predict(x_test)\n",
        "\n",
        "# acurácia\n",
        "accuracy = accuracy_score(y_test, y_pred)\n",
        "print(\"Accuracy: %.2f%%\" % (accuracy * 100.0))"
      ],
      "metadata": {
        "id": "XwaiAJtkt-u2",
        "colab": {
          "base_uri": "https://localhost:8080/"
        },
        "outputId": "9be97aa9-e757-4143-9257-924a2e3b23fc"
      },
      "execution_count": null,
      "outputs": [
        {
          "output_type": "stream",
          "name": "stdout",
          "text": [
            "Accuracy: 88.32%\n"
          ]
        }
      ]
    },
    {
      "cell_type": "code",
      "source": [
        "print(classification_report(y_test, y_pred))"
      ],
      "metadata": {
        "colab": {
          "base_uri": "https://localhost:8080/"
        },
        "id": "_wus0f5Tv6jd",
        "outputId": "5fd51964-8622-4b45-dabd-c44ab7b11f47"
      },
      "execution_count": null,
      "outputs": [
        {
          "output_type": "stream",
          "name": "stdout",
          "text": [
            "              precision    recall  f1-score   support\n",
            "\n",
            "           0       0.95      0.80      0.87       140\n",
            "           1       0.84      0.96      0.90       151\n",
            "\n",
            "    accuracy                           0.88       291\n",
            "   macro avg       0.89      0.88      0.88       291\n",
            "weighted avg       0.89      0.88      0.88       291\n",
            "\n"
          ]
        }
      ]
    },
    {
      "cell_type": "code",
      "source": [
        "print('R2 Score:\\t', r2_score(y_test, y_pred))\n",
        "print('MAE:\\t\\t', mean_absolute_error(y_test, y_pred))\n",
        "print('MSE:\\t\\t', mean_squared_error(y_test, y_pred))"
      ],
      "metadata": {
        "colab": {
          "base_uri": "https://localhost:8080/"
        },
        "id": "NsniiAK_qNJq",
        "outputId": "b895456c-93a6-4a59-e33a-e6330a7abca0"
      },
      "execution_count": null,
      "outputs": [
        {
          "output_type": "stream",
          "name": "stdout",
          "text": [
            "R2 Score:\t 0.53197729422895\n",
            "MAE:\t\t 0.11683848797250859\n",
            "MSE:\t\t 0.11683848797250859\n"
          ]
        }
      ]
    },
    {
      "cell_type": "code",
      "source": [
        "fig, ax = plt.subplots(figsize=(8,6))\n",
        "sns.heatmap(confusion_matrix(y_test, y_pred), annot=True, ax=ax)\n",
        "\n",
        "ax.set_title('Confusion Matrix')\n",
        "ax.set_xlabel('True')\n",
        "ax.set_ylabel('Prediction')"
      ],
      "metadata": {
        "colab": {
          "base_uri": "https://localhost:8080/",
          "height": 421
        },
        "id": "Y6GLpeBhwDPf",
        "outputId": "de922c51-5b98-4d9a-f814-0f17a9e99cf4"
      },
      "execution_count": null,
      "outputs": [
        {
          "output_type": "execute_result",
          "data": {
            "text/plain": [
              "Text(51.0, 0.5, 'Prediction')"
            ]
          },
          "metadata": {},
          "execution_count": 46
        },
        {
          "output_type": "display_data",
          "data": {
            "text/plain": [
              "<Figure size 576x432 with 2 Axes>"
            ],
            "image/png": "[encoded data removed]"
          },
          "metadata": {
            "needs_background": "light"
          }
        }
      ]
    },
    {
      "cell_type": "markdown",
      "source": [
        "Após a implementação do modelo de regressão logística, não observamos uma performance significativa, nossa variável target é pouco explicada a partir de nossos atributos preditivos."
      ],
      "metadata": {
        "id": "H8kgp1R0SNq_"
      }
    },
    {
      "cell_type": "markdown",
      "source": [
        "##Decision Tree"
      ],
      "metadata": {
        "id": "bhahodP1RWff"
      }
    },
    {
      "cell_type": "code",
      "source": [
        "from sklearn import tree\n",
        "\n",
        "# instanciando e e escolhendo os hyperparameters\n",
        "dt_model = tree.DecisionTreeClassifier()\n",
        "\n",
        "# criando x e y\n",
        "x2 = df_clean.drop('target', axis=1)\n",
        "y2 = df_clean.target\n",
        "\n",
        "# dividindo o dataset entre treino e teste\n",
        "seed = 7\n",
        "test_size = 0.33\n",
        "x_train2, x_test2, y_train2, y_test2 = train_test_split(x2, y2, \n",
        "                                                        test_size=test_size,\n",
        "                                                        random_state=seed)\n",
        "\n",
        "# padronizando os dados de treino\n",
        "scaler = StandardScaler().fit(x_train2)\n",
        "x_train2 = scaler.transform(x_train2)\n",
        "\n",
        "# padronizando os dados de teste\n",
        "x_test2 = scaler.transform(x_test2)\n",
        "\n",
        "# fit do modelo\n",
        "dt_model.fit(x_train2, y_train2)\n",
        "\n",
        "# previsões\n",
        "y_pred2 = dt_model.predict(x_test2)\n",
        "\n",
        "# acurácia\n",
        "accuracy2 = accuracy_score(y_test2, y_pred2)\n",
        "print(\"Accuracy: %.2f%%\" % (accuracy2 * 100.0))"
      ],
      "metadata": {
        "id": "U5P2oedzr8aP",
        "colab": {
          "base_uri": "https://localhost:8080/"
        },
        "outputId": "d57a7613-6104-4b80-997f-4aac8b5c487c"
      },
      "execution_count": null,
      "outputs": [
        {
          "output_type": "stream",
          "name": "stdout",
          "text": [
            "Accuracy: 100.00%\n"
          ]
        }
      ]
    },
    {
      "cell_type": "code",
      "source": [
        "print(classification_report(y_test2, y_pred2))"
      ],
      "metadata": {
        "colab": {
          "base_uri": "https://localhost:8080/"
        },
        "id": "K-6C4ewDEgD3",
        "outputId": "41485332-f2e1-4494-d474-cb46795efd49"
      },
      "execution_count": null,
      "outputs": [
        {
          "output_type": "stream",
          "name": "stdout",
          "text": [
            "              precision    recall  f1-score   support\n",
            "\n",
            "           0       1.00      1.00      1.00       140\n",
            "           1       1.00      1.00      1.00       151\n",
            "\n",
            "    accuracy                           1.00       291\n",
            "   macro avg       1.00      1.00      1.00       291\n",
            "weighted avg       1.00      1.00      1.00       291\n",
            "\n"
          ]
        }
      ]
    },
    {
      "cell_type": "code",
      "source": [
        "print('R2 Score:\\t', r2_score(y_test2, y_pred2))\n",
        "print('MAE:\\t\\t', mean_absolute_error(y_test2, y_pred2))\n",
        "print('MSE:\\t\\t', mean_squared_error(y_test2, y_pred2))"
      ],
      "metadata": {
        "colab": {
          "base_uri": "https://localhost:8080/"
        },
        "id": "a12RtIyHEt1z",
        "outputId": "ef354d36-9f76-428b-bff0-5eca92e12328"
      },
      "execution_count": null,
      "outputs": [
        {
          "output_type": "stream",
          "name": "stdout",
          "text": [
            "R2 Score:\t 1.0\n",
            "MAE:\t\t 0.0\n",
            "MSE:\t\t 0.0\n"
          ]
        }
      ]
    },
    {
      "cell_type": "code",
      "source": [
        "fig, ax = plt.subplots(figsize=(8,6))\n",
        "sns.heatmap(confusion_matrix(y_test2, y_pred2), annot=True, ax=ax)\n",
        "\n",
        "ax.set_title('Confusion Matrix')\n",
        "ax.set_xlabel('True')\n",
        "ax.set_ylabel('Prediction')"
      ],
      "metadata": {
        "colab": {
          "base_uri": "https://localhost:8080/",
          "height": 421
        },
        "id": "E278mVc2p-Ig",
        "outputId": "297119b6-d508-4ce4-ae73-20f9bed5cd66"
      },
      "execution_count": null,
      "outputs": [
        {
          "output_type": "execute_result",
          "data": {
            "text/plain": [
              "Text(51.0, 0.5, 'Prediction')"
            ]
          },
          "metadata": {},
          "execution_count": 50
        },
        {
          "output_type": "display_data",
          "data": {
            "text/plain": [
              "<Figure size 576x432 with 2 Axes>"
            ],
            "image/png": "[encoded data removed]"
          },
          "metadata": {
            "needs_background": "light"
          }
        }
      ]
    },
    {
      "cell_type": "markdown",
      "source": [
        "Neste ponto implementamos um modelo de árvore de decisão a fim de conseguir melhores resultados para nossas avaliações.\n",
        "\n",
        "De primeiro momento, podemos observar que as métricas possuem números ótimos e nem sempre isso é bom, dado que elas podem estar enviesadas a receber um valor que não é real para o problema que estamos trabalhando."
      ],
      "metadata": {
        "id": "CTOG3_-vTDF2"
      }
    },
    {
      "cell_type": "markdown",
      "source": [
        "## XGBoost"
      ],
      "metadata": {
        "id": "DXTAeqblRqKo"
      }
    },
    {
      "cell_type": "code",
      "source": [
        "#importar as bibliotecas para o xgboost\n",
        "from xgboost import XGBClassifier\n",
        "\n",
        "# criando x e y\n",
        "x3 = df_clean.drop('target', axis=1)\n",
        "y3 = df_clean.target\n",
        "\n",
        "# dividindo o dataset entre treino e teste\n",
        "seed = 7\n",
        "test_size = 0.33\n",
        "x_train3, x_test3, y_train3, y_test3 = train_test_split(x3, y3, \n",
        "                                                        test_size=test_size,\n",
        "                                                        random_state=seed)\n",
        "\n",
        "# padronizando os dados de treino\n",
        "scaler = StandardScaler().fit(x_train3)\n",
        "x_train3 = scaler.transform(x_train3)\n",
        "\n",
        "# padronizando os dados de teste\n",
        "x_test3 = scaler.transform(x_test3)\n",
        "\n",
        "# fit do modelo\n",
        "model = XGBClassifier()\n",
        "model.fit(x_train3, y_train3)\n",
        "\n",
        "# predições\n",
        "y_pred3 = model.predict(x_test3)\n",
        "predictions = [round(value) for value in y_pred3]\n",
        "\n",
        "# acurácia\n",
        "accuracy3 = accuracy_score(y_test3, predictions)\n",
        "print(\"Accuracy: %.2f%%\" % (accuracy3 * 100.0))"
      ],
      "metadata": {
        "id": "nR8JMmeUuNRh",
        "colab": {
          "base_uri": "https://localhost:8080/"
        },
        "outputId": "c01ba81c-3431-45f6-e63d-6bfa431c9792"
      },
      "execution_count": null,
      "outputs": [
        {
          "output_type": "stream",
          "name": "stdout",
          "text": [
            "Accuracy: 96.22%\n"
          ]
        }
      ]
    },
    {
      "cell_type": "code",
      "source": [
        "print(classification_report(y_test3, predictions))"
      ],
      "metadata": {
        "colab": {
          "base_uri": "https://localhost:8080/"
        },
        "id": "-s7HTjm7LxPV",
        "outputId": "211fce50-ac75-4566-f60c-89a89472eeaf"
      },
      "execution_count": null,
      "outputs": [
        {
          "output_type": "stream",
          "name": "stdout",
          "text": [
            "              precision    recall  f1-score   support\n",
            "\n",
            "           0       0.98      0.94      0.96       140\n",
            "           1       0.95      0.98      0.96       151\n",
            "\n",
            "    accuracy                           0.96       291\n",
            "   macro avg       0.96      0.96      0.96       291\n",
            "weighted avg       0.96      0.96      0.96       291\n",
            "\n"
          ]
        }
      ]
    },
    {
      "cell_type": "code",
      "source": [
        "print('R2 Score:\\t', r2_score(y_test3, y_pred3))\n",
        "print('MAE:\\t\\t', mean_absolute_error(y_test3, y_pred3))\n",
        "print('MSE:\\t\\t', mean_squared_error(y_test3, y_pred3))"
      ],
      "metadata": {
        "colab": {
          "base_uri": "https://localhost:8080/"
        },
        "id": "ZssECTbXNKxI",
        "outputId": "468ca63d-6b21-4ac3-a417-957c354a28ab"
      },
      "execution_count": null,
      "outputs": [
        {
          "output_type": "stream",
          "name": "stdout",
          "text": [
            "R2 Score:\t 0.8485808893093661\n",
            "MAE:\t\t 0.037800687285223365\n",
            "MSE:\t\t 0.037800687285223365\n"
          ]
        }
      ]
    },
    {
      "cell_type": "code",
      "source": [
        "fig, ax = plt.subplots(figsize=(8,6))\n",
        "sns.heatmap(confusion_matrix(y_test3, y_pred3), annot=True, ax=ax)\n",
        "\n",
        "ax.set_title('Confusion Matrix')\n",
        "ax.set_xlabel('True')\n",
        "ax.set_ylabel('Prediction')"
      ],
      "metadata": {
        "colab": {
          "base_uri": "https://localhost:8080/",
          "height": 421
        },
        "id": "ZQwrCiBoNMfM",
        "outputId": "16d93014-a33a-4c8f-8edc-273510f15c67"
      },
      "execution_count": null,
      "outputs": [
        {
          "output_type": "execute_result",
          "data": {
            "text/plain": [
              "Text(51.0, 0.5, 'Prediction')"
            ]
          },
          "metadata": {},
          "execution_count": 54
        },
        {
          "output_type": "display_data",
          "data": {
            "text/plain": [
              "<Figure size 576x432 with 2 Axes>"
            ],
            "image/png": "[encoded data removed]"
          },
          "metadata": {
            "needs_background": "light"
          }
        }
      ]
    },
    {
      "cell_type": "markdown",
      "source": [
        "Com a implementação do modelo XGBoost, vemos uma boa performace e resultados mais reais para as métricas.\n",
        "\n",
        "Podemos concluir esta etapa dizendo que este foi o melhor modelo para utilização neste problema.\n",
        "\n",
        "Dado que retirar outliers não é uma boa prática, iremos implementar o mesmo modelo em nosso dataframe normal."
      ],
      "metadata": {
        "id": "rZC54RKBVvNn"
      }
    },
    {
      "cell_type": "code",
      "source": [
        "#xgboost com outliers\n",
        "#importar as bibliotecas para o xgboost\n",
        "from xgboost import XGBClassifier\n",
        "\n",
        "# criando x e y\n",
        "x4 = df.drop('target', axis=1)\n",
        "y4 = df.target\n",
        "\n",
        "# dividindo o dataset entre treino e teste\n",
        "seed = 7\n",
        "test_size = 0.33\n",
        "x_train4, x_test4, y_train4, y_test4 = train_test_split(x4, y4, \n",
        "                                                        test_size=test_size,\n",
        "                                                        random_state=seed)\n",
        "\n",
        "# padronizando os dados de treino\n",
        "scaler = StandardScaler().fit(x_train4)\n",
        "x_train4 = scaler.transform(x_train4)\n",
        "\n",
        "# padronizando os dados de teste\n",
        "x_test4 = scaler.transform(x_test4)\n",
        "\n",
        "# fit do modelo\n",
        "model = XGBClassifier()\n",
        "model.fit(x_train4, y_train4)\n",
        "\n",
        "# predições\n",
        "y_pred4 = model.predict(x_test4)\n",
        "predictions = [round(value) for value in y_pred4]\n",
        "\n",
        "# acurácia\n",
        "accuracy4 = accuracy_score(y_test4, predictions)\n",
        "print(\"Accuracy: %.2f%%\" % (accuracy4 * 100.0))"
      ],
      "metadata": {
        "colab": {
          "base_uri": "https://localhost:8080/"
        },
        "id": "0ytADSMW4HFa",
        "outputId": "22c7776f-5ef3-48b4-de8a-1bcf3f24103c"
      },
      "execution_count": null,
      "outputs": [
        {
          "output_type": "stream",
          "name": "stdout",
          "text": [
            "Accuracy: 95.87%\n"
          ]
        }
      ]
    },
    {
      "cell_type": "code",
      "source": [
        "print(classification_report(y_test4, predictions))"
      ],
      "metadata": {
        "colab": {
          "base_uri": "https://localhost:8080/"
        },
        "id": "sfam6uUc5Epn",
        "outputId": "25e8037d-c992-4023-d882-9976bd504c06"
      },
      "execution_count": null,
      "outputs": [
        {
          "output_type": "stream",
          "name": "stdout",
          "text": [
            "              precision    recall  f1-score   support\n",
            "\n",
            "           0       0.94      0.97      0.96       156\n",
            "           1       0.97      0.95      0.96       183\n",
            "\n",
            "    accuracy                           0.96       339\n",
            "   macro avg       0.96      0.96      0.96       339\n",
            "weighted avg       0.96      0.96      0.96       339\n",
            "\n"
          ]
        }
      ]
    },
    {
      "cell_type": "code",
      "source": [
        "print('R2 Score:\\t', r2_score(y_test4, y_pred4))\n",
        "print('MAE:\\t\\t', mean_absolute_error(y_test4, y_pred4))\n",
        "print('MSE:\\t\\t', mean_squared_error(y_test4, y_pred4))"
      ],
      "metadata": {
        "colab": {
          "base_uri": "https://localhost:8080/"
        },
        "id": "Ny1n9xJL5U3e",
        "outputId": "e75807b1-affb-4c39-b5c6-c0cdc8d6c96d"
      },
      "execution_count": null,
      "outputs": [
        {
          "output_type": "stream",
          "name": "stdout",
          "text": [
            "R2 Score:\t 0.8337536780159731\n",
            "MAE:\t\t 0.04129793510324484\n",
            "MSE:\t\t 0.04129793510324484\n"
          ]
        }
      ]
    },
    {
      "cell_type": "code",
      "source": [
        "fig, ax = plt.subplots(figsize=(8,6))\n",
        "sns.heatmap(confusion_matrix(y_test4, y_pred4), annot=True, ax=ax)\n",
        "\n",
        "ax.set_title('Confusion Matrix')\n",
        "ax.set_xlabel('True')\n",
        "ax.set_ylabel('Prediction')"
      ],
      "metadata": {
        "colab": {
          "base_uri": "https://localhost:8080/",
          "height": 421
        },
        "id": "5YYes5YO5Yec",
        "outputId": "cdcff342-c00a-4a1f-867b-929a0de3da1b"
      },
      "execution_count": null,
      "outputs": [
        {
          "output_type": "execute_result",
          "data": {
            "text/plain": [
              "Text(51.0, 0.5, 'Prediction')"
            ]
          },
          "metadata": {},
          "execution_count": 58
        },
        {
          "output_type": "display_data",
          "data": {
            "text/plain": [
              "<Figure size 576x432 with 2 Axes>"
            ],
            "image/png": "[encoded data removed]"
          },
          "metadata": {
            "needs_background": "light"
          }
        }
      ]
    },
    {
      "cell_type": "markdown",
      "source": [
        "## Conclusão:\n",
        "\n",
        "Após esta análise, pudemos verificar a existência de valores ausentes, outliers e problemas comuns de serem encontrados em bases de dados. Foi limpo, analisado e implementado com um modelo de uma boa confiabilidade segundo as métricas estatísticas.\n",
        "\n",
        "Buscamos validar alguma correlação importante em relação à possuir ou não uma doença cardíaca, porém, obtemos apenas correlações moderadas e não significativas.\n",
        "\n",
        "Uma questão importante, também dita no inicio, seria adotar algumas medidas e mudanças no estilo de vida, pois é estimado que 90% das doenças cardiovasculares poderiam ser evitadas por isso."
      ],
      "metadata": {
        "id": "0pfzi0eweR3u"
      }
    }
  ]
}