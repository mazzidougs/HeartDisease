{
  "nbformat": 4,
  "nbformat_minor": 0,
  "metadata": {
    "colab": {
      "name": "Doenças Cardiovasculares.ipynb",
      "provenance": [],
      "collapsed_sections": []
    },
    "kernelspec": {
      "name": "python3",
      "display_name": "Python 3"
    }
  },
  "cells": [
    {
      "cell_type": "markdown",
      "metadata": {
        "id": "w0OlvP4PEdzR"
      },
      "source": [
        "# Análise Exploratória de Dados - Doenças Cardiovasculares\n",
        "\n",
        "Doenças Cardiovasculares geralmente são eventos agudos causados principalmente por um bloqueio que impede que o sangue flua para o coração ou para o cérebro.\n",
        "\n",
        "A razão mais comum para isso é o acúmulo de depósitos de gordura nas paredes internas dos vasos sanguíneos que irrigam o coração ou o cérebro. Os acidentes vasculares cerebrais também podem ser causados por uma hemorragia em vasos sanguíneos do cérebro ou a partir de coágulos de sangue. \n",
        "\n",
        "A causa de ataques cardíacos e AVCs geralmente são uma combinação de fatores de risco, como o uso de tabaco, dietas inadequadas e obesidade, sedentarismo e o uso nocivo do álcool, hipertensão, diabetes e hiperlipidemia.\n",
        "\n",
        "<center><img src=\"https://github.com/mazzidougs/HeartDisease/blob/main/jesse-orrico-Us3AQvyOP-o-unsplash%20(1).jpg?raw=true\"></center>\n",
        "\n",
        "Apesar de ser uma das principais causas de morte em todo o mundo, estima-se que cerca de 90% das doenças cardiovasculares poderiam ser evitadas por meio da adoção de algumas medidas e mudanças no estilo de vida.\n",
        "\n",
        "Existem hoje várias pesquisas na área de *Machine Learning* visando a construções de modelos preditivos que ajudem os médicos a descobrirem doenças cardiovasculares em seus pacientes.\n",
        "\n",
        "Estudos publicados na revista *na revista Nature Biomedical Engineering* mostram que algoritmos de *Deep Learning* foram capazes de antecipar doenças cardíacas em até 5 anos.\n",
        "\n",
        "Definitivamente, o uso de Inteligência Artificial tem impactado profundamente a área da saúde, e tem proporcionado aos profissionais médicos insumos de inteligência cada vez mais precisos.\n",
        "\n"
      ]
    },
    {
      "cell_type": "markdown",
      "metadata": {
        "id": "F3XPABqpLFOX"
      },
      "source": [
        "## Obtenção dos Dados\n",
        "\n",
        "O conjunto principal de dados usado neste projeto foi coletado da ***Cleveland Clinic Foundation*** e se encontra disponível no conhecido [Repositório UCI *Machine Learning*](https://archive.ics.uci.edu/ml/datasets/heart+Disease). Podemos ressaltar que os nomes, identidade e documentos pessoais dos pacientes foram removidos completamente do banco de dados.\n",
        "\n",
        "O *dataset* processado contém dados de 1025 pessoas e 76 atributos. Entretanto, os principais artigos e estudos publicados optaram por usar apenas 14 atributos, considerados de maior relevância. Da mesma maneira, este projeto de *Data Science* usará essas mesmas 14 variáveis principais.\n",
        "\n",
        "* O arquivo `csv` com os dados de 1025 pessoas e 14 atributos pode ser baixado [neste link](https://raw.githubusercontent.com/mazzidougs/HeartDisease/main/dataset_1025).\n",
        "\n",
        "* O arquivo contendo todos os detalhes e documentação do *dataset* usado neste projeto se encontra [neste link](https://raw.githubusercontent.com/mazzidougs/HeartDisease/main/heart-diseases.names).\n",
        "\n",
        "* Há ainda um *dataset* secundário que será utilizado para ver a evolução no número de mortes por doenças cardiovasculares no Brasil (entre os anos de 2004-2017). Esses dados foram disponibilizados pela [Sociedade Brasileira de Cardiologia](http://www.cardiometro.com.br/anteriores.asp), e podem ser baixados [neste link](https://raw.githubusercontent.com/mazzidougs/HeartDisease/main/dataset_amount).\n",
        "\n"
      ]
    },
    {
      "cell_type": "markdown",
      "metadata": {
        "id": "JTJNji8-CFbX"
      },
      "source": [
        "### Informações sobre os atributos:\n",
        "\n",
        "\n",
        "* `age` - idade em anos\n",
        "* `sex` - sexo do paciente\n",
        "  * 0: mulher\n",
        "  * 1: homem\n",
        "* `cp` - tipo da dor torácica\n",
        "  * 1: angina típica\n",
        "  * 2: angina atípica\n",
        "  * 3: dor não cardíaca\n",
        "  * 4: assintomática\n",
        "* `trestbps` - pressão arterial em repouso\n",
        "* `chol` - colesterol sérico (*mg/dl*)\n",
        "* `fbs` - açucar no sangue em jejum > 120*mg/dl*\n",
        "  * 0: `False`\n",
        "  * 1: `True`\n",
        "* `restecg` - resultado do eletrocardiografia de repouso\n",
        "  * 0: normal\n",
        "  * 1: anormalidades de ST-T  (inversão da onda T e elevação ou depressão de > 0.05*mV*)\n",
        "  * 2: hipertrofia ventricular esquerda provável ou definitiva (pelos critérios de Romhilt-Estes)\n",
        "* `thalach` - frequência cardíaca máxima atingida\n",
        "* `exang` - angina induzida pelo exercício\n",
        "  * 0: não\n",
        "  * 1: sim\n",
        "* `oldpeak` - depressão do segmento ST induzida pelo exercício em relação ao repouso\n",
        "* `slope` - inclinação do segmento ST no pico do exercício\n",
        "* `ca` - número de vasos principais colorido por fluoroscopia\n",
        "* `thal` - Teste de estresse cardíaco\n",
        "  * 3: normal\n",
        "  * 6: defeito fixo\n",
        "  * 7: defeito reversível\n",
        "* `num` - diagnóstico de doença cardíaca (diagnóstico angiográfico)\n",
        "  * 0: não há doença cardíaca ( < 50% de estreitamento do diâmetro)\n",
        "  * 1: há doença cardíaca ( > 50% de estreitamento do diâmetro)"
      ]
    },
    {
      "cell_type": "markdown",
      "metadata": {
        "id": "TjJW1eAGoH7Y"
      },
      "source": [
        "### Importar os Dados\n",
        "\n",
        "Em uma etapa inicial, importaremos os dois *datasets* mencionados no início do *notebook*:\n",
        "\n",
        "* Um contendo os dados relacionados às doenças cardiovasculares (1025 pessoas e 14 atributos); e\n",
        "* Um contendo os dados da mortalidade no Brasil por doenças cardiovasculares."
      ]
    },
    {
      "cell_type": "code",
      "metadata": {
        "id": "lr_gI2RzC8EW",
        "cellView": "both"
      },
      "source": [
        "# importar as bibliotecas necessárias\n",
        "import pandas as pd\n",
        "import matplotlib.pyplot as plt\n",
        "import numpy as np\n",
        "import seaborn as sns\n",
        "\n",
        "# url dos datasets\n",
        "dataset_uci = \"https://raw.githubusercontent.com/mazzidougs/HeartDisease/main/dataset_1025\"\n",
        "dataset_brasil = \"https://raw.githubusercontent.com/mazzidougs/HeartDisease/main/dataset_amount\"\n",
        "\n",
        "# importar dataset da UCI\n",
        "df = pd.read_csv(dataset_uci)\n",
        "\n",
        "# importar dataset dos indíces do Brasil\n",
        "df_brasil = pd.read_csv(dataset_brasil)"
      ],
      "execution_count": null,
      "outputs": []
    },
    {
      "cell_type": "markdown",
      "source": [
        "# Análise exploratória\n",
        "\n",
        "Esta é uma etapa muito importante de nosso processo para nos situarmos em relação ao dataset que iremos trabalhar, aqui veremos o tamanho de nosso df, uma descrição estatística, tipos de nossas variáveis, verificaremos quantas pessoas possuem doença ou não dado o df, contaremos os valores ausentes e plotaremos alguns gráficos.\n",
        "  "
      ],
      "metadata": {
        "id": "pOPoRR4mlwrX"
      }
    },
    {
      "cell_type": "markdown",
      "source": [
        "Verificando o tamanho de nosso dataframe:\n"
      ],
      "metadata": {
        "id": "pYD0eH2Zl5WK"
      }
    },
    {
      "cell_type": "code",
      "metadata": {
        "id": "mEBOowAIb7cg",
        "colab": {
          "base_uri": "https://localhost:8080/"
        },
        "outputId": "e3a6262b-8081-477d-cef9-ea563192636b"
      },
      "source": [
        "print(\"Forma dos dados\")\n",
        "print(\"Linhas:\\t\\t\",df.shape[0])\n",
        "print(\"Colunas:\\t\",df.shape[1])"
      ],
      "execution_count": null,
      "outputs": [
        {
          "output_type": "stream",
          "name": "stdout",
          "text": [
            "Forma dos dados\n",
            "Linhas:\t\t 1025\n",
            "Colunas:\t 14\n"
          ]
        }
      ]
    },
    {
      "cell_type": "markdown",
      "source": [
        "Descrição estatística:"
      ],
      "metadata": {
        "id": "UwRt_Rwjn5ft"
      }
    },
    {
      "cell_type": "code",
      "source": [
        "df.describe()"
      ],
      "metadata": {
        "colab": {
          "base_uri": "https://localhost:8080/",
          "height": 344
        },
        "id": "I5gyTsf5D1KP",
        "outputId": "079a8e04-d820-4e39-db16-bf79f3896180"
      },
      "execution_count": null,
      "outputs": [
        {
          "output_type": "execute_result",
          "data": {
            "text/plain": [
              "               age          sex           cp     trestbps        chol  \\\n",
              "count  1025.000000  1025.000000  1025.000000  1025.000000  1025.00000   \n",
              "mean     54.434146     0.695610     0.942439   131.611707   246.00000   \n",
              "std       9.072290     0.460373     1.029641    17.516718    51.59251   \n",
              "min      29.000000     0.000000     0.000000    94.000000   126.00000   \n",
              "25%      48.000000     0.000000     0.000000   120.000000   211.00000   \n",
              "50%      56.000000     1.000000     1.000000   130.000000   240.00000   \n",
              "75%      61.000000     1.000000     2.000000   140.000000   275.00000   \n",
              "max      77.000000     1.000000     3.000000   200.000000   564.00000   \n",
              "\n",
              "               fbs      restecg      thalach        exang      oldpeak  \\\n",
              "count  1025.000000  1025.000000  1025.000000  1025.000000  1025.000000   \n",
              "mean      0.149268     0.529756   149.114146     0.336585     1.071512   \n",
              "std       0.356527     0.527878    23.005724     0.472772     1.175053   \n",
              "min       0.000000     0.000000    71.000000     0.000000     0.000000   \n",
              "25%       0.000000     0.000000   132.000000     0.000000     0.000000   \n",
              "50%       0.000000     1.000000   152.000000     0.000000     0.800000   \n",
              "75%       0.000000     1.000000   166.000000     1.000000     1.800000   \n",
              "max       1.000000     2.000000   202.000000     1.000000     6.200000   \n",
              "\n",
              "             slope           ca         thal       target  \n",
              "count  1025.000000  1025.000000  1025.000000  1025.000000  \n",
              "mean      1.385366     0.754146     2.323902     0.513171  \n",
              "std       0.617755     1.030798     0.620660     0.500070  \n",
              "min       0.000000     0.000000     0.000000     0.000000  \n",
              "25%       1.000000     0.000000     2.000000     0.000000  \n",
              "50%       1.000000     0.000000     2.000000     1.000000  \n",
              "75%       2.000000     1.000000     3.000000     1.000000  \n",
              "max       2.000000     4.000000     3.000000     1.000000  "
            ],
            "text/html": [
              "\n",
              "  <div id=\"df-74693807-8e20-4abd-b6e5-547f1b25c402\">\n",
              "    <div class=\"colab-df-container\">\n",
              "      <div>\n",
              "<style scoped>\n",
              "    .dataframe tbody tr th:only-of-type {\n",
              "        vertical-align: middle;\n",
              "    }\n",
              "\n",
              "    .dataframe tbody tr th {\n",
              "        vertical-align: top;\n",
              "    }\n",
              "\n",
              "    .dataframe thead th {\n",
              "        text-align: right;\n",
              "    }\n",
              "</style>\n",
              "<table border=\"1\" class=\"dataframe\">\n",
              "  <thead>\n",
              "    <tr style=\"text-align: right;\">\n",
              "      <th></th>\n",
              "      <th>age</th>\n",
              "      <th>sex</th>\n",
              "      <th>cp</th>\n",
              "      <th>trestbps</th>\n",
              "      <th>chol</th>\n",
              "      <th>fbs</th>\n",
              "      <th>restecg</th>\n",
              "      <th>thalach</th>\n",
              "      <th>exang</th>\n",
              "      <th>oldpeak</th>\n",
              "      <th>slope</th>\n",
              "      <th>ca</th>\n",
              "      <th>thal</th>\n",
              "      <th>target</th>\n",
              "    </tr>\n",
              "  </thead>\n",
              "  <tbody>\n",
              "    <tr>\n",
              "      <th>count</th>\n",
              "      <td>1025.000000</td>\n",
              "      <td>1025.000000</td>\n",
              "      <td>1025.000000</td>\n",
              "      <td>1025.000000</td>\n",
              "      <td>1025.00000</td>\n",
              "      <td>1025.000000</td>\n",
              "      <td>1025.000000</td>\n",
              "      <td>1025.000000</td>\n",
              "      <td>1025.000000</td>\n",
              "      <td>1025.000000</td>\n",
              "      <td>1025.000000</td>\n",
              "      <td>1025.000000</td>\n",
              "      <td>1025.000000</td>\n",
              "      <td>1025.000000</td>\n",
              "    </tr>\n",
              "    <tr>\n",
              "      <th>mean</th>\n",
              "      <td>54.434146</td>\n",
              "      <td>0.695610</td>\n",
              "      <td>0.942439</td>\n",
              "      <td>131.611707</td>\n",
              "      <td>246.00000</td>\n",
              "      <td>0.149268</td>\n",
              "      <td>0.529756</td>\n",
              "      <td>149.114146</td>\n",
              "      <td>0.336585</td>\n",
              "      <td>1.071512</td>\n",
              "      <td>1.385366</td>\n",
              "      <td>0.754146</td>\n",
              "      <td>2.323902</td>\n",
              "      <td>0.513171</td>\n",
              "    </tr>\n",
              "    <tr>\n",
              "      <th>std</th>\n",
              "      <td>9.072290</td>\n",
              "      <td>0.460373</td>\n",
              "      <td>1.029641</td>\n",
              "      <td>17.516718</td>\n",
              "      <td>51.59251</td>\n",
              "      <td>0.356527</td>\n",
              "      <td>0.527878</td>\n",
              "      <td>23.005724</td>\n",
              "      <td>0.472772</td>\n",
              "      <td>1.175053</td>\n",
              "      <td>0.617755</td>\n",
              "      <td>1.030798</td>\n",
              "      <td>0.620660</td>\n",
              "      <td>0.500070</td>\n",
              "    </tr>\n",
              "    <tr>\n",
              "      <th>min</th>\n",
              "      <td>29.000000</td>\n",
              "      <td>0.000000</td>\n",
              "      <td>0.000000</td>\n",
              "      <td>94.000000</td>\n",
              "      <td>126.00000</td>\n",
              "      <td>0.000000</td>\n",
              "      <td>0.000000</td>\n",
              "      <td>71.000000</td>\n",
              "      <td>0.000000</td>\n",
              "      <td>0.000000</td>\n",
              "      <td>0.000000</td>\n",
              "      <td>0.000000</td>\n",
              "      <td>0.000000</td>\n",
              "      <td>0.000000</td>\n",
              "    </tr>\n",
              "    <tr>\n",
              "      <th>25%</th>\n",
              "      <td>48.000000</td>\n",
              "      <td>0.000000</td>\n",
              "      <td>0.000000</td>\n",
              "      <td>120.000000</td>\n",
              "      <td>211.00000</td>\n",
              "      <td>0.000000</td>\n",
              "      <td>0.000000</td>\n",
              "      <td>132.000000</td>\n",
              "      <td>0.000000</td>\n",
              "      <td>0.000000</td>\n",
              "      <td>1.000000</td>\n",
              "      <td>0.000000</td>\n",
              "      <td>2.000000</td>\n",
              "      <td>0.000000</td>\n",
              "    </tr>\n",
              "    <tr>\n",
              "      <th>50%</th>\n",
              "      <td>56.000000</td>\n",
              "      <td>1.000000</td>\n",
              "      <td>1.000000</td>\n",
              "      <td>130.000000</td>\n",
              "      <td>240.00000</td>\n",
              "      <td>0.000000</td>\n",
              "      <td>1.000000</td>\n",
              "      <td>152.000000</td>\n",
              "      <td>0.000000</td>\n",
              "      <td>0.800000</td>\n",
              "      <td>1.000000</td>\n",
              "      <td>0.000000</td>\n",
              "      <td>2.000000</td>\n",
              "      <td>1.000000</td>\n",
              "    </tr>\n",
              "    <tr>\n",
              "      <th>75%</th>\n",
              "      <td>61.000000</td>\n",
              "      <td>1.000000</td>\n",
              "      <td>2.000000</td>\n",
              "      <td>140.000000</td>\n",
              "      <td>275.00000</td>\n",
              "      <td>0.000000</td>\n",
              "      <td>1.000000</td>\n",
              "      <td>166.000000</td>\n",
              "      <td>1.000000</td>\n",
              "      <td>1.800000</td>\n",
              "      <td>2.000000</td>\n",
              "      <td>1.000000</td>\n",
              "      <td>3.000000</td>\n",
              "      <td>1.000000</td>\n",
              "    </tr>\n",
              "    <tr>\n",
              "      <th>max</th>\n",
              "      <td>77.000000</td>\n",
              "      <td>1.000000</td>\n",
              "      <td>3.000000</td>\n",
              "      <td>200.000000</td>\n",
              "      <td>564.00000</td>\n",
              "      <td>1.000000</td>\n",
              "      <td>2.000000</td>\n",
              "      <td>202.000000</td>\n",
              "      <td>1.000000</td>\n",
              "      <td>6.200000</td>\n",
              "      <td>2.000000</td>\n",
              "      <td>4.000000</td>\n",
              "      <td>3.000000</td>\n",
              "      <td>1.000000</td>\n",
              "    </tr>\n",
              "  </tbody>\n",
              "</table>\n",
              "</div>\n",
              "      <button class=\"colab-df-convert\" onclick=\"convertToInteractive('df-74693807-8e20-4abd-b6e5-547f1b25c402')\"\n",
              "              title=\"Convert this dataframe to an interactive table.\"\n",
              "              style=\"display:none;\">\n",
              "        \n",
              "  <svg xmlns=\"http://www.w3.org/2000/svg\" height=\"24px\"viewBox=\"0 0 24 24\"\n",
              "       width=\"24px\">\n",
              "    <path d=\"M0 0h24v24H0V0z\" fill=\"none\"/>\n",
              "    <path d=\"M18.56 5.44l.94 2.06.94-2.06 2.06-.94-2.06-.94-.94-2.06-.94 2.06-2.06.94zm-11 1L8.5 8.5l.94-2.06 2.06-.94-2.06-.94L8.5 2.5l-.94 2.06-2.06.94zm10 10l.94 2.06.94-2.06 2.06-.94-2.06-.94-.94-2.06-.94 2.06-2.06.94z\"/><path d=\"M17.41 7.96l-1.37-1.37c-.4-.4-.92-.59-1.43-.59-.52 0-1.04.2-1.43.59L10.3 9.45l-7.72 7.72c-.78.78-.78 2.05 0 2.83L4 21.41c.39.39.9.59 1.41.59.51 0 1.02-.2 1.41-.59l7.78-7.78 2.81-2.81c.8-.78.8-2.07 0-2.86zM5.41 20L4 18.59l7.72-7.72 1.47 1.35L5.41 20z\"/>\n",
              "  </svg>\n",
              "      </button>\n",
              "      \n",
              "  <style>\n",
              "    .colab-df-container {\n",
              "      display:flex;\n",
              "      flex-wrap:wrap;\n",
              "      gap: 12px;\n",
              "    }\n",
              "\n",
              "    .colab-df-convert {\n",
              "      background-color: #E8F0FE;\n",
              "      border: none;\n",
              "      border-radius: 50%;\n",
              "      cursor: pointer;\n",
              "      display: none;\n",
              "      fill: #1967D2;\n",
              "      height: 32px;\n",
              "      padding: 0 0 0 0;\n",
              "      width: 32px;\n",
              "    }\n",
              "\n",
              "    .colab-df-convert:hover {\n",
              "      background-color: #E2EBFA;\n",
              "      box-shadow: 0px 1px 2px rgba(60, 64, 67, 0.3), 0px 1px 3px 1px rgba(60, 64, 67, 0.15);\n",
              "      fill: #174EA6;\n",
              "    }\n",
              "\n",
              "    [theme=dark] .colab-df-convert {\n",
              "      background-color: #3B4455;\n",
              "      fill: #D2E3FC;\n",
              "    }\n",
              "\n",
              "    [theme=dark] .colab-df-convert:hover {\n",
              "      background-color: #434B5C;\n",
              "      box-shadow: 0px 1px 3px 1px rgba(0, 0, 0, 0.15);\n",
              "      filter: drop-shadow(0px 1px 2px rgba(0, 0, 0, 0.3));\n",
              "      fill: #FFFFFF;\n",
              "    }\n",
              "  </style>\n",
              "\n",
              "      <script>\n",
              "        const buttonEl =\n",
              "          document.querySelector('#df-74693807-8e20-4abd-b6e5-547f1b25c402 button.colab-df-convert');\n",
              "        buttonEl.style.display =\n",
              "          google.colab.kernel.accessAllowed ? 'block' : 'none';\n",
              "\n",
              "        async function convertToInteractive(key) {\n",
              "          const element = document.querySelector('#df-74693807-8e20-4abd-b6e5-547f1b25c402');\n",
              "          const dataTable =\n",
              "            await google.colab.kernel.invokeFunction('convertToInteractive',\n",
              "                                                     [key], {});\n",
              "          if (!dataTable) return;\n",
              "\n",
              "          const docLinkHtml = 'Like what you see? Visit the ' +\n",
              "            '<a target=\"_blank\" href=https://colab.research.google.com/notebooks/data_table.ipynb>data table notebook</a>'\n",
              "            + ' to learn more about interactive tables.';\n",
              "          element.innerHTML = '';\n",
              "          dataTable['output_type'] = 'display_data';\n",
              "          await google.colab.output.renderOutput(dataTable, element);\n",
              "          const docLink = document.createElement('div');\n",
              "          docLink.innerHTML = docLinkHtml;\n",
              "          element.appendChild(docLink);\n",
              "        }\n",
              "      </script>\n",
              "    </div>\n",
              "  </div>\n",
              "  "
            ]
          },
          "metadata": {},
          "execution_count": 148
        }
      ]
    },
    {
      "cell_type": "markdown",
      "source": [
        "Tipos dos atributos:"
      ],
      "metadata": {
        "id": "5ZsI7nOtP8w7"
      }
    },
    {
      "cell_type": "code",
      "source": [
        "#Para vermos os tipos de nossas variáveis, utilizamos o dtypes\n",
        "\n",
        "df.dtypes\n",
        "\n",
        "#podemos verificar que a maioria são do tipo float e apenas a váriavel num é do tipo inteiro\n",
        "#depois de mostrarmos nosso df, vemos que a váriavel \"num\" é binária, portanto assume o valor de 0 ou 1"
      ],
      "metadata": {
        "id": "mQYflqVCD5rN",
        "colab": {
          "base_uri": "https://localhost:8080/"
        },
        "outputId": "81f305b7-b9b2-4363-afc7-1baa7c664039"
      },
      "execution_count": null,
      "outputs": [
        {
          "output_type": "execute_result",
          "data": {
            "text/plain": [
              "age           int64\n",
              "sex           int64\n",
              "cp            int64\n",
              "trestbps      int64\n",
              "chol          int64\n",
              "fbs           int64\n",
              "restecg       int64\n",
              "thalach       int64\n",
              "exang         int64\n",
              "oldpeak     float64\n",
              "slope         int64\n",
              "ca            int64\n",
              "thal          int64\n",
              "target        int64\n",
              "dtype: object"
            ]
          },
          "metadata": {},
          "execution_count": 149
        }
      ]
    },
    {
      "cell_type": "code",
      "source": [
        "#Verificando as 5 primeiras entradas com head. Se colocarmos um parâmetro dentro dos parênteses, escolhemos a quantidade de itens a ser mostrados\n",
        "df.head()"
      ],
      "metadata": {
        "colab": {
          "base_uri": "https://localhost:8080/",
          "height": 206
        },
        "id": "cZWsi2Wkihcn",
        "outputId": "76dc7f6f-4eb1-4ab3-e35d-64949d19cdab"
      },
      "execution_count": null,
      "outputs": [
        {
          "output_type": "execute_result",
          "data": {
            "text/plain": [
              "   age  sex  cp  trestbps  chol  fbs  restecg  thalach  exang  oldpeak  slope  \\\n",
              "0   52    1   0       125   212    0        1      168      0      1.0      2   \n",
              "1   53    1   0       140   203    1        0      155      1      3.1      0   \n",
              "2   70    1   0       145   174    0        1      125      1      2.6      0   \n",
              "3   61    1   0       148   203    0        1      161      0      0.0      2   \n",
              "4   62    0   0       138   294    1        1      106      0      1.9      1   \n",
              "\n",
              "   ca  thal  target  \n",
              "0   2     3       0  \n",
              "1   0     3       0  \n",
              "2   0     3       0  \n",
              "3   1     3       0  \n",
              "4   3     2       0  "
            ],
            "text/html": [
              "\n",
              "  <div id=\"df-68f7d2ee-a79a-4f6b-82db-f291b49af8a9\">\n",
              "    <div class=\"colab-df-container\">\n",
              "      <div>\n",
              "<style scoped>\n",
              "    .dataframe tbody tr th:only-of-type {\n",
              "        vertical-align: middle;\n",
              "    }\n",
              "\n",
              "    .dataframe tbody tr th {\n",
              "        vertical-align: top;\n",
              "    }\n",
              "\n",
              "    .dataframe thead th {\n",
              "        text-align: right;\n",
              "    }\n",
              "</style>\n",
              "<table border=\"1\" class=\"dataframe\">\n",
              "  <thead>\n",
              "    <tr style=\"text-align: right;\">\n",
              "      <th></th>\n",
              "      <th>age</th>\n",
              "      <th>sex</th>\n",
              "      <th>cp</th>\n",
              "      <th>trestbps</th>\n",
              "      <th>chol</th>\n",
              "      <th>fbs</th>\n",
              "      <th>restecg</th>\n",
              "      <th>thalach</th>\n",
              "      <th>exang</th>\n",
              "      <th>oldpeak</th>\n",
              "      <th>slope</th>\n",
              "      <th>ca</th>\n",
              "      <th>thal</th>\n",
              "      <th>target</th>\n",
              "    </tr>\n",
              "  </thead>\n",
              "  <tbody>\n",
              "    <tr>\n",
              "      <th>0</th>\n",
              "      <td>52</td>\n",
              "      <td>1</td>\n",
              "      <td>0</td>\n",
              "      <td>125</td>\n",
              "      <td>212</td>\n",
              "      <td>0</td>\n",
              "      <td>1</td>\n",
              "      <td>168</td>\n",
              "      <td>0</td>\n",
              "      <td>1.0</td>\n",
              "      <td>2</td>\n",
              "      <td>2</td>\n",
              "      <td>3</td>\n",
              "      <td>0</td>\n",
              "    </tr>\n",
              "    <tr>\n",
              "      <th>1</th>\n",
              "      <td>53</td>\n",
              "      <td>1</td>\n",
              "      <td>0</td>\n",
              "      <td>140</td>\n",
              "      <td>203</td>\n",
              "      <td>1</td>\n",
              "      <td>0</td>\n",
              "      <td>155</td>\n",
              "      <td>1</td>\n",
              "      <td>3.1</td>\n",
              "      <td>0</td>\n",
              "      <td>0</td>\n",
              "      <td>3</td>\n",
              "      <td>0</td>\n",
              "    </tr>\n",
              "    <tr>\n",
              "      <th>2</th>\n",
              "      <td>70</td>\n",
              "      <td>1</td>\n",
              "      <td>0</td>\n",
              "      <td>145</td>\n",
              "      <td>174</td>\n",
              "      <td>0</td>\n",
              "      <td>1</td>\n",
              "      <td>125</td>\n",
              "      <td>1</td>\n",
              "      <td>2.6</td>\n",
              "      <td>0</td>\n",
              "      <td>0</td>\n",
              "      <td>3</td>\n",
              "      <td>0</td>\n",
              "    </tr>\n",
              "    <tr>\n",
              "      <th>3</th>\n",
              "      <td>61</td>\n",
              "      <td>1</td>\n",
              "      <td>0</td>\n",
              "      <td>148</td>\n",
              "      <td>203</td>\n",
              "      <td>0</td>\n",
              "      <td>1</td>\n",
              "      <td>161</td>\n",
              "      <td>0</td>\n",
              "      <td>0.0</td>\n",
              "      <td>2</td>\n",
              "      <td>1</td>\n",
              "      <td>3</td>\n",
              "      <td>0</td>\n",
              "    </tr>\n",
              "    <tr>\n",
              "      <th>4</th>\n",
              "      <td>62</td>\n",
              "      <td>0</td>\n",
              "      <td>0</td>\n",
              "      <td>138</td>\n",
              "      <td>294</td>\n",
              "      <td>1</td>\n",
              "      <td>1</td>\n",
              "      <td>106</td>\n",
              "      <td>0</td>\n",
              "      <td>1.9</td>\n",
              "      <td>1</td>\n",
              "      <td>3</td>\n",
              "      <td>2</td>\n",
              "      <td>0</td>\n",
              "    </tr>\n",
              "  </tbody>\n",
              "</table>\n",
              "</div>\n",
              "      <button class=\"colab-df-convert\" onclick=\"convertToInteractive('df-68f7d2ee-a79a-4f6b-82db-f291b49af8a9')\"\n",
              "              title=\"Convert this dataframe to an interactive table.\"\n",
              "              style=\"display:none;\">\n",
              "        \n",
              "  <svg xmlns=\"http://www.w3.org/2000/svg\" height=\"24px\"viewBox=\"0 0 24 24\"\n",
              "       width=\"24px\">\n",
              "    <path d=\"M0 0h24v24H0V0z\" fill=\"none\"/>\n",
              "    <path d=\"M18.56 5.44l.94 2.06.94-2.06 2.06-.94-2.06-.94-.94-2.06-.94 2.06-2.06.94zm-11 1L8.5 8.5l.94-2.06 2.06-.94-2.06-.94L8.5 2.5l-.94 2.06-2.06.94zm10 10l.94 2.06.94-2.06 2.06-.94-2.06-.94-.94-2.06-.94 2.06-2.06.94z\"/><path d=\"M17.41 7.96l-1.37-1.37c-.4-.4-.92-.59-1.43-.59-.52 0-1.04.2-1.43.59L10.3 9.45l-7.72 7.72c-.78.78-.78 2.05 0 2.83L4 21.41c.39.39.9.59 1.41.59.51 0 1.02-.2 1.41-.59l7.78-7.78 2.81-2.81c.8-.78.8-2.07 0-2.86zM5.41 20L4 18.59l7.72-7.72 1.47 1.35L5.41 20z\"/>\n",
              "  </svg>\n",
              "      </button>\n",
              "      \n",
              "  <style>\n",
              "    .colab-df-container {\n",
              "      display:flex;\n",
              "      flex-wrap:wrap;\n",
              "      gap: 12px;\n",
              "    }\n",
              "\n",
              "    .colab-df-convert {\n",
              "      background-color: #E8F0FE;\n",
              "      border: none;\n",
              "      border-radius: 50%;\n",
              "      cursor: pointer;\n",
              "      display: none;\n",
              "      fill: #1967D2;\n",
              "      height: 32px;\n",
              "      padding: 0 0 0 0;\n",
              "      width: 32px;\n",
              "    }\n",
              "\n",
              "    .colab-df-convert:hover {\n",
              "      background-color: #E2EBFA;\n",
              "      box-shadow: 0px 1px 2px rgba(60, 64, 67, 0.3), 0px 1px 3px 1px rgba(60, 64, 67, 0.15);\n",
              "      fill: #174EA6;\n",
              "    }\n",
              "\n",
              "    [theme=dark] .colab-df-convert {\n",
              "      background-color: #3B4455;\n",
              "      fill: #D2E3FC;\n",
              "    }\n",
              "\n",
              "    [theme=dark] .colab-df-convert:hover {\n",
              "      background-color: #434B5C;\n",
              "      box-shadow: 0px 1px 3px 1px rgba(0, 0, 0, 0.15);\n",
              "      filter: drop-shadow(0px 1px 2px rgba(0, 0, 0, 0.3));\n",
              "      fill: #FFFFFF;\n",
              "    }\n",
              "  </style>\n",
              "\n",
              "      <script>\n",
              "        const buttonEl =\n",
              "          document.querySelector('#df-68f7d2ee-a79a-4f6b-82db-f291b49af8a9 button.colab-df-convert');\n",
              "        buttonEl.style.display =\n",
              "          google.colab.kernel.accessAllowed ? 'block' : 'none';\n",
              "\n",
              "        async function convertToInteractive(key) {\n",
              "          const element = document.querySelector('#df-68f7d2ee-a79a-4f6b-82db-f291b49af8a9');\n",
              "          const dataTable =\n",
              "            await google.colab.kernel.invokeFunction('convertToInteractive',\n",
              "                                                     [key], {});\n",
              "          if (!dataTable) return;\n",
              "\n",
              "          const docLinkHtml = 'Like what you see? Visit the ' +\n",
              "            '<a target=\"_blank\" href=https://colab.research.google.com/notebooks/data_table.ipynb>data table notebook</a>'\n",
              "            + ' to learn more about interactive tables.';\n",
              "          element.innerHTML = '';\n",
              "          dataTable['output_type'] = 'display_data';\n",
              "          await google.colab.output.renderOutput(dataTable, element);\n",
              "          const docLink = document.createElement('div');\n",
              "          docLink.innerHTML = docLinkHtml;\n",
              "          element.appendChild(docLink);\n",
              "        }\n",
              "      </script>\n",
              "    </div>\n",
              "  </div>\n",
              "  "
            ]
          },
          "metadata": {},
          "execution_count": 150
        }
      ]
    },
    {
      "cell_type": "code",
      "source": [
        "#A nossa variável num diz respeito a quais pessoas possuem doença cardíaca ou não, podemos contar esses valores com value_counts\n",
        "\n",
        "df.target.value_counts()\n",
        "\n",
        "#após executarmos, observamos que 499 pessoas não possuem doenças cardíacas e 526 pessoas possuem"
      ],
      "metadata": {
        "colab": {
          "base_uri": "https://localhost:8080/"
        },
        "id": "n4GfwC3Ti-Nn",
        "outputId": "592f621b-927c-47f5-c888-7e7f4a9a117d"
      },
      "execution_count": null,
      "outputs": [
        {
          "output_type": "execute_result",
          "data": {
            "text/plain": [
              "1    526\n",
              "0    499\n",
              "Name: target, dtype: int64"
            ]
          },
          "metadata": {},
          "execution_count": 151
        }
      ]
    },
    {
      "cell_type": "markdown",
      "source": [
        "Agora faremos uma etapa muito importante para a análise de nossos dados, verificaremos quais valores de nosso df são ausentes, para isso, usaremos o isnull."
      ],
      "metadata": {
        "id": "4A6siLsUPkU_"
      }
    },
    {
      "cell_type": "code",
      "source": [
        "df.isnull().sum()\n",
        "\n",
        "#adicionei o sum para a visualização dos valores ausentes ficar mais simples\n",
        "#depois de rodarmos a célula, podemos verificar que não possuimos valores ausentes em nosso df, o que é muito bom!"
      ],
      "metadata": {
        "colab": {
          "base_uri": "https://localhost:8080/"
        },
        "id": "CBULTItGjw0e",
        "outputId": "1e925ae4-a113-4508-e208-e754a26ebb04"
      },
      "execution_count": null,
      "outputs": [
        {
          "output_type": "execute_result",
          "data": {
            "text/plain": [
              "age         0\n",
              "sex         0\n",
              "cp          0\n",
              "trestbps    0\n",
              "chol        0\n",
              "fbs         0\n",
              "restecg     0\n",
              "thalach     0\n",
              "exang       0\n",
              "oldpeak     0\n",
              "slope       0\n",
              "ca          0\n",
              "thal        0\n",
              "target      0\n",
              "dtype: int64"
            ]
          },
          "metadata": {},
          "execution_count": 8
        }
      ]
    },
    {
      "cell_type": "markdown",
      "source": [
        "# Verificando a existência de outliers"
      ],
      "metadata": {
        "id": "2fsCqeaKA6wL"
      }
    },
    {
      "cell_type": "code",
      "source": [
        "#Verificando outliers\n",
        "\n",
        "df.chol.plot(kind='box', vert=False, figsize=(15, 3))\n",
        "plt.show()"
      ],
      "metadata": {
        "colab": {
          "base_uri": "https://localhost:8080/",
          "height": 211
        },
        "id": "cEhIqpYc8QH2",
        "outputId": "6cf1ffe6-6537-4cc0-98b9-97602cf7230b"
      },
      "execution_count": null,
      "outputs": [
        {
          "output_type": "display_data",
          "data": {
            "text/plain": [
              "<Figure size 1080x216 with 1 Axes>"
            ],
            "image/png": "[encoded data removed]"
          },
          "metadata": {
            "needs_background": "light"
          }
        }
      ]
    },
    {
      "cell_type": "code",
      "source": [
        "df.fbs.plot(kind='box', vert=False, figsize=(15, 3))\n",
        "plt.show()"
      ],
      "metadata": {
        "colab": {
          "base_uri": "https://localhost:8080/",
          "height": 211
        },
        "id": "wZMrj-y-DCMA",
        "outputId": "fbffcc61-c1b3-4625-d8f6-d5906a8d3ef4"
      },
      "execution_count": null,
      "outputs": [
        {
          "output_type": "display_data",
          "data": {
            "text/plain": [
              "<Figure size 1080x216 with 1 Axes>"
            ],
            "image/png": "[encoded data removed]"
          },
          "metadata": {
            "needs_background": "light"
          }
        }
      ]
    },
    {
      "cell_type": "code",
      "source": [
        "for column in df:\n",
        "    plt.figure()\n",
        "    df.boxplot([column])"
      ],
      "metadata": {
        "colab": {
          "base_uri": "https://localhost:8080/",
          "height": 1000
        },
        "id": "oK9vIuzKAyZU",
        "outputId": "a9647474-386c-4e8d-eef6-1ad6dde56078"
      },
      "execution_count": null,
      "outputs": [
        {
          "output_type": "display_data",
          "data": {
            "text/plain": [
              "<Figure size 432x288 with 1 Axes>"
            ],
            "image/png": "[encoded data removed]"
          },
          "metadata": {
            "needs_background": "light"
          }
        },
        {
          "output_type": "display_data",
          "data": {
            "text/plain": [
              "<Figure size 432x288 with 1 Axes>"
            ],
            "image/png": "[encoded data removed]"
          },
          "metadata": {
            "needs_background": "light"
          }
        },
        {
          "output_type": "display_data",
          "data": {
            "text/plain": [
              "<Figure size 432x288 with 1 Axes>"
            ],
            "image/png": "[encoded data removed]"
          },
          "metadata": {
            "needs_background": "light"
          }
        },
        {
          "output_type": "display_data",
          "data": {
            "text/plain": [
              "<Figure size 432x288 with 1 Axes>"
            ],
            "image/png": "[encoded data removed]"
          },
          "metadata": {
            "needs_background": "light"
          }
        },
        {
          "output_type": "display_data",
          "data": {
            "text/plain": [
              "<Figure size 432x288 with 1 Axes>"
            ],
            "image/png": "[encoded data removed]"
          },
          "metadata": {
            "needs_background": "light"
          }
        },
        {
          "output_type": "display_data",
          "data": {
            "text/plain": [
              "<Figure size 432x288 with 1 Axes>"
            ],
            "image/png": "[encoded data removed]"
          },
          "metadata": {
            "needs_background": "light"
          }
        },
        {
          "output_type": "display_data",
          "data": {
            "text/plain": [
              "<Figure size 432x288 with 1 Axes>"
            ],
            "image/png": "[encoded data removed]"
          },
          "metadata": {
            "needs_background": "light"
          }
        },
        {
          "output_type": "display_data",
          "data": {
            "text/plain": [
              "<Figure size 432x288 with 1 Axes>"
            ],
            "image/png": "[encoded data removed]"
          },
          "metadata": {
            "needs_background": "light"
          }
        },
        {
          "output_type": "display_data",
          "data": {
            "text/plain": [
              "<Figure size 432x288 with 1 Axes>"
            ],
            "image/png": "[encoded data removed]"
          },
          "metadata": {
            "needs_background": "light"
          }
        },
        {
          "output_type": "display_data",
          "data": {
            "text/plain": [
              "<Figure size 432x288 with 1 Axes>"
            ],
            "image/png": "[encoded data removed]"
          },
          "metadata": {
            "needs_background": "light"
          }
        },
        {
          "output_type": "display_data",
          "data": {
            "text/plain": [
              "<Figure size 432x288 with 1 Axes>"
            ],
            "image/png": "[encoded data removed]"
          },
          "metadata": {
            "needs_background": "light"
          }
        },
        {
          "output_type": "display_data",
          "data": {
            "text/plain": [
              "<Figure size 432x288 with 1 Axes>"
            ],
            "image/png": "[encoded data removed]"
          },
          "metadata": {
            "needs_background": "light"
          }
        },
        {
          "output_type": "display_data",
          "data": {
            "text/plain": [
              "<Figure size 432x288 with 1 Axes>"
            ],
            "image/png": "[encoded data removed]"
          },
          "metadata": {
            "needs_background": "light"
          }
        },
        {
          "output_type": "display_data",
          "data": {
            "text/plain": [
              "<Figure size 432x288 with 1 Axes>"
            ],
            "image/png": "[encoded data removed]"
          },
          "metadata": {
            "needs_background": "light"
          }
        }
      ]
    },
    {
      "cell_type": "code",
      "source": [
        "df.fbs.value_counts()"
      ],
      "metadata": {
        "id": "JUM7FJU4L710",
        "outputId": "235c2793-ab23-4c1b-b0fe-d9abe607c14f",
        "colab": {
          "base_uri": "https://localhost:8080/"
        }
      },
      "execution_count": null,
      "outputs": [
        {
          "output_type": "execute_result",
          "data": {
            "text/plain": [
              "0    872\n",
              "1    153\n",
              "Name: fbs, dtype: int64"
            ]
          },
          "metadata": {},
          "execution_count": 3
        }
      ]
    },
    {
      "cell_type": "code",
      "source": [
        "#eliminando outliers\n",
        "\n",
        "#chol\n",
        "df_clean = df.copy()\n",
        "df_clean.drop(df_clean[df_clean.chol > 380].index, axis=0, inplace=True)\n",
        "\n",
        "#trestbps\n",
        "#df_clean.drop(df_clean[df_clean.trestbps > 170].index, axis=0, inplace=True)\n",
        "\n",
        "#thalach\n",
        "df_clean.drop(df_clean[df_clean.thalach < 80].index, axis=0, inplace=True)\n",
        "\n",
        "#oldpeak\n",
        "df_clean.drop(df_clean[df_clean.oldpeak > 5].index, axis=0, inplace=True)\n",
        "\n",
        "#ca\n",
        "df_clean.drop(df_clean[df_clean.ca > 2.5].index, axis=0, inplace=True)\n",
        "\n",
        "#thal\n",
        "df_clean.drop(df_clean[df_clean.thal < 1].index, axis=0, inplace=True)\n"
      ],
      "metadata": {
        "id": "k1zJT2_T88Sa"
      },
      "execution_count": null,
      "outputs": []
    },
    {
      "cell_type": "code",
      "source": [
        "print(\"Forma dos dados\")\n",
        "print(\"Linhas:\\t\\t\",df_clean.shape[0])\n",
        "print(\"Colunas:\\t\",df_clean.shape[1])"
      ],
      "metadata": {
        "colab": {
          "base_uri": "https://localhost:8080/"
        },
        "id": "03i7PwKCkR3H",
        "outputId": "aa200a0a-dc95-4062-ab80-b7980f137fba"
      },
      "execution_count": null,
      "outputs": [
        {
          "output_type": "stream",
          "name": "stdout",
          "text": [
            "Forma dos dados\n",
            "Linhas:\t\t 911\n",
            "Colunas:\t 14\n"
          ]
        }
      ]
    },
    {
      "cell_type": "code",
      "source": [
        "df_clean.chol.plot(kind='box', vert=False, figsize=(15, 3))\n",
        "plt.show()"
      ],
      "metadata": {
        "colab": {
          "base_uri": "https://localhost:8080/",
          "height": 211
        },
        "id": "TSPwl5zL9j5Y",
        "outputId": "585a5347-d774-4f1e-8c41-666214232a7c"
      },
      "execution_count": null,
      "outputs": [
        {
          "output_type": "display_data",
          "data": {
            "text/plain": [
              "<Figure size 1080x216 with 1 Axes>"
            ],
            "image/png": "[encoded data removed]"
          },
          "metadata": {
            "needs_background": "light"
          }
        }
      ]
    },
    {
      "cell_type": "code",
      "source": [
        "df_clean.trestbps.plot(kind='box', vert=False, figsize=(15, 3))\n",
        "plt.show()"
      ],
      "metadata": {
        "colab": {
          "base_uri": "https://localhost:8080/",
          "height": 211
        },
        "id": "1vpsrWz7BVKN",
        "outputId": "c8545272-6f8e-4d3b-b67e-bd0525bef89c"
      },
      "execution_count": null,
      "outputs": [
        {
          "output_type": "display_data",
          "data": {
            "text/plain": [
              "<Figure size 1080x216 with 1 Axes>"
            ],
            "image/png": "[encoded data removed]"
          },
          "metadata": {
            "needs_background": "light"
          }
        }
      ]
    },
    {
      "cell_type": "code",
      "source": [
        "for column in df_clean:\n",
        "    plt.figure()\n",
        "    df_clean.boxplot([column])"
      ],
      "metadata": {
        "colab": {
          "base_uri": "https://localhost:8080/",
          "height": 1000
        },
        "id": "pg1NAw7kCrRN",
        "outputId": "6e058e7b-bb66-4cd4-c250-0b369c3f8646"
      },
      "execution_count": null,
      "outputs": [
        {
          "output_type": "display_data",
          "data": {
            "text/plain": [
              "<Figure size 432x288 with 1 Axes>"
            ],
            "image/png": "[encoded data removed]"
          },
          "metadata": {
            "needs_background": "light"
          }
        },
        {
          "output_type": "display_data",
          "data": {
            "text/plain": [
              "<Figure size 432x288 with 1 Axes>"
            ],
            "image/png": "[encoded data removed]"
          },
          "metadata": {
            "needs_background": "light"
          }
        },
        {
          "output_type": "display_data",
          "data": {
            "text/plain": [
              "<Figure size 432x288 with 1 Axes>"
            ],
            "image/png": "[encoded data removed]"
          },
          "metadata": {
            "needs_background": "light"
          }
        },
        {
          "output_type": "display_data",
          "data": {
            "text/plain": [
              "<Figure size 432x288 with 1 Axes>"
            ],
            "image/png": "[encoded data removed]"
          },
          "metadata": {
            "needs_background": "light"
          }
        },
        {
          "output_type": "display_data",
          "data": {
            "text/plain": [
              "<Figure size 432x288 with 1 Axes>"
            ],
            "image/png": "[encoded data removed]"
          },
          "metadata": {
            "needs_background": "light"
          }
        },
        {
          "output_type": "display_data",
          "data": {
            "text/plain": [
              "<Figure size 432x288 with 1 Axes>"
            ],
            "image/png": "[encoded data removed]"
          },
          "metadata": {
            "needs_background": "light"
          }
        },
        {
          "output_type": "display_data",
          "data": {
            "text/plain": [
              "<Figure size 432x288 with 1 Axes>"
            ],
            "image/png": "[encoded data removed]"
          },
          "metadata": {
            "needs_background": "light"
          }
        },
        {
          "output_type": "display_data",
          "data": {
            "text/plain": [
              "<Figure size 432x288 with 1 Axes>"
            ],
            "image/png": "[encoded data removed]"
          },
          "metadata": {
            "needs_background": "light"
          }
        },
        {
          "output_type": "display_data",
          "data": {
            "text/plain": [
              "<Figure size 432x288 with 1 Axes>"
            ],
            "image/png": "[encoded data removed]"
          },
          "metadata": {
            "needs_background": "light"
          }
        },
        {
          "output_type": "display_data",
          "data": {
            "text/plain": [
              "<Figure size 432x288 with 1 Axes>"
            ],
            "image/png": "[encoded data removed]"
          },
          "metadata": {
            "needs_background": "light"
          }
        },
        {
          "output_type": "display_data",
          "data": {
            "text/plain": [
              "<Figure size 432x288 with 1 Axes>"
            ],
            "image/png": "[encoded data removed]"
          },
          "metadata": {
            "needs_background": "light"
          }
        },
        {
          "output_type": "display_data",
          "data": {
            "text/plain": [
              "<Figure size 432x288 with 1 Axes>"
            ],
            "image/png": "[encoded data removed]"
          },
          "metadata": {
            "needs_background": "light"
          }
        },
        {
          "output_type": "display_data",
          "data": {
            "text/plain": [
              "<Figure size 432x288 with 1 Axes>"
            ],
            "image/png": "[encoded data removed]"
          },
          "metadata": {
            "needs_background": "light"
          }
        },
        {
          "output_type": "display_data",
          "data": {
            "text/plain": [
              "<Figure size 432x288 with 1 Axes>"
            ],
            "image/png": "[encoded data removed]"
          },
          "metadata": {
            "needs_background": "light"
          }
        }
      ]
    },
    {
      "cell_type": "code",
      "source": [
        "df_clean.describe()"
      ],
      "metadata": {
        "colab": {
          "base_uri": "https://localhost:8080/",
          "height": 300
        },
        "id": "GatIXqKHDvqY",
        "outputId": "34f9b9df-0483-49a6-a46c-19b3a4e065d9"
      },
      "execution_count": null,
      "outputs": [
        {
          "output_type": "execute_result",
          "data": {
            "text/plain": [
              "              age         sex          cp    trestbps        chol         fbs  \\\n",
              "count  911.000000  911.000000  911.000000  911.000000  911.000000  911.000000   \n",
              "mean    54.043908    0.689352    0.971460  131.189901  243.015368    0.138310   \n",
              "std      8.985840    0.463013    1.038415   17.874475   44.712830    0.345414   \n",
              "min     29.000000    0.000000    0.000000   94.000000  126.000000    0.000000   \n",
              "25%     47.000000    0.000000    0.000000  120.000000  210.000000    0.000000   \n",
              "50%     55.000000    1.000000    1.000000  130.000000  240.000000    0.000000   \n",
              "75%     60.000000    1.000000    2.000000  140.000000  273.000000    0.000000   \n",
              "max     76.000000    1.000000    3.000000  200.000000  360.000000    1.000000   \n",
              "\n",
              "          restecg     thalach       exang     oldpeak       slope          ca  \\\n",
              "count  911.000000  911.000000  911.000000  911.000000  911.000000  911.000000   \n",
              "mean     0.536773  150.557629    0.338090    1.008452    1.408342    0.532382   \n",
              "std      0.522587   22.508038    0.473319    1.087928    0.616706    0.732896   \n",
              "min      0.000000   88.000000    0.000000    0.000000    0.000000    0.000000   \n",
              "25%      0.000000  136.000000    0.000000    0.000000    1.000000    0.000000   \n",
              "50%      1.000000  154.000000    0.000000    0.700000    1.000000    0.000000   \n",
              "75%      1.000000  168.000000    1.000000    1.600000    2.000000    1.000000   \n",
              "max      2.000000  202.000000    1.000000    4.200000    2.000000    2.000000   \n",
              "\n",
              "             thal      target  \n",
              "count  911.000000  911.000000  \n",
              "mean     2.323820    0.537870  \n",
              "std      0.586921    0.498838  \n",
              "min      1.000000    0.000000  \n",
              "25%      2.000000    0.000000  \n",
              "50%      2.000000    1.000000  \n",
              "75%      3.000000    1.000000  \n",
              "max      3.000000    1.000000  "
            ],
            "text/html": [
              "\n",
              "  <div id=\"df-2a7dd260-3785-49d2-bada-e306ea9e2008\">\n",
              "    <div class=\"colab-df-container\">\n",
              "      <div>\n",
              "<style scoped>\n",
              "    .dataframe tbody tr th:only-of-type {\n",
              "        vertical-align: middle;\n",
              "    }\n",
              "\n",
              "    .dataframe tbody tr th {\n",
              "        vertical-align: top;\n",
              "    }\n",
              "\n",
              "    .dataframe thead th {\n",
              "        text-align: right;\n",
              "    }\n",
              "</style>\n",
              "<table border=\"1\" class=\"dataframe\">\n",
              "  <thead>\n",
              "    <tr style=\"text-align: right;\">\n",
              "      <th></th>\n",
              "      <th>age</th>\n",
              "      <th>sex</th>\n",
              "      <th>cp</th>\n",
              "      <th>trestbps</th>\n",
              "      <th>chol</th>\n",
              "      <th>fbs</th>\n",
              "      <th>restecg</th>\n",
              "      <th>thalach</th>\n",
              "      <th>exang</th>\n",
              "      <th>oldpeak</th>\n",
              "      <th>slope</th>\n",
              "      <th>ca</th>\n",
              "      <th>thal</th>\n",
              "      <th>target</th>\n",
              "    </tr>\n",
              "  </thead>\n",
              "  <tbody>\n",
              "    <tr>\n",
              "      <th>count</th>\n",
              "      <td>911.000000</td>\n",
              "      <td>911.000000</td>\n",
              "      <td>911.000000</td>\n",
              "      <td>911.000000</td>\n",
              "      <td>911.000000</td>\n",
              "      <td>911.000000</td>\n",
              "      <td>911.000000</td>\n",
              "      <td>911.000000</td>\n",
              "      <td>911.000000</td>\n",
              "      <td>911.000000</td>\n",
              "      <td>911.000000</td>\n",
              "      <td>911.000000</td>\n",
              "      <td>911.000000</td>\n",
              "      <td>911.000000</td>\n",
              "    </tr>\n",
              "    <tr>\n",
              "      <th>mean</th>\n",
              "      <td>54.043908</td>\n",
              "      <td>0.689352</td>\n",
              "      <td>0.971460</td>\n",
              "      <td>131.189901</td>\n",
              "      <td>243.015368</td>\n",
              "      <td>0.138310</td>\n",
              "      <td>0.536773</td>\n",
              "      <td>150.557629</td>\n",
              "      <td>0.338090</td>\n",
              "      <td>1.008452</td>\n",
              "      <td>1.408342</td>\n",
              "      <td>0.532382</td>\n",
              "      <td>2.323820</td>\n",
              "      <td>0.537870</td>\n",
              "    </tr>\n",
              "    <tr>\n",
              "      <th>std</th>\n",
              "      <td>8.985840</td>\n",
              "      <td>0.463013</td>\n",
              "      <td>1.038415</td>\n",
              "      <td>17.874475</td>\n",
              "      <td>44.712830</td>\n",
              "      <td>0.345414</td>\n",
              "      <td>0.522587</td>\n",
              "      <td>22.508038</td>\n",
              "      <td>0.473319</td>\n",
              "      <td>1.087928</td>\n",
              "      <td>0.616706</td>\n",
              "      <td>0.732896</td>\n",
              "      <td>0.586921</td>\n",
              "      <td>0.498838</td>\n",
              "    </tr>\n",
              "    <tr>\n",
              "      <th>min</th>\n",
              "      <td>29.000000</td>\n",
              "      <td>0.000000</td>\n",
              "      <td>0.000000</td>\n",
              "      <td>94.000000</td>\n",
              "      <td>126.000000</td>\n",
              "      <td>0.000000</td>\n",
              "      <td>0.000000</td>\n",
              "      <td>88.000000</td>\n",
              "      <td>0.000000</td>\n",
              "      <td>0.000000</td>\n",
              "      <td>0.000000</td>\n",
              "      <td>0.000000</td>\n",
              "      <td>1.000000</td>\n",
              "      <td>0.000000</td>\n",
              "    </tr>\n",
              "    <tr>\n",
              "      <th>25%</th>\n",
              "      <td>47.000000</td>\n",
              "      <td>0.000000</td>\n",
              "      <td>0.000000</td>\n",
              "      <td>120.000000</td>\n",
              "      <td>210.000000</td>\n",
              "      <td>0.000000</td>\n",
              "      <td>0.000000</td>\n",
              "      <td>136.000000</td>\n",
              "      <td>0.000000</td>\n",
              "      <td>0.000000</td>\n",
              "      <td>1.000000</td>\n",
              "      <td>0.000000</td>\n",
              "      <td>2.000000</td>\n",
              "      <td>0.000000</td>\n",
              "    </tr>\n",
              "    <tr>\n",
              "      <th>50%</th>\n",
              "      <td>55.000000</td>\n",
              "      <td>1.000000</td>\n",
              "      <td>1.000000</td>\n",
              "      <td>130.000000</td>\n",
              "      <td>240.000000</td>\n",
              "      <td>0.000000</td>\n",
              "      <td>1.000000</td>\n",
              "      <td>154.000000</td>\n",
              "      <td>0.000000</td>\n",
              "      <td>0.700000</td>\n",
              "      <td>1.000000</td>\n",
              "      <td>0.000000</td>\n",
              "      <td>2.000000</td>\n",
              "      <td>1.000000</td>\n",
              "    </tr>\n",
              "    <tr>\n",
              "      <th>75%</th>\n",
              "      <td>60.000000</td>\n",
              "      <td>1.000000</td>\n",
              "      <td>2.000000</td>\n",
              "      <td>140.000000</td>\n",
              "      <td>273.000000</td>\n",
              "      <td>0.000000</td>\n",
              "      <td>1.000000</td>\n",
              "      <td>168.000000</td>\n",
              "      <td>1.000000</td>\n",
              "      <td>1.600000</td>\n",
              "      <td>2.000000</td>\n",
              "      <td>1.000000</td>\n",
              "      <td>3.000000</td>\n",
              "      <td>1.000000</td>\n",
              "    </tr>\n",
              "    <tr>\n",
              "      <th>max</th>\n",
              "      <td>76.000000</td>\n",
              "      <td>1.000000</td>\n",
              "      <td>3.000000</td>\n",
              "      <td>200.000000</td>\n",
              "      <td>360.000000</td>\n",
              "      <td>1.000000</td>\n",
              "      <td>2.000000</td>\n",
              "      <td>202.000000</td>\n",
              "      <td>1.000000</td>\n",
              "      <td>4.200000</td>\n",
              "      <td>2.000000</td>\n",
              "      <td>2.000000</td>\n",
              "      <td>3.000000</td>\n",
              "      <td>1.000000</td>\n",
              "    </tr>\n",
              "  </tbody>\n",
              "</table>\n",
              "</div>\n",
              "      <button class=\"colab-df-convert\" onclick=\"convertToInteractive('df-2a7dd260-3785-49d2-bada-e306ea9e2008')\"\n",
              "              title=\"Convert this dataframe to an interactive table.\"\n",
              "              style=\"display:none;\">\n",
              "        \n",
              "  <svg xmlns=\"http://www.w3.org/2000/svg\" height=\"24px\"viewBox=\"0 0 24 24\"\n",
              "       width=\"24px\">\n",
              "    <path d=\"M0 0h24v24H0V0z\" fill=\"none\"/>\n",
              "    <path d=\"M18.56 5.44l.94 2.06.94-2.06 2.06-.94-2.06-.94-.94-2.06-.94 2.06-2.06.94zm-11 1L8.5 8.5l.94-2.06 2.06-.94-2.06-.94L8.5 2.5l-.94 2.06-2.06.94zm10 10l.94 2.06.94-2.06 2.06-.94-2.06-.94-.94-2.06-.94 2.06-2.06.94z\"/><path d=\"M17.41 7.96l-1.37-1.37c-.4-.4-.92-.59-1.43-.59-.52 0-1.04.2-1.43.59L10.3 9.45l-7.72 7.72c-.78.78-.78 2.05 0 2.83L4 21.41c.39.39.9.59 1.41.59.51 0 1.02-.2 1.41-.59l7.78-7.78 2.81-2.81c.8-.78.8-2.07 0-2.86zM5.41 20L4 18.59l7.72-7.72 1.47 1.35L5.41 20z\"/>\n",
              "  </svg>\n",
              "      </button>\n",
              "      \n",
              "  <style>\n",
              "    .colab-df-container {\n",
              "      display:flex;\n",
              "      flex-wrap:wrap;\n",
              "      gap: 12px;\n",
              "    }\n",
              "\n",
              "    .colab-df-convert {\n",
              "      background-color: #E8F0FE;\n",
              "      border: none;\n",
              "      border-radius: 50%;\n",
              "      cursor: pointer;\n",
              "      display: none;\n",
              "      fill: #1967D2;\n",
              "      height: 32px;\n",
              "      padding: 0 0 0 0;\n",
              "      width: 32px;\n",
              "    }\n",
              "\n",
              "    .colab-df-convert:hover {\n",
              "      background-color: #E2EBFA;\n",
              "      box-shadow: 0px 1px 2px rgba(60, 64, 67, 0.3), 0px 1px 3px 1px rgba(60, 64, 67, 0.15);\n",
              "      fill: #174EA6;\n",
              "    }\n",
              "\n",
              "    [theme=dark] .colab-df-convert {\n",
              "      background-color: #3B4455;\n",
              "      fill: #D2E3FC;\n",
              "    }\n",
              "\n",
              "    [theme=dark] .colab-df-convert:hover {\n",
              "      background-color: #434B5C;\n",
              "      box-shadow: 0px 1px 3px 1px rgba(0, 0, 0, 0.15);\n",
              "      filter: drop-shadow(0px 1px 2px rgba(0, 0, 0, 0.3));\n",
              "      fill: #FFFFFF;\n",
              "    }\n",
              "  </style>\n",
              "\n",
              "      <script>\n",
              "        const buttonEl =\n",
              "          document.querySelector('#df-2a7dd260-3785-49d2-bada-e306ea9e2008 button.colab-df-convert');\n",
              "        buttonEl.style.display =\n",
              "          google.colab.kernel.accessAllowed ? 'block' : 'none';\n",
              "\n",
              "        async function convertToInteractive(key) {\n",
              "          const element = document.querySelector('#df-2a7dd260-3785-49d2-bada-e306ea9e2008');\n",
              "          const dataTable =\n",
              "            await google.colab.kernel.invokeFunction('convertToInteractive',\n",
              "                                                     [key], {});\n",
              "          if (!dataTable) return;\n",
              "\n",
              "          const docLinkHtml = 'Like what you see? Visit the ' +\n",
              "            '<a target=\"_blank\" href=https://colab.research.google.com/notebooks/data_table.ipynb>data table notebook</a>'\n",
              "            + ' to learn more about interactive tables.';\n",
              "          element.innerHTML = '';\n",
              "          dataTable['output_type'] = 'display_data';\n",
              "          await google.colab.output.renderOutput(dataTable, element);\n",
              "          const docLink = document.createElement('div');\n",
              "          docLink.innerHTML = docLinkHtml;\n",
              "          element.appendChild(docLink);\n",
              "        }\n",
              "      </script>\n",
              "    </div>\n",
              "  </div>\n",
              "  "
            ]
          },
          "metadata": {},
          "execution_count": 7
        }
      ]
    },
    {
      "cell_type": "markdown",
      "source": [
        "##Verificando o crescimento de mortes por doenças cardíacas no Brasil\n",
        "\n",
        "Gráfico de linha para df_brasil:"
      ],
      "metadata": {
        "id": "zlCMujwHKqx4"
      }
    },
    {
      "cell_type": "code",
      "source": [
        "df_brasil.head(None)"
      ],
      "metadata": {
        "colab": {
          "base_uri": "https://localhost:8080/",
          "height": 488
        },
        "id": "lzQZQ5BzkpFT",
        "outputId": "3a72375f-8a99-4b68-f7fa-d3b044e80ca4"
      },
      "execution_count": null,
      "outputs": [
        {
          "output_type": "execute_result",
          "data": {
            "text/plain": [
              "     ano  mortes_doencas_cardio\n",
              "0   2017                383.961\n",
              "1   2016                362.091\n",
              "2   2015                349.584\n",
              "3   2014                340.284\n",
              "4   2013                339.672\n",
              "5   2012                333.295\n",
              "6   2011                335.213\n",
              "7   2010                326.371\n",
              "8   2009                320.074\n",
              "9   2008                317.797\n",
              "10  2007                308.466\n",
              "11  2006                302.817\n",
              "12  2005                283.927\n",
              "13  2004                285.543"
            ],
            "text/html": [
              "\n",
              "  <div id=\"df-ed000283-f7d7-4480-8abe-5fd4cc0a371f\">\n",
              "    <div class=\"colab-df-container\">\n",
              "      <div>\n",
              "<style scoped>\n",
              "    .dataframe tbody tr th:only-of-type {\n",
              "        vertical-align: middle;\n",
              "    }\n",
              "\n",
              "    .dataframe tbody tr th {\n",
              "        vertical-align: top;\n",
              "    }\n",
              "\n",
              "    .dataframe thead th {\n",
              "        text-align: right;\n",
              "    }\n",
              "</style>\n",
              "<table border=\"1\" class=\"dataframe\">\n",
              "  <thead>\n",
              "    <tr style=\"text-align: right;\">\n",
              "      <th></th>\n",
              "      <th>ano</th>\n",
              "      <th>mortes_doencas_cardio</th>\n",
              "    </tr>\n",
              "  </thead>\n",
              "  <tbody>\n",
              "    <tr>\n",
              "      <th>0</th>\n",
              "      <td>2017</td>\n",
              "      <td>383.961</td>\n",
              "    </tr>\n",
              "    <tr>\n",
              "      <th>1</th>\n",
              "      <td>2016</td>\n",
              "      <td>362.091</td>\n",
              "    </tr>\n",
              "    <tr>\n",
              "      <th>2</th>\n",
              "      <td>2015</td>\n",
              "      <td>349.584</td>\n",
              "    </tr>\n",
              "    <tr>\n",
              "      <th>3</th>\n",
              "      <td>2014</td>\n",
              "      <td>340.284</td>\n",
              "    </tr>\n",
              "    <tr>\n",
              "      <th>4</th>\n",
              "      <td>2013</td>\n",
              "      <td>339.672</td>\n",
              "    </tr>\n",
              "    <tr>\n",
              "      <th>5</th>\n",
              "      <td>2012</td>\n",
              "      <td>333.295</td>\n",
              "    </tr>\n",
              "    <tr>\n",
              "      <th>6</th>\n",
              "      <td>2011</td>\n",
              "      <td>335.213</td>\n",
              "    </tr>\n",
              "    <tr>\n",
              "      <th>7</th>\n",
              "      <td>2010</td>\n",
              "      <td>326.371</td>\n",
              "    </tr>\n",
              "    <tr>\n",
              "      <th>8</th>\n",
              "      <td>2009</td>\n",
              "      <td>320.074</td>\n",
              "    </tr>\n",
              "    <tr>\n",
              "      <th>9</th>\n",
              "      <td>2008</td>\n",
              "      <td>317.797</td>\n",
              "    </tr>\n",
              "    <tr>\n",
              "      <th>10</th>\n",
              "      <td>2007</td>\n",
              "      <td>308.466</td>\n",
              "    </tr>\n",
              "    <tr>\n",
              "      <th>11</th>\n",
              "      <td>2006</td>\n",
              "      <td>302.817</td>\n",
              "    </tr>\n",
              "    <tr>\n",
              "      <th>12</th>\n",
              "      <td>2005</td>\n",
              "      <td>283.927</td>\n",
              "    </tr>\n",
              "    <tr>\n",
              "      <th>13</th>\n",
              "      <td>2004</td>\n",
              "      <td>285.543</td>\n",
              "    </tr>\n",
              "  </tbody>\n",
              "</table>\n",
              "</div>\n",
              "      <button class=\"colab-df-convert\" onclick=\"convertToInteractive('df-ed000283-f7d7-4480-8abe-5fd4cc0a371f')\"\n",
              "              title=\"Convert this dataframe to an interactive table.\"\n",
              "              style=\"display:none;\">\n",
              "        \n",
              "  <svg xmlns=\"http://www.w3.org/2000/svg\" height=\"24px\"viewBox=\"0 0 24 24\"\n",
              "       width=\"24px\">\n",
              "    <path d=\"M0 0h24v24H0V0z\" fill=\"none\"/>\n",
              "    <path d=\"M18.56 5.44l.94 2.06.94-2.06 2.06-.94-2.06-.94-.94-2.06-.94 2.06-2.06.94zm-11 1L8.5 8.5l.94-2.06 2.06-.94-2.06-.94L8.5 2.5l-.94 2.06-2.06.94zm10 10l.94 2.06.94-2.06 2.06-.94-2.06-.94-.94-2.06-.94 2.06-2.06.94z\"/><path d=\"M17.41 7.96l-1.37-1.37c-.4-.4-.92-.59-1.43-.59-.52 0-1.04.2-1.43.59L10.3 9.45l-7.72 7.72c-.78.78-.78 2.05 0 2.83L4 21.41c.39.39.9.59 1.41.59.51 0 1.02-.2 1.41-.59l7.78-7.78 2.81-2.81c.8-.78.8-2.07 0-2.86zM5.41 20L4 18.59l7.72-7.72 1.47 1.35L5.41 20z\"/>\n",
              "  </svg>\n",
              "      </button>\n",
              "      \n",
              "  <style>\n",
              "    .colab-df-container {\n",
              "      display:flex;\n",
              "      flex-wrap:wrap;\n",
              "      gap: 12px;\n",
              "    }\n",
              "\n",
              "    .colab-df-convert {\n",
              "      background-color: #E8F0FE;\n",
              "      border: none;\n",
              "      border-radius: 50%;\n",
              "      cursor: pointer;\n",
              "      display: none;\n",
              "      fill: #1967D2;\n",
              "      height: 32px;\n",
              "      padding: 0 0 0 0;\n",
              "      width: 32px;\n",
              "    }\n",
              "\n",
              "    .colab-df-convert:hover {\n",
              "      background-color: #E2EBFA;\n",
              "      box-shadow: 0px 1px 2px rgba(60, 64, 67, 0.3), 0px 1px 3px 1px rgba(60, 64, 67, 0.15);\n",
              "      fill: #174EA6;\n",
              "    }\n",
              "\n",
              "    [theme=dark] .colab-df-convert {\n",
              "      background-color: #3B4455;\n",
              "      fill: #D2E3FC;\n",
              "    }\n",
              "\n",
              "    [theme=dark] .colab-df-convert:hover {\n",
              "      background-color: #434B5C;\n",
              "      box-shadow: 0px 1px 3px 1px rgba(0, 0, 0, 0.15);\n",
              "      filter: drop-shadow(0px 1px 2px rgba(0, 0, 0, 0.3));\n",
              "      fill: #FFFFFF;\n",
              "    }\n",
              "  </style>\n",
              "\n",
              "      <script>\n",
              "        const buttonEl =\n",
              "          document.querySelector('#df-ed000283-f7d7-4480-8abe-5fd4cc0a371f button.colab-df-convert');\n",
              "        buttonEl.style.display =\n",
              "          google.colab.kernel.accessAllowed ? 'block' : 'none';\n",
              "\n",
              "        async function convertToInteractive(key) {\n",
              "          const element = document.querySelector('#df-ed000283-f7d7-4480-8abe-5fd4cc0a371f');\n",
              "          const dataTable =\n",
              "            await google.colab.kernel.invokeFunction('convertToInteractive',\n",
              "                                                     [key], {});\n",
              "          if (!dataTable) return;\n",
              "\n",
              "          const docLinkHtml = 'Like what you see? Visit the ' +\n",
              "            '<a target=\"_blank\" href=https://colab.research.google.com/notebooks/data_table.ipynb>data table notebook</a>'\n",
              "            + ' to learn more about interactive tables.';\n",
              "          element.innerHTML = '';\n",
              "          dataTable['output_type'] = 'display_data';\n",
              "          await google.colab.output.renderOutput(dataTable, element);\n",
              "          const docLink = document.createElement('div');\n",
              "          docLink.innerHTML = docLinkHtml;\n",
              "          element.appendChild(docLink);\n",
              "        }\n",
              "      </script>\n",
              "    </div>\n",
              "  </div>\n",
              "  "
            ]
          },
          "metadata": {},
          "execution_count": 20
        }
      ]
    },
    {
      "cell_type": "code",
      "source": [
        "df_brasil.plot('ano', 'mortes_doencas_cardio', kind='line', xlabel='Ano', title='Mortes no Brasil', ylabel='Mortes (mil)')\n",
        "\n",
        "max_value = df_brasil.mortes_doencas_cardio.max()\n",
        "min_value = df_brasil.mortes_doencas_cardio.min()\n",
        "\n",
        "growth_rate = (max_value - min_value)/(max_value/100)\n",
        "print(growth_rate)\n",
        "print('\\n')"
      ],
      "metadata": {
        "id": "4Y4KL_VPkzZf",
        "colab": {
          "base_uri": "https://localhost:8080/",
          "height": 347
        },
        "outputId": "2f990242-0653-4ecc-8c0f-d4934c3b7c10"
      },
      "execution_count": null,
      "outputs": [
        {
          "output_type": "stream",
          "name": "stdout",
          "text": [
            "26.053166858092357\n",
            "\n",
            "\n"
          ]
        },
        {
          "output_type": "display_data",
          "data": {
            "text/plain": [
              "<Figure size 432x288 with 1 Axes>"
            ],
            "image/png": "[encoded data removed]"
          },
          "metadata": {
            "needs_background": "light"
          }
        }
      ]
    },
    {
      "cell_type": "markdown",
      "source": [
        "Após plotarmos o gráfico, notamos uma alta de 100.000 mortes no período de 2004 a 2016 e também uma taxa de crescimento de `26.05%` do ano de 2004 ao ano de 2017. \n"
      ],
      "metadata": {
        "id": "UhO1c4cOyUzW"
      }
    },
    {
      "cell_type": "markdown",
      "source": [
        "Agora começaremos uma análise em relação ao sexo dos pacientes."
      ],
      "metadata": {
        "id": "ZByvQR3gX1E0"
      }
    },
    {
      "cell_type": "code",
      "source": [
        "df.sex.value_counts()"
      ],
      "metadata": {
        "colab": {
          "base_uri": "https://localhost:8080/"
        },
        "id": "xXYi9QJxaoTH",
        "outputId": "e1c171d4-84a6-4c8d-b13b-471ece4749da"
      },
      "execution_count": null,
      "outputs": [
        {
          "output_type": "execute_result",
          "data": {
            "text/plain": [
              "1    713\n",
              "0    312\n",
              "Name: sex, dtype: int64"
            ]
          },
          "metadata": {},
          "execution_count": 152
        }
      ]
    },
    {
      "cell_type": "markdown",
      "source": [
        "Gênero dos pacientes:\n",
        "\n",
        "0 - Mulher;\n",
        "\n",
        "1 - Homem;\n",
        "\n",
        "Em relação à gênero, 713 pacientes são homens e 312 são mulheres. Vamos plotar um gráfico para visualizarmos a diferença.\n",
        "\n"
      ],
      "metadata": {
        "id": "aI7XPnoVsnxa"
      }
    },
    {
      "cell_type": "code",
      "source": [
        "x = df.sex.value_counts().index #aqui definimos os valores presentes no atríbuto 'sex' como indíce\n",
        "y = df.sex.value_counts().values #aqui definimos os valores presentes no atríbuto 'sex' com os valores presentes no df.sex\n",
        "\n",
        "fig, ax = plt.subplots()                       \n",
        "ax.bar(x, y, align='center', alpha=0.6)         \n",
        "ax.set_xticks(x)                               \n",
        "ax.set_xlabel('Gênero')                        \n",
        "ax.set_ylabel('Quantidade')                    \n",
        "ax.set_title('Gênero')                         \n",
        "plt.show()                                     "
      ],
      "metadata": {
        "colab": {
          "base_uri": "https://localhost:8080/",
          "height": 295
        },
        "id": "Zj8vNmp1acAi",
        "outputId": "6cf01d43-8ebc-43e5-de2e-ff2288aa33b4"
      },
      "execution_count": null,
      "outputs": [
        {
          "output_type": "display_data",
          "data": {
            "text/plain": [
              "<Figure size 432x288 with 1 Axes>"
            ],
            "image/png": "[encoded data removed]"
          },
          "metadata": {
            "needs_background": "light"
          }
        }
      ]
    },
    {
      "cell_type": "markdown",
      "source": [
        "Vamos ver a quantidade de homens e mulheres que possuem e não possuem doença cardiovascular.\n",
        "\n"
      ],
      "metadata": {
        "id": "QxM81SvXa5xJ"
      }
    },
    {
      "cell_type": "code",
      "source": [
        "((df[\"sex\"] == 0) & (df[\"target\"] == 0)).value_counts() \n",
        "# 86 pacientes são mulheres e não possuem doença cardíaca"
      ],
      "metadata": {
        "colab": {
          "base_uri": "https://localhost:8080/"
        },
        "id": "GuIQXdHUHuWc",
        "outputId": "a04902e2-45d5-4526-f836-05b0687aaf89"
      },
      "execution_count": null,
      "outputs": [
        {
          "output_type": "execute_result",
          "data": {
            "text/plain": [
              "False    939\n",
              "True      86\n",
              "dtype: int64"
            ]
          },
          "metadata": {},
          "execution_count": 154
        }
      ]
    },
    {
      "cell_type": "code",
      "source": [
        "((df[\"sex\"] == 0) & (df[\"target\"] == 1)).value_counts() \n",
        "# 226 pacientes são mulheres e possuem doença cardíaca"
      ],
      "metadata": {
        "colab": {
          "base_uri": "https://localhost:8080/"
        },
        "id": "qk7wLyt0akns",
        "outputId": "9c15c845-2cb0-4e57-9e84-c297536482ca"
      },
      "execution_count": null,
      "outputs": [
        {
          "output_type": "execute_result",
          "data": {
            "text/plain": [
              "False    799\n",
              "True     226\n",
              "dtype: int64"
            ]
          },
          "metadata": {},
          "execution_count": 155
        }
      ]
    },
    {
      "cell_type": "code",
      "source": [
        "((df[\"sex\"] == 1) & (df[\"target\"] == 0)).value_counts() \n",
        "# 413 pacientes são homens e não possuem doença cardíaca"
      ],
      "metadata": {
        "colab": {
          "base_uri": "https://localhost:8080/"
        },
        "id": "TBFrwGNNagiO",
        "outputId": "15f07a8d-96c5-4863-ad0a-d4b069efab09"
      },
      "execution_count": null,
      "outputs": [
        {
          "output_type": "execute_result",
          "data": {
            "text/plain": [
              "False    612\n",
              "True     413\n",
              "dtype: int64"
            ]
          },
          "metadata": {},
          "execution_count": 156
        }
      ]
    },
    {
      "cell_type": "code",
      "source": [
        "((df[\"sex\"] == 1) & (df[\"target\"] == 1)).value_counts() \n",
        "# 300 pacientes são homens e possuem doença cardíaca"
      ],
      "metadata": {
        "colab": {
          "base_uri": "https://localhost:8080/"
        },
        "id": "gKCA7Gtxadl7",
        "outputId": "33e960b0-7497-484c-9f4d-91a9defb1f4c"
      },
      "execution_count": null,
      "outputs": [
        {
          "output_type": "execute_result",
          "data": {
            "text/plain": [
              "False    725\n",
              "True     300\n",
              "dtype: int64"
            ]
          },
          "metadata": {},
          "execution_count": 157
        }
      ]
    },
    {
      "cell_type": "markdown",
      "source": [
        "Armazenando a quantidade de homens e mulheres em variáveis para efetuarmos o cálculo de porcentagem. "
      ],
      "metadata": {
        "id": "Mr9xlJ0JJ6K0"
      }
    },
    {
      "cell_type": "code",
      "source": [
        "women_amount = (df.sex == 0).sum() #soma de todas as mulheres\n",
        "women_amount_d = ((df[\"sex\"] == 0) & (df[\"target\"] == 1)).sum() #mulheres e cardiopatia\n",
        "\n",
        "men_amount = (df.sex == 1).sum() #soma de todos os homens\n",
        "men_amount_d = ((df[\"sex\"] == 1) & (df[\"target\"] == 1)).sum() #homens e cardiopatia"
      ],
      "metadata": {
        "id": "DtU34xIibSYg"
      },
      "execution_count": null,
      "outputs": []
    },
    {
      "cell_type": "markdown",
      "source": [
        "Aqui é calculada a porcentagem de homens e mulheres com doença cardiovascular."
      ],
      "metadata": {
        "id": "KO0oXrfoKHzj"
      }
    },
    {
      "cell_type": "code",
      "source": [
        "perc_women = (100*women_amount_d)/women_amount\n",
        "print(perc_women)\n",
        "\n",
        "perc_men = (100*men_amount_d)/men_amount\n",
        "print(perc_men)"
      ],
      "metadata": {
        "colab": {
          "base_uri": "https://localhost:8080/"
        },
        "id": "819u3h8zchKy",
        "outputId": "ec020c63-2294-490c-d57f-689d3960fd5f"
      },
      "execution_count": null,
      "outputs": [
        {
          "output_type": "stream",
          "name": "stdout",
          "text": [
            "72.43589743589743\n",
            "42.07573632538569\n"
          ]
        }
      ]
    },
    {
      "cell_type": "markdown",
      "source": [
        "* Mulheres sem doença cardíaca: `86` \n",
        "* Mulheres com doença cardíaca: `226`\n",
        "\n",
        "* Homens sem doença cardíaca: `413`\n",
        "* Homens com doença cardíaca: `300`\n",
        "\n",
        "\n",
        "Após realizarmos essa análise, notamos que `72.44%` das mulheres  e `42.07%` dos homens possuem doença neste dataset. Esta porcentagem é explicada pela maior quantidade de homens."
      ],
      "metadata": {
        "id": "yWogQv2ZbElS"
      }
    },
    {
      "cell_type": "markdown",
      "source": [
        "Aqui vamos visualizar as correlações entre as variáveis e salvar na variável `corr`, seguindo a análise vamos plotar um mapa de calor para visualizarmos de maneira mais intuitiva e teremos uma explicação mais detalhada."
      ],
      "metadata": {
        "id": "V5P5vORatSEh"
      }
    },
    {
      "cell_type": "code",
      "source": [
        "corr = df_clean.corr(method='pearson')\n",
        "corr"
      ],
      "metadata": {
        "id": "UEuKw5aY-5RL",
        "colab": {
          "base_uri": "https://localhost:8080/",
          "height": 488
        },
        "outputId": "bfd81898-034f-4536-81d5-46e8c71ebc97"
      },
      "execution_count": null,
      "outputs": [
        {
          "output_type": "execute_result",
          "data": {
            "text/plain": [
              "               age       sex        cp  trestbps      chol       fbs  \\\n",
              "age       1.000000 -0.089161 -0.033194  0.279837  0.147536  0.144262   \n",
              "sex      -0.089161  1.000000 -0.048173 -0.069478 -0.153861  0.021586   \n",
              "cp       -0.033194 -0.048173  1.000000  0.066364 -0.044817  0.121311   \n",
              "trestbps  0.279837 -0.069478  0.066364  1.000000  0.146998  0.201671   \n",
              "chol      0.147536 -0.153861 -0.044817  0.146998  1.000000 -0.005545   \n",
              "fbs       0.144262  0.021586  0.121311  0.201671 -0.005545  1.000000   \n",
              "restecg  -0.104714 -0.109422  0.036361 -0.099863 -0.101137 -0.101261   \n",
              "thalach  -0.375757 -0.043147  0.283204 -0.021465 -0.017209 -0.007952   \n",
              "exang     0.099596  0.123751 -0.396206  0.052411  0.076291  0.043022   \n",
              "oldpeak   0.189258  0.128258 -0.131395  0.189780  0.008268  0.051570   \n",
              "slope    -0.147403 -0.036326  0.083425 -0.105435  0.027987 -0.100343   \n",
              "ca        0.374890  0.066917 -0.224037  0.067854  0.085563  0.147241   \n",
              "thal      0.078146  0.241174 -0.172337  0.049753  0.080753 -0.036867   \n",
              "target   -0.208018 -0.293950  0.409403 -0.122141 -0.107135 -0.036810   \n",
              "\n",
              "           restecg   thalach     exang   oldpeak     slope        ca  \\\n",
              "age      -0.104714 -0.375757  0.099596  0.189258 -0.147403  0.374890   \n",
              "sex      -0.109422 -0.043147  0.123751  0.128258 -0.036326  0.066917   \n",
              "cp        0.036361  0.283204 -0.396206 -0.131395  0.083425 -0.224037   \n",
              "trestbps -0.099863 -0.021465  0.052411  0.189780 -0.105435  0.067854   \n",
              "chol     -0.101137 -0.017209  0.076291  0.008268  0.027987  0.085563   \n",
              "fbs      -0.101261 -0.007952  0.043022  0.051570 -0.100343  0.147241   \n",
              "restecg   1.000000  0.049545 -0.059203 -0.081824  0.123844 -0.101382   \n",
              "thalach   0.049545  1.000000 -0.424537 -0.355082  0.387883 -0.227524   \n",
              "exang    -0.059203 -0.424537  1.000000  0.365129 -0.285247  0.199657   \n",
              "oldpeak  -0.081824 -0.355082  0.365129  1.000000 -0.546958  0.276332   \n",
              "slope     0.123844  0.387883 -0.285247 -0.546958  1.000000 -0.060895   \n",
              "ca       -0.101382 -0.227524  0.199657  0.276332 -0.060895  1.000000   \n",
              "thal      0.030998 -0.122073  0.234429  0.192246 -0.083372  0.140373   \n",
              "target    0.130599  0.392544 -0.440586 -0.430169  0.317602 -0.468502   \n",
              "\n",
              "              thal    target  \n",
              "age       0.078146 -0.208018  \n",
              "sex       0.241174 -0.293950  \n",
              "cp       -0.172337  0.409403  \n",
              "trestbps  0.049753 -0.122141  \n",
              "chol      0.080753 -0.107135  \n",
              "fbs      -0.036867 -0.036810  \n",
              "restecg   0.030998  0.130599  \n",
              "thalach  -0.122073  0.392544  \n",
              "exang     0.234429 -0.440586  \n",
              "oldpeak   0.192246 -0.430169  \n",
              "slope    -0.083372  0.317602  \n",
              "ca        0.140373 -0.468502  \n",
              "thal      1.000000 -0.385364  \n",
              "target   -0.385364  1.000000  "
            ],
            "text/html": [
              "\n",
              "  <div id=\"df-1e428dfe-8803-4cf7-ae29-786394a09824\">\n",
              "    <div class=\"colab-df-container\">\n",
              "      <div>\n",
              "<style scoped>\n",
              "    .dataframe tbody tr th:only-of-type {\n",
              "        vertical-align: middle;\n",
              "    }\n",
              "\n",
              "    .dataframe tbody tr th {\n",
              "        vertical-align: top;\n",
              "    }\n",
              "\n",
              "    .dataframe thead th {\n",
              "        text-align: right;\n",
              "    }\n",
              "</style>\n",
              "<table border=\"1\" class=\"dataframe\">\n",
              "  <thead>\n",
              "    <tr style=\"text-align: right;\">\n",
              "      <th></th>\n",
              "      <th>age</th>\n",
              "      <th>sex</th>\n",
              "      <th>cp</th>\n",
              "      <th>trestbps</th>\n",
              "      <th>chol</th>\n",
              "      <th>fbs</th>\n",
              "      <th>restecg</th>\n",
              "      <th>thalach</th>\n",
              "      <th>exang</th>\n",
              "      <th>oldpeak</th>\n",
              "      <th>slope</th>\n",
              "      <th>ca</th>\n",
              "      <th>thal</th>\n",
              "      <th>target</th>\n",
              "    </tr>\n",
              "  </thead>\n",
              "  <tbody>\n",
              "    <tr>\n",
              "      <th>age</th>\n",
              "      <td>1.000000</td>\n",
              "      <td>-0.089161</td>\n",
              "      <td>-0.033194</td>\n",
              "      <td>0.279837</td>\n",
              "      <td>0.147536</td>\n",
              "      <td>0.144262</td>\n",
              "      <td>-0.104714</td>\n",
              "      <td>-0.375757</td>\n",
              "      <td>0.099596</td>\n",
              "      <td>0.189258</td>\n",
              "      <td>-0.147403</td>\n",
              "      <td>0.374890</td>\n",
              "      <td>0.078146</td>\n",
              "      <td>-0.208018</td>\n",
              "    </tr>\n",
              "    <tr>\n",
              "      <th>sex</th>\n",
              "      <td>-0.089161</td>\n",
              "      <td>1.000000</td>\n",
              "      <td>-0.048173</td>\n",
              "      <td>-0.069478</td>\n",
              "      <td>-0.153861</td>\n",
              "      <td>0.021586</td>\n",
              "      <td>-0.109422</td>\n",
              "      <td>-0.043147</td>\n",
              "      <td>0.123751</td>\n",
              "      <td>0.128258</td>\n",
              "      <td>-0.036326</td>\n",
              "      <td>0.066917</td>\n",
              "      <td>0.241174</td>\n",
              "      <td>-0.293950</td>\n",
              "    </tr>\n",
              "    <tr>\n",
              "      <th>cp</th>\n",
              "      <td>-0.033194</td>\n",
              "      <td>-0.048173</td>\n",
              "      <td>1.000000</td>\n",
              "      <td>0.066364</td>\n",
              "      <td>-0.044817</td>\n",
              "      <td>0.121311</td>\n",
              "      <td>0.036361</td>\n",
              "      <td>0.283204</td>\n",
              "      <td>-0.396206</td>\n",
              "      <td>-0.131395</td>\n",
              "      <td>0.083425</td>\n",
              "      <td>-0.224037</td>\n",
              "      <td>-0.172337</td>\n",
              "      <td>0.409403</td>\n",
              "    </tr>\n",
              "    <tr>\n",
              "      <th>trestbps</th>\n",
              "      <td>0.279837</td>\n",
              "      <td>-0.069478</td>\n",
              "      <td>0.066364</td>\n",
              "      <td>1.000000</td>\n",
              "      <td>0.146998</td>\n",
              "      <td>0.201671</td>\n",
              "      <td>-0.099863</td>\n",
              "      <td>-0.021465</td>\n",
              "      <td>0.052411</td>\n",
              "      <td>0.189780</td>\n",
              "      <td>-0.105435</td>\n",
              "      <td>0.067854</td>\n",
              "      <td>0.049753</td>\n",
              "      <td>-0.122141</td>\n",
              "    </tr>\n",
              "    <tr>\n",
              "      <th>chol</th>\n",
              "      <td>0.147536</td>\n",
              "      <td>-0.153861</td>\n",
              "      <td>-0.044817</td>\n",
              "      <td>0.146998</td>\n",
              "      <td>1.000000</td>\n",
              "      <td>-0.005545</td>\n",
              "      <td>-0.101137</td>\n",
              "      <td>-0.017209</td>\n",
              "      <td>0.076291</td>\n",
              "      <td>0.008268</td>\n",
              "      <td>0.027987</td>\n",
              "      <td>0.085563</td>\n",
              "      <td>0.080753</td>\n",
              "      <td>-0.107135</td>\n",
              "    </tr>\n",
              "    <tr>\n",
              "      <th>fbs</th>\n",
              "      <td>0.144262</td>\n",
              "      <td>0.021586</td>\n",
              "      <td>0.121311</td>\n",
              "      <td>0.201671</td>\n",
              "      <td>-0.005545</td>\n",
              "      <td>1.000000</td>\n",
              "      <td>-0.101261</td>\n",
              "      <td>-0.007952</td>\n",
              "      <td>0.043022</td>\n",
              "      <td>0.051570</td>\n",
              "      <td>-0.100343</td>\n",
              "      <td>0.147241</td>\n",
              "      <td>-0.036867</td>\n",
              "      <td>-0.036810</td>\n",
              "    </tr>\n",
              "    <tr>\n",
              "      <th>restecg</th>\n",
              "      <td>-0.104714</td>\n",
              "      <td>-0.109422</td>\n",
              "      <td>0.036361</td>\n",
              "      <td>-0.099863</td>\n",
              "      <td>-0.101137</td>\n",
              "      <td>-0.101261</td>\n",
              "      <td>1.000000</td>\n",
              "      <td>0.049545</td>\n",
              "      <td>-0.059203</td>\n",
              "      <td>-0.081824</td>\n",
              "      <td>0.123844</td>\n",
              "      <td>-0.101382</td>\n",
              "      <td>0.030998</td>\n",
              "      <td>0.130599</td>\n",
              "    </tr>\n",
              "    <tr>\n",
              "      <th>thalach</th>\n",
              "      <td>-0.375757</td>\n",
              "      <td>-0.043147</td>\n",
              "      <td>0.283204</td>\n",
              "      <td>-0.021465</td>\n",
              "      <td>-0.017209</td>\n",
              "      <td>-0.007952</td>\n",
              "      <td>0.049545</td>\n",
              "      <td>1.000000</td>\n",
              "      <td>-0.424537</td>\n",
              "      <td>-0.355082</td>\n",
              "      <td>0.387883</td>\n",
              "      <td>-0.227524</td>\n",
              "      <td>-0.122073</td>\n",
              "      <td>0.392544</td>\n",
              "    </tr>\n",
              "    <tr>\n",
              "      <th>exang</th>\n",
              "      <td>0.099596</td>\n",
              "      <td>0.123751</td>\n",
              "      <td>-0.396206</td>\n",
              "      <td>0.052411</td>\n",
              "      <td>0.076291</td>\n",
              "      <td>0.043022</td>\n",
              "      <td>-0.059203</td>\n",
              "      <td>-0.424537</td>\n",
              "      <td>1.000000</td>\n",
              "      <td>0.365129</td>\n",
              "      <td>-0.285247</td>\n",
              "      <td>0.199657</td>\n",
              "      <td>0.234429</td>\n",
              "      <td>-0.440586</td>\n",
              "    </tr>\n",
              "    <tr>\n",
              "      <th>oldpeak</th>\n",
              "      <td>0.189258</td>\n",
              "      <td>0.128258</td>\n",
              "      <td>-0.131395</td>\n",
              "      <td>0.189780</td>\n",
              "      <td>0.008268</td>\n",
              "      <td>0.051570</td>\n",
              "      <td>-0.081824</td>\n",
              "      <td>-0.355082</td>\n",
              "      <td>0.365129</td>\n",
              "      <td>1.000000</td>\n",
              "      <td>-0.546958</td>\n",
              "      <td>0.276332</td>\n",
              "      <td>0.192246</td>\n",
              "      <td>-0.430169</td>\n",
              "    </tr>\n",
              "    <tr>\n",
              "      <th>slope</th>\n",
              "      <td>-0.147403</td>\n",
              "      <td>-0.036326</td>\n",
              "      <td>0.083425</td>\n",
              "      <td>-0.105435</td>\n",
              "      <td>0.027987</td>\n",
              "      <td>-0.100343</td>\n",
              "      <td>0.123844</td>\n",
              "      <td>0.387883</td>\n",
              "      <td>-0.285247</td>\n",
              "      <td>-0.546958</td>\n",
              "      <td>1.000000</td>\n",
              "      <td>-0.060895</td>\n",
              "      <td>-0.083372</td>\n",
              "      <td>0.317602</td>\n",
              "    </tr>\n",
              "    <tr>\n",
              "      <th>ca</th>\n",
              "      <td>0.374890</td>\n",
              "      <td>0.066917</td>\n",
              "      <td>-0.224037</td>\n",
              "      <td>0.067854</td>\n",
              "      <td>0.085563</td>\n",
              "      <td>0.147241</td>\n",
              "      <td>-0.101382</td>\n",
              "      <td>-0.227524</td>\n",
              "      <td>0.199657</td>\n",
              "      <td>0.276332</td>\n",
              "      <td>-0.060895</td>\n",
              "      <td>1.000000</td>\n",
              "      <td>0.140373</td>\n",
              "      <td>-0.468502</td>\n",
              "    </tr>\n",
              "    <tr>\n",
              "      <th>thal</th>\n",
              "      <td>0.078146</td>\n",
              "      <td>0.241174</td>\n",
              "      <td>-0.172337</td>\n",
              "      <td>0.049753</td>\n",
              "      <td>0.080753</td>\n",
              "      <td>-0.036867</td>\n",
              "      <td>0.030998</td>\n",
              "      <td>-0.122073</td>\n",
              "      <td>0.234429</td>\n",
              "      <td>0.192246</td>\n",
              "      <td>-0.083372</td>\n",
              "      <td>0.140373</td>\n",
              "      <td>1.000000</td>\n",
              "      <td>-0.385364</td>\n",
              "    </tr>\n",
              "    <tr>\n",
              "      <th>target</th>\n",
              "      <td>-0.208018</td>\n",
              "      <td>-0.293950</td>\n",
              "      <td>0.409403</td>\n",
              "      <td>-0.122141</td>\n",
              "      <td>-0.107135</td>\n",
              "      <td>-0.036810</td>\n",
              "      <td>0.130599</td>\n",
              "      <td>0.392544</td>\n",
              "      <td>-0.440586</td>\n",
              "      <td>-0.430169</td>\n",
              "      <td>0.317602</td>\n",
              "      <td>-0.468502</td>\n",
              "      <td>-0.385364</td>\n",
              "      <td>1.000000</td>\n",
              "    </tr>\n",
              "  </tbody>\n",
              "</table>\n",
              "</div>\n",
              "      <button class=\"colab-df-convert\" onclick=\"convertToInteractive('df-1e428dfe-8803-4cf7-ae29-786394a09824')\"\n",
              "              title=\"Convert this dataframe to an interactive table.\"\n",
              "              style=\"display:none;\">\n",
              "        \n",
              "  <svg xmlns=\"http://www.w3.org/2000/svg\" height=\"24px\"viewBox=\"0 0 24 24\"\n",
              "       width=\"24px\">\n",
              "    <path d=\"M0 0h24v24H0V0z\" fill=\"none\"/>\n",
              "    <path d=\"M18.56 5.44l.94 2.06.94-2.06 2.06-.94-2.06-.94-.94-2.06-.94 2.06-2.06.94zm-11 1L8.5 8.5l.94-2.06 2.06-.94-2.06-.94L8.5 2.5l-.94 2.06-2.06.94zm10 10l.94 2.06.94-2.06 2.06-.94-2.06-.94-.94-2.06-.94 2.06-2.06.94z\"/><path d=\"M17.41 7.96l-1.37-1.37c-.4-.4-.92-.59-1.43-.59-.52 0-1.04.2-1.43.59L10.3 9.45l-7.72 7.72c-.78.78-.78 2.05 0 2.83L4 21.41c.39.39.9.59 1.41.59.51 0 1.02-.2 1.41-.59l7.78-7.78 2.81-2.81c.8-.78.8-2.07 0-2.86zM5.41 20L4 18.59l7.72-7.72 1.47 1.35L5.41 20z\"/>\n",
              "  </svg>\n",
              "      </button>\n",
              "      \n",
              "  <style>\n",
              "    .colab-df-container {\n",
              "      display:flex;\n",
              "      flex-wrap:wrap;\n",
              "      gap: 12px;\n",
              "    }\n",
              "\n",
              "    .colab-df-convert {\n",
              "      background-color: #E8F0FE;\n",
              "      border: none;\n",
              "      border-radius: 50%;\n",
              "      cursor: pointer;\n",
              "      display: none;\n",
              "      fill: #1967D2;\n",
              "      height: 32px;\n",
              "      padding: 0 0 0 0;\n",
              "      width: 32px;\n",
              "    }\n",
              "\n",
              "    .colab-df-convert:hover {\n",
              "      background-color: #E2EBFA;\n",
              "      box-shadow: 0px 1px 2px rgba(60, 64, 67, 0.3), 0px 1px 3px 1px rgba(60, 64, 67, 0.15);\n",
              "      fill: #174EA6;\n",
              "    }\n",
              "\n",
              "    [theme=dark] .colab-df-convert {\n",
              "      background-color: #3B4455;\n",
              "      fill: #D2E3FC;\n",
              "    }\n",
              "\n",
              "    [theme=dark] .colab-df-convert:hover {\n",
              "      background-color: #434B5C;\n",
              "      box-shadow: 0px 1px 3px 1px rgba(0, 0, 0, 0.15);\n",
              "      filter: drop-shadow(0px 1px 2px rgba(0, 0, 0, 0.3));\n",
              "      fill: #FFFFFF;\n",
              "    }\n",
              "  </style>\n",
              "\n",
              "      <script>\n",
              "        const buttonEl =\n",
              "          document.querySelector('#df-1e428dfe-8803-4cf7-ae29-786394a09824 button.colab-df-convert');\n",
              "        buttonEl.style.display =\n",
              "          google.colab.kernel.accessAllowed ? 'block' : 'none';\n",
              "\n",
              "        async function convertToInteractive(key) {\n",
              "          const element = document.querySelector('#df-1e428dfe-8803-4cf7-ae29-786394a09824');\n",
              "          const dataTable =\n",
              "            await google.colab.kernel.invokeFunction('convertToInteractive',\n",
              "                                                     [key], {});\n",
              "          if (!dataTable) return;\n",
              "\n",
              "          const docLinkHtml = 'Like what you see? Visit the ' +\n",
              "            '<a target=\"_blank\" href=https://colab.research.google.com/notebooks/data_table.ipynb>data table notebook</a>'\n",
              "            + ' to learn more about interactive tables.';\n",
              "          element.innerHTML = '';\n",
              "          dataTable['output_type'] = 'display_data';\n",
              "          await google.colab.output.renderOutput(dataTable, element);\n",
              "          const docLink = document.createElement('div');\n",
              "          docLink.innerHTML = docLinkHtml;\n",
              "          element.appendChild(docLink);\n",
              "        }\n",
              "      </script>\n",
              "    </div>\n",
              "  </div>\n",
              "  "
            ]
          },
          "metadata": {},
          "execution_count": 158
        }
      ]
    },
    {
      "cell_type": "markdown",
      "source": [
        "####Gráfico de dispersão:\n",
        "\n",
        "Este é importante para vermos correlações entre as variáveis em uma forma gráfica, temos 3 tipos de correlações: `postiva`, `negativa` e `nula`.\n",
        "\n",
        "Quando temos a `positiva`, vemos que a variável independente aumenta e a dependente também. A `negativa` se dá pela diminuição da independente e consequentemente da dependente. Já a `nula`, não ocorre nem aumento e nem diminuição, portanto há uma dispersão entre os pontos e isso significa que não há correlação aparente entre as variáveis."
      ],
      "metadata": {
        "id": "cRROwP0HJhbi"
      }
    },
    {
      "cell_type": "markdown",
      "source": [
        "Gráfico de dispersão (idade x colesterol)"
      ],
      "metadata": {
        "id": "VJwgTaYWb3ng"
      }
    },
    {
      "cell_type": "code",
      "source": [
        "#grafico de dispersão entre age e chol\n",
        "\n",
        "fig, ax = plt.subplots(figsize=(10,6)) \n",
        "ax.scatter('age', 'chol', data=df, s=3, alpha=1)\n",
        "ax.set_xlabel('Idade')\n",
        "ax.set_ylabel('Colesterol')\n",
        "ax.set_title('Gráfico de dispersão (Idade x Colesterol)');"
      ],
      "metadata": {
        "id": "ThHk4EhUQWqZ",
        "colab": {
          "base_uri": "https://localhost:8080/",
          "height": 404
        },
        "outputId": "8c341137-7577-4237-b3c3-5338de674a0a"
      },
      "execution_count": null,
      "outputs": [
        {
          "output_type": "display_data",
          "data": {
            "text/plain": [
              "<Figure size 720x432 with 1 Axes>"
            ],
            "image/png": "[encoded data removed]"
          },
          "metadata": {
            "needs_background": "light"
          }
        }
      ]
    },
    {
      "cell_type": "markdown",
      "source": [
        "Gráfico de dispersão após a remoção de outliers."
      ],
      "metadata": {
        "id": "CQ-k-dnnbxPY"
      }
    },
    {
      "cell_type": "code",
      "source": [
        "fig, ax = plt.subplots(figsize=(10,6)) \n",
        "ax.scatter('age', 'chol', data=df_clean, s=3, alpha=1)\n",
        "ax.set_xlabel('Idade')\n",
        "ax.set_ylabel('Colesterol')\n",
        "ax.set_title('Gráfico de dispersão (Idade x Colesterol)');"
      ],
      "metadata": {
        "colab": {
          "base_uri": "https://localhost:8080/",
          "height": 404
        },
        "id": "cKL5WRFP--pp",
        "outputId": "de0959f2-156d-405e-df78-fe0bf6bf3751"
      },
      "execution_count": null,
      "outputs": [
        {
          "output_type": "display_data",
          "data": {
            "text/plain": [
              "<Figure size 720x432 with 1 Axes>"
            ],
            "image/png": "[encoded data removed]"
          },
          "metadata": {
            "needs_background": "light"
          }
        }
      ]
    },
    {
      "cell_type": "markdown",
      "source": [
        "Neste plot, vemos uma correlação nula, podemos notar uma concentração de pacientes com nível de colesterol um pouco mais evidenciada entre as idades 50-60, mas isso não significa que os níveis de colesterol nesta idade sejam superiores ou inferiores aos dos demais."
      ],
      "metadata": {
        "id": "2LSHBCuDuGgR"
      }
    },
    {
      "cell_type": "markdown",
      "source": [
        "###Histograma de nível de colesterol\n",
        "\n"
      ],
      "metadata": {
        "id": "84-_0B2DvWQg"
      }
    },
    {
      "cell_type": "code",
      "source": [
        "df_clean.chol.plot(kind='hist');"
      ],
      "metadata": {
        "colab": {
          "base_uri": "https://localhost:8080/",
          "height": 265
        },
        "id": "AnUA8UBzXUcV",
        "outputId": "b2ae9040-8b25-4f28-b404-bd051f03d372"
      },
      "execution_count": null,
      "outputs": [
        {
          "output_type": "display_data",
          "data": {
            "text/plain": [
              "<Figure size 432x288 with 1 Axes>"
            ],
            "image/png": "[encoded data removed]"
          },
          "metadata": {
            "needs_background": "light"
          }
        }
      ]
    },
    {
      "cell_type": "markdown",
      "source": [
        "Ao vermos este gráfico, notamos uma concentração de pacientes contendo níveis entre 200-300 (mg/dL - miligramas por decilitro). Para referência, um nível de colesterol interessante para o ser o humano seria menor que 200 mg/dL."
      ],
      "metadata": {
        "id": "xWZ_AJ72v-hk"
      }
    },
    {
      "cell_type": "markdown",
      "source": [
        "###Plotando heatmap de correlação:\n"
      ],
      "metadata": {
        "id": "YSyfoAyk9nZH"
      }
    },
    {
      "cell_type": "code",
      "source": [
        "fig, ax = plt.subplots(figsize=(10,10))  \n",
        "\n",
        "sns.heatmap(corr, cmap='RdBu', fmt='.2f', \n",
        "            square=True, linecolor='white', annot=True, ax=ax);"
      ],
      "metadata": {
        "colab": {
          "base_uri": "https://localhost:8080/",
          "height": 578
        },
        "id": "Ge7Lp6FwkHB5",
        "outputId": "539a6f88-074b-4b91-92ae-cfedce311881"
      },
      "execution_count": null,
      "outputs": [
        {
          "output_type": "display_data",
          "data": {
            "text/plain": [
              "<Figure size 720x720 with 2 Axes>"
            ],
            "image/png": "[encoded data removed]"
          },
          "metadata": {
            "needs_background": "light"
          }
        }
      ]
    },
    {
      "cell_type": "markdown",
      "source": [
        "Após plotarmos o `heatmap`, não vemos uma correlação significativa.\n",
        "\n",
        "`thal:` teste de estresse cardíaco;\n",
        "\n",
        "`num:` pessoas que possuem ou não doença cardiovascular;\n",
        "\n",
        "`oldpeak:` depressão do segmento ST induzida pelo exercício em relação ao repouso;\n",
        "\n",
        "`thalach:` máximo batimento cardíaco atingido.\n",
        "\n",
        "\n",
        "Em `thal` e `num`, vemos um coeficiente de correlação `r = 0.52`, onde este valor é moderado, portanto não se afetam significativamente.\n",
        "\n",
        "Em `oldpeak` e `num` o coeficiente de correlação `r = 0.58`, no qual este valor é um pouco maior que o anterior, mas ainda moderado.\n",
        "\n",
        "É interessante notar que o atributo `thalach`, possui uma correlação negativa moderada em relação ao atributo `num`, em que `r = -0,42`. "
      ],
      "metadata": {
        "id": "hClgahF_9l7A"
      }
    },
    {
      "cell_type": "markdown",
      "source": [
        "# Implementação do modelo\n",
        "\n",
        "Neste passo, iniciaremos a construir um modelo para classificarmos se um paciente possui doença cardíaca ou não."
      ],
      "metadata": {
        "id": "c1woxwhBs4jK"
      }
    },
    {
      "cell_type": "markdown",
      "source": [
        "## Logistic Regression"
      ],
      "metadata": {
        "id": "nw3k3jxWRODV"
      }
    },
    {
      "cell_type": "code",
      "source": [
        "# importando as bibliotecas necessárias\n",
        "from sklearn.model_selection import train_test_split\n",
        "from sklearn.preprocessing import StandardScaler\n",
        "from sklearn import preprocessing\n",
        "\n",
        "from sklearn.linear_model import LogisticRegression\n",
        "\n",
        "from sklearn.metrics import confusion_matrix\n",
        "from sklearn.metrics import classification_report\n",
        "from sklearn.metrics import r2_score\n",
        "from sklearn.metrics import mean_absolute_error\n",
        "from sklearn.metrics import mean_squared_error\n",
        "from sklearn.metrics import accuracy_score"
      ],
      "metadata": {
        "id": "YCcbkXJHs90g"
      },
      "execution_count": null,
      "outputs": []
    },
    {
      "cell_type": "code",
      "source": [
        "# instanciando e e escolhendo os hyperparameters\n",
        "lr_model = LogisticRegression()\n",
        "\n",
        "# criando x e y\n",
        "x = df_clean.drop('target', axis=1)\n",
        "y = df_clean.target\n",
        "\n",
        "# dividindo o dataset entre treino e teste\n",
        "seed = 7\n",
        "test_size = 0.33\n",
        "x_train, x_test, y_train, y_test = train_test_split(x, y, \n",
        "                                                        test_size=test_size,\n",
        "                                                        random_state=seed)\n",
        "\n",
        "# padronizando os dados de treino\n",
        "scaler = StandardScaler().fit(x_train)\n",
        "x_train = scaler.transform(x_train)\n",
        "\n",
        "# padronizando os dados de teste\n",
        "x_test = scaler.transform(x_test)\n",
        "\n",
        "# fit do modelo\n",
        "lr_model.fit(x_train, y_train)\n",
        "\n",
        "# previsões\n",
        "y_pred = lr_model.predict(x_test)\n",
        "\n",
        "# acurácia\n",
        "accuracy = accuracy_score(y_test, y_pred)\n",
        "print(\"Accuracy: %.2f%%\" % (accuracy * 100.0))"
      ],
      "metadata": {
        "id": "XwaiAJtkt-u2",
        "colab": {
          "base_uri": "https://localhost:8080/"
        },
        "outputId": "2e46dfdb-6058-4f36-d9fb-d9de4082160a"
      },
      "execution_count": null,
      "outputs": [
        {
          "output_type": "stream",
          "name": "stdout",
          "text": [
            "Accuracy: 85.71%\n"
          ]
        }
      ]
    },
    {
      "cell_type": "code",
      "source": [
        "print(classification_report(y_test, y_pred))"
      ],
      "metadata": {
        "colab": {
          "base_uri": "https://localhost:8080/"
        },
        "id": "_wus0f5Tv6jd",
        "outputId": "d0cf8eed-c21d-4f11-afa7-6ddd08bc2cbe"
      },
      "execution_count": null,
      "outputs": [
        {
          "output_type": "stream",
          "name": "stdout",
          "text": [
            "              precision    recall  f1-score   support\n",
            "\n",
            "           0       0.90      0.79      0.84       146\n",
            "           1       0.83      0.92      0.87       155\n",
            "\n",
            "    accuracy                           0.86       301\n",
            "   macro avg       0.86      0.86      0.86       301\n",
            "weighted avg       0.86      0.86      0.86       301\n",
            "\n"
          ]
        }
      ]
    },
    {
      "cell_type": "code",
      "source": [
        "print('R2 Score:\\t', r2_score(y_test, y_pred))\n",
        "print('MAE:\\t\\t', mean_absolute_error(y_test, y_pred))\n",
        "print('MSE:\\t\\t', mean_squared_error(y_test, y_pred))"
      ],
      "metadata": {
        "colab": {
          "base_uri": "https://localhost:8080/"
        },
        "id": "NsniiAK_qNJq",
        "outputId": "f2b1a47e-b622-453f-b2ff-41b46761f9c7"
      },
      "execution_count": null,
      "outputs": [
        {
          "output_type": "stream",
          "name": "stdout",
          "text": [
            "R2 Score:\t 0.42806009721608496\n",
            "MAE:\t\t 0.14285714285714285\n",
            "MSE:\t\t 0.14285714285714285\n"
          ]
        }
      ]
    },
    {
      "cell_type": "code",
      "source": [
        "fig, ax = plt.subplots(figsize=(8,6))\n",
        "sns.heatmap(confusion_matrix(y_test, y_pred), annot=True, ax=ax)\n",
        "\n",
        "ax.set_title('Confusion Matrix')\n",
        "ax.set_xlabel('True')\n",
        "ax.set_ylabel('Prediction')"
      ],
      "metadata": {
        "colab": {
          "base_uri": "https://localhost:8080/",
          "height": 421
        },
        "id": "Y6GLpeBhwDPf",
        "outputId": "25550fcf-8f33-46f2-ebfa-0a04afc7d0ff"
      },
      "execution_count": null,
      "outputs": [
        {
          "output_type": "execute_result",
          "data": {
            "text/plain": [
              "Text(51.0, 0.5, 'Prediction')"
            ]
          },
          "metadata": {},
          "execution_count": 8
        },
        {
          "output_type": "display_data",
          "data": {
            "text/plain": [
              "<Figure size 576x432 with 2 Axes>"
            ],
            "image/png": "[encoded data removed]"
          },
          "metadata": {
            "needs_background": "light"
          }
        }
      ]
    },
    {
      "cell_type": "markdown",
      "source": [
        "Após a implementação do modelo de regressão logística, não observamos uma performance significativa, nossa variável target é pouco explicada a partir de nossos atributos preditivos."
      ],
      "metadata": {
        "id": "H8kgp1R0SNq_"
      }
    },
    {
      "cell_type": "markdown",
      "source": [
        "##Decision Tree"
      ],
      "metadata": {
        "id": "bhahodP1RWff"
      }
    },
    {
      "cell_type": "code",
      "source": [
        "from sklearn import tree\n",
        "\n",
        "# instanciando e e escolhendo os hyperparameters\n",
        "dt_model = tree.DecisionTreeClassifier()\n",
        "\n",
        "# criando x e y\n",
        "x2 = df_clean.drop('target', axis=1)\n",
        "y2 = df_clean.target\n",
        "\n",
        "# dividindo o dataset entre treino e teste\n",
        "seed = 7\n",
        "test_size = 0.33\n",
        "x_train2, x_test2, y_train2, y_test2 = train_test_split(x2, y2, \n",
        "                                                        test_size=test_size,\n",
        "                                                        random_state=seed)\n",
        "\n",
        "# padronizando os dados de treino\n",
        "scaler = StandardScaler().fit(x_train2)\n",
        "x_train2 = scaler.transform(x_train2)\n",
        "\n",
        "# padronizando os dados de teste\n",
        "x_test2 = scaler.transform(x_test2)\n",
        "\n",
        "# fit do modelo\n",
        "dt_model.fit(x_train2, y_train2)\n",
        "\n",
        "# previsões\n",
        "y_pred2 = dt_model.predict(x_test2)\n",
        "\n",
        "# acurácia\n",
        "accuracy2 = accuracy_score(y_test2, y_pred2)\n",
        "print(\"Accuracy: %.2f%%\" % (accuracy2 * 100.0))"
      ],
      "metadata": {
        "id": "U5P2oedzr8aP",
        "colab": {
          "base_uri": "https://localhost:8080/"
        },
        "outputId": "98f689f6-c975-4ee3-f08a-2142113c7c3b"
      },
      "execution_count": null,
      "outputs": [
        {
          "output_type": "stream",
          "name": "stdout",
          "text": [
            "Accuracy: 99.00%\n"
          ]
        }
      ]
    },
    {
      "cell_type": "code",
      "source": [
        "print(classification_report(y_test2, y_pred2))"
      ],
      "metadata": {
        "colab": {
          "base_uri": "https://localhost:8080/"
        },
        "id": "K-6C4ewDEgD3",
        "outputId": "0d2489fa-2085-45e1-f1de-c5be0db3e1d7"
      },
      "execution_count": null,
      "outputs": [
        {
          "output_type": "stream",
          "name": "stdout",
          "text": [
            "              precision    recall  f1-score   support\n",
            "\n",
            "           0       1.00      0.98      0.99       146\n",
            "           1       0.98      1.00      0.99       155\n",
            "\n",
            "    accuracy                           0.99       301\n",
            "   macro avg       0.99      0.99      0.99       301\n",
            "weighted avg       0.99      0.99      0.99       301\n",
            "\n"
          ]
        }
      ]
    },
    {
      "cell_type": "code",
      "source": [
        "print('R2 Score:\\t', r2_score(y_test2, y_pred2))\n",
        "print('MAE:\\t\\t', mean_absolute_error(y_test2, y_pred2))\n",
        "print('MSE:\\t\\t', mean_squared_error(y_test2, y_pred2))"
      ],
      "metadata": {
        "colab": {
          "base_uri": "https://localhost:8080/"
        },
        "id": "a12RtIyHEt1z",
        "outputId": "6f05ccbe-5111-4f2d-ef33-e4407ee31243"
      },
      "execution_count": null,
      "outputs": [
        {
          "output_type": "stream",
          "name": "stdout",
          "text": [
            "R2 Score:\t 0.9600972160848431\n",
            "MAE:\t\t 0.009966777408637873\n",
            "MSE:\t\t 0.009966777408637873\n"
          ]
        }
      ]
    },
    {
      "cell_type": "code",
      "source": [
        "fig, ax = plt.subplots(figsize=(8,6))\n",
        "sns.heatmap(confusion_matrix(y_test2, y_pred2), annot=True, ax=ax)\n",
        "\n",
        "ax.set_title('Confusion Matrix')\n",
        "ax.set_xlabel('True')\n",
        "ax.set_ylabel('Prediction')"
      ],
      "metadata": {
        "colab": {
          "base_uri": "https://localhost:8080/",
          "height": 421
        },
        "id": "E278mVc2p-Ig",
        "outputId": "ab89cdaf-9680-4170-8051-bd7536cdb831"
      },
      "execution_count": null,
      "outputs": [
        {
          "output_type": "execute_result",
          "data": {
            "text/plain": [
              "Text(51.0, 0.5, 'Prediction')"
            ]
          },
          "metadata": {},
          "execution_count": 12
        },
        {
          "output_type": "display_data",
          "data": {
            "text/plain": [
              "<Figure size 576x432 with 2 Axes>"
            ],
            "image/png": "[encoded data removed]"
          },
          "metadata": {
            "needs_background": "light"
          }
        }
      ]
    },
    {
      "cell_type": "markdown",
      "source": [
        "Neste ponto implementamos um modelo de árvore de decisão a fim de conseguir melhores resultados para nossas avaliações.\n",
        "\n",
        "De primeiro momento, podemos observar que as métricas possuem números ótimos e nem sempre isso é bom, dado que elas podem estar enviesadas a receber um valor que não é real para o problema que estamos trabalhando."
      ],
      "metadata": {
        "id": "CTOG3_-vTDF2"
      }
    },
    {
      "cell_type": "markdown",
      "source": [
        "## XGBoost"
      ],
      "metadata": {
        "id": "DXTAeqblRqKo"
      }
    },
    {
      "cell_type": "code",
      "source": [
        "#importar as bibliotecas para o xgboost\n",
        "from xgboost import XGBClassifier\n",
        "\n",
        "# criando x e y\n",
        "x3 = df_clean.drop('target', axis=1)\n",
        "y3 = df_clean.target\n",
        "\n",
        "# dividindo o dataset entre treino e teste\n",
        "seed = 7\n",
        "test_size = 0.33\n",
        "x_train3, x_test3, y_train3, y_test3 = train_test_split(x3, y3, \n",
        "                                                        test_size=test_size,\n",
        "                                                        random_state=seed)\n",
        "\n",
        "# padronizando os dados de treino\n",
        "scaler = StandardScaler().fit(x_train3)\n",
        "x_train3 = scaler.transform(x_train3)\n",
        "\n",
        "# padronizando os dados de teste\n",
        "x_test3 = scaler.transform(x_test3)\n",
        "\n",
        "# fit do modelo\n",
        "model = XGBClassifier()\n",
        "model.fit(x_train3, y_train3)\n",
        "\n",
        "# predições\n",
        "y_pred3 = model.predict(x_test3)\n",
        "predictions = [round(value) for value in y_pred]\n",
        "\n",
        "# acurácia\n",
        "accuracy3 = accuracy_score(y_test3, predictions)\n",
        "print(\"Accuracy: %.2f%%\" % (accuracy3 * 100.0))"
      ],
      "metadata": {
        "id": "nR8JMmeUuNRh",
        "colab": {
          "base_uri": "https://localhost:8080/"
        },
        "outputId": "051c9bb9-d717-47ca-b3b0-906ac68610ae"
      },
      "execution_count": null,
      "outputs": [
        {
          "output_type": "stream",
          "name": "stdout",
          "text": [
            "Accuracy: 85.71%\n"
          ]
        }
      ]
    },
    {
      "cell_type": "code",
      "source": [
        "print(classification_report(y_test3, predictions))"
      ],
      "metadata": {
        "colab": {
          "base_uri": "https://localhost:8080/"
        },
        "id": "-s7HTjm7LxPV",
        "outputId": "7b86cf4d-3177-4e7f-efa8-19e8190af593"
      },
      "execution_count": null,
      "outputs": [
        {
          "output_type": "stream",
          "name": "stdout",
          "text": [
            "              precision    recall  f1-score   support\n",
            "\n",
            "           0       0.90      0.79      0.84       146\n",
            "           1       0.83      0.92      0.87       155\n",
            "\n",
            "    accuracy                           0.86       301\n",
            "   macro avg       0.86      0.86      0.86       301\n",
            "weighted avg       0.86      0.86      0.86       301\n",
            "\n"
          ]
        }
      ]
    },
    {
      "cell_type": "code",
      "source": [
        "print('R2 Score:\\t', r2_score(y_test3, y_pred3))\n",
        "print('MAE:\\t\\t', mean_absolute_error(y_test3, y_pred3))\n",
        "print('MSE:\\t\\t', mean_squared_error(y_test3, y_pred3))"
      ],
      "metadata": {
        "colab": {
          "base_uri": "https://localhost:8080/"
        },
        "id": "ZssECTbXNKxI",
        "outputId": "43bdea91-2ac0-4d76-ea28-14c3ec79a91e"
      },
      "execution_count": null,
      "outputs": [
        {
          "output_type": "stream",
          "name": "stdout",
          "text": [
            "R2 Score:\t 0.8802916482545294\n",
            "MAE:\t\t 0.029900332225913623\n",
            "MSE:\t\t 0.029900332225913623\n"
          ]
        }
      ]
    },
    {
      "cell_type": "code",
      "source": [
        "fig, ax = plt.subplots(figsize=(8,6))\n",
        "sns.heatmap(confusion_matrix(y_test3, y_pred3), annot=True, ax=ax)\n",
        "\n",
        "ax.set_title('Confusion Matrix')\n",
        "ax.set_xlabel('True')\n",
        "ax.set_ylabel('Prediction')"
      ],
      "metadata": {
        "colab": {
          "base_uri": "https://localhost:8080/",
          "height": 421
        },
        "id": "ZQwrCiBoNMfM",
        "outputId": "0246915d-5b00-45df-b720-dc5b44128bdf"
      },
      "execution_count": null,
      "outputs": [
        {
          "output_type": "execute_result",
          "data": {
            "text/plain": [
              "Text(51.0, 0.5, 'Prediction')"
            ]
          },
          "metadata": {},
          "execution_count": 16
        },
        {
          "output_type": "display_data",
          "data": {
            "text/plain": [
              "<Figure size 576x432 with 2 Axes>"
            ],
            "image/png": "[encoded data removed]"
          },
          "metadata": {
            "needs_background": "light"
          }
        }
      ]
    },
    {
      "cell_type": "markdown",
      "source": [
        "Com a implementação do modelo XGBoost, vemos uma boa performace e resultados mais reais para as métricas.\n",
        "\n",
        "Podemos concluir esta etapa dizendo que este foi o melhor modelo para utilização neste problema."
      ],
      "metadata": {
        "id": "rZC54RKBVvNn"
      }
    },
    {
      "cell_type": "markdown",
      "source": [
        "## Conclusão:\n",
        "\n",
        "Após esta análise, pudemos verificar a existência de valores ausentes, outliers e problemas comuns de serem encontrados em bases de dados. Foi limpo, analisado e implementado com um modelo com uma boa confiabilidade segundo as métricas estatísticas.\n",
        "\n",
        "Buscamos validar alguma correlação importante em relação à possuir ou não uma doença cardíaca, porém, obtemos apenas correlações moderadas e não significativas.\n",
        "\n",
        "Uma questão importante, também dita no inicio, seria adotar algumas medidas e mudanças no estilo de vida, pois é estimado que 90% das doenças cardiovasculares poderiam ser evitadas por isso."
      ],
      "metadata": {
        "id": "0pfzi0eweR3u"
      }
    }
  ]
}