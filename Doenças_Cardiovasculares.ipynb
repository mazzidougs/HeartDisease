{
  "nbformat": 4,
  "nbformat_minor": 0,
  "metadata": {
    "colab": {
      "name": "Doenças Cardiovasculares.ipynb",
      "provenance": [],
      "collapsed_sections": []
    },
    "kernelspec": {
      "name": "python3",
      "display_name": "Python 3"
    }
  },
  "cells": [
    {
      "cell_type": "markdown",
      "metadata": {
        "id": "w0OlvP4PEdzR"
      },
      "source": [
        "# Análise Exploratória de Dados - Doenças Cardiovasculares\n",
        "\n",
        "Doenças Cardiovasculares geralmente são eventos agudos causados principalmente por um bloqueio que impede que o sangue flua para o coração ou para o cérebro.\n",
        "\n",
        "A razão mais comum para isso é o acúmulo de depósitos de gordura nas paredes internas dos vasos sanguíneos que irrigam o coração ou o cérebro. Os acidentes vasculares cerebrais também podem ser causados por uma hemorragia em vasos sanguíneos do cérebro ou a partir de coágulos de sangue. \n",
        "\n",
        "A causa de ataques cardíacos e AVCs geralmente são uma combinação de fatores de risco, como o uso de tabaco, dietas inadequadas e obesidade, sedentarismo e o uso nocivo do álcool, hipertensão, diabetes e hiperlipidemia.\n",
        "\n",
        "<center><img src=\"https://github.com/mazzidougs/HeartDisease/blob/main/jesse-orrico-Us3AQvyOP-o-unsplash%20(1).jpg?raw=true\"></center>\n",
        "\n",
        "Apesar de ser uma das principais causas de morte em todo o mundo, estima-se que cerca de 90% das doenças cardiovasculares poderiam ser evitadas por meio da adoção de algumas medidas e mudanças no estilo de vida.\n",
        "\n",
        "Existem hoje várias pesquisas na área de *Machine Learning* visando a construções de modelos preditivos que ajudem os médicos a descobrirem doenças cardiovasculares em seus pacientes.\n",
        "\n",
        "Estudos publicados na revista *na revista Nature Biomedical Engineering* mostram que algoritmos de *Deep Learning* foram capazes de antecipar doenças cardíacas em até 5 anos.\n",
        "\n",
        "Definitivamente, o uso de Inteligência Artificial tem impactado profundamente a área da saúde, e tem proporcionado aos profissionais médicos insumos de inteligência cada vez mais precisos.\n",
        "\n"
      ]
    },
    {
      "cell_type": "markdown",
      "metadata": {
        "id": "F3XPABqpLFOX"
      },
      "source": [
        "## Obtenção dos Dados\n",
        "\n",
        "O conjunto principal de dados usado neste projeto foi coletado da ***Cleveland Clinic Foundation*** e se encontra disponível no conhecido [Repositório UCI *Machine Learning*](https://archive.ics.uci.edu/ml/datasets/heart+Disease). Podemos ressaltar que os nomes, identidade e documentos pessoais dos pacientes foram removidos completamente do banco de dados.\n",
        "\n",
        "O *dataset* processado contém dados de 303 pessoas e 76 atributos. Entretanto, os principais artigos e estudos publicados optaram por usar apenas 14 atributos, considerados de maior relevância. Da mesma maneira, este projeto de *Data Science* usará essas mesmas 14 variáveis principais.\n",
        "\n",
        "* O arquivo `csv` com os dados de 303 pessoas e 14 atributos pode ser baixado [neste link](https://raw.githubusercontent.com/mazzidougs/HeartDisease/main/dataset).\n",
        "\n",
        "* O arquivo contendo todos os detalhes e documentação do *dataset* usado neste projeto se encontra [neste link](https://raw.githubusercontent.com/mazzidougs/HeartDisease/main/heart-diseases.names).\n",
        "\n",
        "* Há ainda um *dataset* secundário que será utilizado para ver a evolução no número de mortes por doenças cardiovasculares no Brasil (entre os anos de 2004-2017). Esses dados foram disponibilizados pela [Sociedade Brasileira de Cardiologia](http://www.cardiometro.com.br/anteriores.asp), e podem ser baixados [neste link](https://raw.githubusercontent.com/mazzidougs/HeartDisease/main/dataset_amount).\n",
        "\n"
      ]
    },
    {
      "cell_type": "markdown",
      "metadata": {
        "id": "JTJNji8-CFbX"
      },
      "source": [
        "### Informações sobre os atributos:\n",
        "\n",
        "\n",
        "* `age` - idade em anos\n",
        "* `sex` - sexo do paciente\n",
        "  * 0: mulher\n",
        "  * 1: homem\n",
        "* `cp` - tipo da dor torácica\n",
        "  * 1: angina típica\n",
        "  * 2: angina atípica\n",
        "  * 3: dor não cardíaca\n",
        "  * 4: assintomática\n",
        "* `trestbps` - pressão arterial em repouso\n",
        "* `chol` - colesterol sérico (*mg/dl*)\n",
        "* `fbs` - açucar no sangue em jejum > 120*mg/dl*\n",
        "  * 0: `False`\n",
        "  * 1: `True`\n",
        "* `restecg` - resultado do eletrocardiografia de repouso\n",
        "  * 0: normal\n",
        "  * 1: anormalidades de ST-T  (inversão da onda T e elevação ou depressão de > 0.05*mV*)\n",
        "  * 2: hipertrofia ventricular esquerda provável ou definitiva (pelos critérios de Romhilt-Estes)\n",
        "* `thalach` - frequência cardíaca máxima atingida\n",
        "* `exang` - angina induzida pelo exercício\n",
        "  * 0: não\n",
        "  * 1: sim\n",
        "* `oldpeak` - depressão do segmento ST induzida pelo exercício em relação ao repouso\n",
        "* `slope` - inclinação do segmento ST no pico do exercício\n",
        "* `ca` - número de vasos principais colorido por fluoroscopia\n",
        "* `thal` - Teste de estresse cardíaco\n",
        "  * 3: normal\n",
        "  * 6: defeito fixo\n",
        "  * 7: defeito reversível\n",
        "* `num` - diagnóstico de doença cardíaca (diagnóstico angiográfico)\n",
        "  * 0: não há doença cardíaca ( < 50% de estreitamento do diâmetro)\n",
        "  * 1,2,3,4: há doença cardíaca ( > 50% de estreitamento do diâmetro)"
      ]
    },
    {
      "cell_type": "markdown",
      "metadata": {
        "id": "TjJW1eAGoH7Y"
      },
      "source": [
        "### Importar os Dados\n",
        "\n",
        "Em uma etapa inicial, importaremos os dois *datasets* mencionados no início do *notebook*:\n",
        "\n",
        "* Um contendo os dados relacionados às doenças cardiovasculares (303 pessoas e 14 atributos); e\n",
        "* Um contendo os dados da mortalidade no Brasil por doenças cardiovasculares."
      ]
    },
    {
      "cell_type": "code",
      "metadata": {
        "id": "lr_gI2RzC8EW",
        "cellView": "both"
      },
      "source": [
        "# importar as bibliotecas necessárias\n",
        "import pandas as pd\n",
        "import matplotlib.pyplot as plt\n",
        "import numpy as np\n",
        "import seaborn as sns\n",
        "\n",
        "# url dos datasets\n",
        "dataset_uci = \"https://raw.githubusercontent.com/mazzidougs/HeartDisease/main/dataset\"\n",
        "dataset_brasil = \"https://raw.githubusercontent.com/mazzidougs/HeartDisease/main/dataset_amount\"\n",
        "\n",
        "# importar dataset da UCI\n",
        "df = pd.read_csv(dataset_uci)\n",
        "\n",
        "# importar dataset dos indíces do Brasil\n",
        "df_brasil = pd.read_csv(dataset_brasil)"
      ],
      "execution_count": null,
      "outputs": []
    },
    {
      "cell_type": "markdown",
      "metadata": {
        "id": "xGfqlRc3DqzD"
      },
      "source": [
        "Olhando acima as informações sobre os atributos, percebemos que nossa variável alvo (`num`) possui cinco valores possíveis: \\[0, 1, 2, 3, 4\\].\n",
        "\n",
        "No entanto, seguindo a maioria das pesquisas que utilizaram esse *dataset*, iremos considerar apenas duas situações possíveis:\n",
        "\n",
        "* **0** - não há doença cardíaca\n",
        "* **1** - há doença cardíaca\n",
        "\n",
        "Então, iremos igualar a 1 os valores compreendidos entre 1-4."
      ]
    },
    {
      "cell_type": "code",
      "metadata": {
        "id": "nR53KX9ZvP-o",
        "colab": {
          "base_uri": "https://localhost:8080/"
        },
        "outputId": "49e68d6d-400d-49f0-b36a-42234e730bf0"
      },
      "source": [
        "# variável alvo antes\n",
        "df.num.value_counts()"
      ],
      "execution_count": null,
      "outputs": [
        {
          "output_type": "execute_result",
          "data": {
            "text/plain": [
              "0    164\n",
              "1     55\n",
              "2     36\n",
              "3     35\n",
              "4     13\n",
              "Name: num, dtype: int64"
            ]
          },
          "metadata": {},
          "execution_count": 2
        }
      ]
    },
    {
      "cell_type": "code",
      "metadata": {
        "id": "aI-Yx7cFu2tL"
      },
      "source": [
        "# converter valores >= 1 em 1\n",
        "df.loc[df.num != 0, 'num'] = 1"
      ],
      "execution_count": null,
      "outputs": []
    },
    {
      "cell_type": "code",
      "metadata": {
        "id": "JdnbfJH_DwY5",
        "colab": {
          "base_uri": "https://localhost:8080/"
        },
        "outputId": "3bf081d0-848e-44be-89a1-48e36328e056"
      },
      "source": [
        "# variável alvo depois\n",
        "df.num.value_counts()"
      ],
      "execution_count": null,
      "outputs": [
        {
          "output_type": "execute_result",
          "data": {
            "text/plain": [
              "0    164\n",
              "1    139\n",
              "Name: num, dtype: int64"
            ]
          },
          "metadata": {},
          "execution_count": 5
        }
      ]
    },
    {
      "cell_type": "markdown",
      "source": [
        "# Análise exploratória\n",
        "\n",
        "Esta é uma etapa muito importante de nosso processo para nos situarmos em relação ao dataset que iremos trabalhar, aqui veremos o tamanho de nosso df, uma descrição estatística, tipos de nossas variáveis, verificaremos quantas pessoas possuem doença ou não dado o df, contaremos os valores ausentes e plotaremos alguns gráficos.\n",
        "  "
      ],
      "metadata": {
        "id": "pOPoRR4mlwrX"
      }
    },
    {
      "cell_type": "markdown",
      "source": [
        "Verificando o tamanho de nosso dataframe:\n"
      ],
      "metadata": {
        "id": "pYD0eH2Zl5WK"
      }
    },
    {
      "cell_type": "code",
      "metadata": {
        "id": "mEBOowAIb7cg",
        "colab": {
          "base_uri": "https://localhost:8080/"
        },
        "outputId": "ea3775c0-b6e1-4589-e337-d0fe55903769"
      },
      "source": [
        "df.shape"
      ],
      "execution_count": null,
      "outputs": [
        {
          "output_type": "execute_result",
          "data": {
            "text/plain": [
              "(303, 14)"
            ]
          },
          "metadata": {},
          "execution_count": 5
        }
      ]
    },
    {
      "cell_type": "markdown",
      "source": [
        "Descrição estatística:"
      ],
      "metadata": {
        "id": "UwRt_Rwjn5ft"
      }
    },
    {
      "cell_type": "code",
      "source": [
        "df.describe()"
      ],
      "metadata": {
        "colab": {
          "base_uri": "https://localhost:8080/",
          "height": 300
        },
        "id": "I5gyTsf5D1KP",
        "outputId": "f08d3cd3-bfc0-4411-cd0e-1df656bcd523"
      },
      "execution_count": null,
      "outputs": [
        {
          "output_type": "execute_result",
          "data": {
            "text/html": [
              "\n",
              "  <div id=\"df-1cbc0418-c89c-42b6-9bfb-82a3ff4f8d15\">\n",
              "    <div class=\"colab-df-container\">\n",
              "      <div>\n",
              "<style scoped>\n",
              "    .dataframe tbody tr th:only-of-type {\n",
              "        vertical-align: middle;\n",
              "    }\n",
              "\n",
              "    .dataframe tbody tr th {\n",
              "        vertical-align: top;\n",
              "    }\n",
              "\n",
              "    .dataframe thead th {\n",
              "        text-align: right;\n",
              "    }\n",
              "</style>\n",
              "<table border=\"1\" class=\"dataframe\">\n",
              "  <thead>\n",
              "    <tr style=\"text-align: right;\">\n",
              "      <th></th>\n",
              "      <th>age</th>\n",
              "      <th>sex</th>\n",
              "      <th>cp</th>\n",
              "      <th>trestbps</th>\n",
              "      <th>chol</th>\n",
              "      <th>fbs</th>\n",
              "      <th>restecg</th>\n",
              "      <th>thalach</th>\n",
              "      <th>exang</th>\n",
              "      <th>oldpeak</th>\n",
              "      <th>slope</th>\n",
              "      <th>ca</th>\n",
              "      <th>thal</th>\n",
              "      <th>num</th>\n",
              "    </tr>\n",
              "  </thead>\n",
              "  <tbody>\n",
              "    <tr>\n",
              "      <th>count</th>\n",
              "      <td>303.000000</td>\n",
              "      <td>303.000000</td>\n",
              "      <td>303.000000</td>\n",
              "      <td>303.000000</td>\n",
              "      <td>303.000000</td>\n",
              "      <td>303.000000</td>\n",
              "      <td>303.000000</td>\n",
              "      <td>303.000000</td>\n",
              "      <td>303.000000</td>\n",
              "      <td>303.000000</td>\n",
              "      <td>303.000000</td>\n",
              "      <td>303.000000</td>\n",
              "      <td>303.000000</td>\n",
              "      <td>303.000000</td>\n",
              "    </tr>\n",
              "    <tr>\n",
              "      <th>mean</th>\n",
              "      <td>54.438944</td>\n",
              "      <td>0.679868</td>\n",
              "      <td>3.158416</td>\n",
              "      <td>131.689769</td>\n",
              "      <td>246.693069</td>\n",
              "      <td>0.148515</td>\n",
              "      <td>0.990099</td>\n",
              "      <td>149.607261</td>\n",
              "      <td>0.326733</td>\n",
              "      <td>1.039604</td>\n",
              "      <td>1.600660</td>\n",
              "      <td>0.663366</td>\n",
              "      <td>4.722772</td>\n",
              "      <td>0.458746</td>\n",
              "    </tr>\n",
              "    <tr>\n",
              "      <th>std</th>\n",
              "      <td>9.038662</td>\n",
              "      <td>0.467299</td>\n",
              "      <td>0.960126</td>\n",
              "      <td>17.599748</td>\n",
              "      <td>51.776918</td>\n",
              "      <td>0.356198</td>\n",
              "      <td>0.994971</td>\n",
              "      <td>22.875003</td>\n",
              "      <td>0.469794</td>\n",
              "      <td>1.161075</td>\n",
              "      <td>0.616226</td>\n",
              "      <td>0.934375</td>\n",
              "      <td>1.938383</td>\n",
              "      <td>0.499120</td>\n",
              "    </tr>\n",
              "    <tr>\n",
              "      <th>min</th>\n",
              "      <td>29.000000</td>\n",
              "      <td>0.000000</td>\n",
              "      <td>1.000000</td>\n",
              "      <td>94.000000</td>\n",
              "      <td>126.000000</td>\n",
              "      <td>0.000000</td>\n",
              "      <td>0.000000</td>\n",
              "      <td>71.000000</td>\n",
              "      <td>0.000000</td>\n",
              "      <td>0.000000</td>\n",
              "      <td>1.000000</td>\n",
              "      <td>0.000000</td>\n",
              "      <td>3.000000</td>\n",
              "      <td>0.000000</td>\n",
              "    </tr>\n",
              "    <tr>\n",
              "      <th>25%</th>\n",
              "      <td>48.000000</td>\n",
              "      <td>0.000000</td>\n",
              "      <td>3.000000</td>\n",
              "      <td>120.000000</td>\n",
              "      <td>211.000000</td>\n",
              "      <td>0.000000</td>\n",
              "      <td>0.000000</td>\n",
              "      <td>133.500000</td>\n",
              "      <td>0.000000</td>\n",
              "      <td>0.000000</td>\n",
              "      <td>1.000000</td>\n",
              "      <td>0.000000</td>\n",
              "      <td>3.000000</td>\n",
              "      <td>0.000000</td>\n",
              "    </tr>\n",
              "    <tr>\n",
              "      <th>50%</th>\n",
              "      <td>56.000000</td>\n",
              "      <td>1.000000</td>\n",
              "      <td>3.000000</td>\n",
              "      <td>130.000000</td>\n",
              "      <td>241.000000</td>\n",
              "      <td>0.000000</td>\n",
              "      <td>1.000000</td>\n",
              "      <td>153.000000</td>\n",
              "      <td>0.000000</td>\n",
              "      <td>0.800000</td>\n",
              "      <td>2.000000</td>\n",
              "      <td>0.000000</td>\n",
              "      <td>3.000000</td>\n",
              "      <td>0.000000</td>\n",
              "    </tr>\n",
              "    <tr>\n",
              "      <th>75%</th>\n",
              "      <td>61.000000</td>\n",
              "      <td>1.000000</td>\n",
              "      <td>4.000000</td>\n",
              "      <td>140.000000</td>\n",
              "      <td>275.000000</td>\n",
              "      <td>0.000000</td>\n",
              "      <td>2.000000</td>\n",
              "      <td>166.000000</td>\n",
              "      <td>1.000000</td>\n",
              "      <td>1.600000</td>\n",
              "      <td>2.000000</td>\n",
              "      <td>1.000000</td>\n",
              "      <td>7.000000</td>\n",
              "      <td>1.000000</td>\n",
              "    </tr>\n",
              "    <tr>\n",
              "      <th>max</th>\n",
              "      <td>77.000000</td>\n",
              "      <td>1.000000</td>\n",
              "      <td>4.000000</td>\n",
              "      <td>200.000000</td>\n",
              "      <td>564.000000</td>\n",
              "      <td>1.000000</td>\n",
              "      <td>2.000000</td>\n",
              "      <td>202.000000</td>\n",
              "      <td>1.000000</td>\n",
              "      <td>6.200000</td>\n",
              "      <td>3.000000</td>\n",
              "      <td>3.000000</td>\n",
              "      <td>7.000000</td>\n",
              "      <td>1.000000</td>\n",
              "    </tr>\n",
              "  </tbody>\n",
              "</table>\n",
              "</div>\n",
              "      <button class=\"colab-df-convert\" onclick=\"convertToInteractive('df-1cbc0418-c89c-42b6-9bfb-82a3ff4f8d15')\"\n",
              "              title=\"Convert this dataframe to an interactive table.\"\n",
              "              style=\"display:none;\">\n",
              "        \n",
              "  <svg xmlns=\"http://www.w3.org/2000/svg\" height=\"24px\"viewBox=\"0 0 24 24\"\n",
              "       width=\"24px\">\n",
              "    <path d=\"M0 0h24v24H0V0z\" fill=\"none\"/>\n",
              "    <path d=\"M18.56 5.44l.94 2.06.94-2.06 2.06-.94-2.06-.94-.94-2.06-.94 2.06-2.06.94zm-11 1L8.5 8.5l.94-2.06 2.06-.94-2.06-.94L8.5 2.5l-.94 2.06-2.06.94zm10 10l.94 2.06.94-2.06 2.06-.94-2.06-.94-.94-2.06-.94 2.06-2.06.94z\"/><path d=\"M17.41 7.96l-1.37-1.37c-.4-.4-.92-.59-1.43-.59-.52 0-1.04.2-1.43.59L10.3 9.45l-7.72 7.72c-.78.78-.78 2.05 0 2.83L4 21.41c.39.39.9.59 1.41.59.51 0 1.02-.2 1.41-.59l7.78-7.78 2.81-2.81c.8-.78.8-2.07 0-2.86zM5.41 20L4 18.59l7.72-7.72 1.47 1.35L5.41 20z\"/>\n",
              "  </svg>\n",
              "      </button>\n",
              "      \n",
              "  <style>\n",
              "    .colab-df-container {\n",
              "      display:flex;\n",
              "      flex-wrap:wrap;\n",
              "      gap: 12px;\n",
              "    }\n",
              "\n",
              "    .colab-df-convert {\n",
              "      background-color: #E8F0FE;\n",
              "      border: none;\n",
              "      border-radius: 50%;\n",
              "      cursor: pointer;\n",
              "      display: none;\n",
              "      fill: #1967D2;\n",
              "      height: 32px;\n",
              "      padding: 0 0 0 0;\n",
              "      width: 32px;\n",
              "    }\n",
              "\n",
              "    .colab-df-convert:hover {\n",
              "      background-color: #E2EBFA;\n",
              "      box-shadow: 0px 1px 2px rgba(60, 64, 67, 0.3), 0px 1px 3px 1px rgba(60, 64, 67, 0.15);\n",
              "      fill: #174EA6;\n",
              "    }\n",
              "\n",
              "    [theme=dark] .colab-df-convert {\n",
              "      background-color: #3B4455;\n",
              "      fill: #D2E3FC;\n",
              "    }\n",
              "\n",
              "    [theme=dark] .colab-df-convert:hover {\n",
              "      background-color: #434B5C;\n",
              "      box-shadow: 0px 1px 3px 1px rgba(0, 0, 0, 0.15);\n",
              "      filter: drop-shadow(0px 1px 2px rgba(0, 0, 0, 0.3));\n",
              "      fill: #FFFFFF;\n",
              "    }\n",
              "  </style>\n",
              "\n",
              "      <script>\n",
              "        const buttonEl =\n",
              "          document.querySelector('#df-1cbc0418-c89c-42b6-9bfb-82a3ff4f8d15 button.colab-df-convert');\n",
              "        buttonEl.style.display =\n",
              "          google.colab.kernel.accessAllowed ? 'block' : 'none';\n",
              "\n",
              "        async function convertToInteractive(key) {\n",
              "          const element = document.querySelector('#df-1cbc0418-c89c-42b6-9bfb-82a3ff4f8d15');\n",
              "          const dataTable =\n",
              "            await google.colab.kernel.invokeFunction('convertToInteractive',\n",
              "                                                     [key], {});\n",
              "          if (!dataTable) return;\n",
              "\n",
              "          const docLinkHtml = 'Like what you see? Visit the ' +\n",
              "            '<a target=\"_blank\" href=https://colab.research.google.com/notebooks/data_table.ipynb>data table notebook</a>'\n",
              "            + ' to learn more about interactive tables.';\n",
              "          element.innerHTML = '';\n",
              "          dataTable['output_type'] = 'display_data';\n",
              "          await google.colab.output.renderOutput(dataTable, element);\n",
              "          const docLink = document.createElement('div');\n",
              "          docLink.innerHTML = docLinkHtml;\n",
              "          element.appendChild(docLink);\n",
              "        }\n",
              "      </script>\n",
              "    </div>\n",
              "  </div>\n",
              "  "
            ],
            "text/plain": [
              "              age         sex          cp  ...          ca        thal         num\n",
              "count  303.000000  303.000000  303.000000  ...  303.000000  303.000000  303.000000\n",
              "mean    54.438944    0.679868    3.158416  ...    0.663366    4.722772    0.458746\n",
              "std      9.038662    0.467299    0.960126  ...    0.934375    1.938383    0.499120\n",
              "min     29.000000    0.000000    1.000000  ...    0.000000    3.000000    0.000000\n",
              "25%     48.000000    0.000000    3.000000  ...    0.000000    3.000000    0.000000\n",
              "50%     56.000000    1.000000    3.000000  ...    0.000000    3.000000    0.000000\n",
              "75%     61.000000    1.000000    4.000000  ...    1.000000    7.000000    1.000000\n",
              "max     77.000000    1.000000    4.000000  ...    3.000000    7.000000    1.000000\n",
              "\n",
              "[8 rows x 14 columns]"
            ]
          },
          "metadata": {},
          "execution_count": 6
        }
      ]
    },
    {
      "cell_type": "markdown",
      "source": [
        "Tipos dos atributos"
      ],
      "metadata": {
        "id": "5ZsI7nOtP8w7"
      }
    },
    {
      "cell_type": "code",
      "source": [
        "#Para vermos os tipos de nossas variáveis, utilizamos o dtypes\n",
        "\n",
        "df.dtypes\n",
        "\n",
        "#podemos verificar que a maioria são do tipo float e apenas a váriavel num é do tipo inteiro\n",
        "#depois de mostrarmos nosso df, vemos que a váriavel \"num\" é binária, portanto assume o valor de 0 ou 1"
      ],
      "metadata": {
        "id": "mQYflqVCD5rN",
        "colab": {
          "base_uri": "https://localhost:8080/"
        },
        "outputId": "9cc7cabf-bb1f-44af-df50-a672fe1e2542"
      },
      "execution_count": null,
      "outputs": [
        {
          "output_type": "execute_result",
          "data": {
            "text/plain": [
              "age         float64\n",
              "sex         float64\n",
              "cp          float64\n",
              "trestbps    float64\n",
              "chol        float64\n",
              "fbs         float64\n",
              "restecg     float64\n",
              "thalach     float64\n",
              "exang       float64\n",
              "oldpeak     float64\n",
              "slope       float64\n",
              "ca          float64\n",
              "thal        float64\n",
              "num           int64\n",
              "dtype: object"
            ]
          },
          "metadata": {},
          "execution_count": 7
        }
      ]
    },
    {
      "cell_type": "code",
      "source": [
        "#Verificando as 5 primeiras entradas com head. Se colocarmos um parâmetro dentro dos parênteses, escolhemos a quantidade de itens a ser mostrados\n",
        "df.head()"
      ],
      "metadata": {
        "colab": {
          "base_uri": "https://localhost:8080/",
          "height": 206
        },
        "id": "cZWsi2Wkihcn",
        "outputId": "5b0c6f18-4550-491d-f43e-4f1925fc424e"
      },
      "execution_count": null,
      "outputs": [
        {
          "output_type": "execute_result",
          "data": {
            "text/html": [
              "\n",
              "  <div id=\"df-6465c761-dbd1-42e4-b676-7942d5712b9e\">\n",
              "    <div class=\"colab-df-container\">\n",
              "      <div>\n",
              "<style scoped>\n",
              "    .dataframe tbody tr th:only-of-type {\n",
              "        vertical-align: middle;\n",
              "    }\n",
              "\n",
              "    .dataframe tbody tr th {\n",
              "        vertical-align: top;\n",
              "    }\n",
              "\n",
              "    .dataframe thead th {\n",
              "        text-align: right;\n",
              "    }\n",
              "</style>\n",
              "<table border=\"1\" class=\"dataframe\">\n",
              "  <thead>\n",
              "    <tr style=\"text-align: right;\">\n",
              "      <th></th>\n",
              "      <th>age</th>\n",
              "      <th>sex</th>\n",
              "      <th>cp</th>\n",
              "      <th>trestbps</th>\n",
              "      <th>chol</th>\n",
              "      <th>fbs</th>\n",
              "      <th>restecg</th>\n",
              "      <th>thalach</th>\n",
              "      <th>exang</th>\n",
              "      <th>oldpeak</th>\n",
              "      <th>slope</th>\n",
              "      <th>ca</th>\n",
              "      <th>thal</th>\n",
              "      <th>num</th>\n",
              "    </tr>\n",
              "  </thead>\n",
              "  <tbody>\n",
              "    <tr>\n",
              "      <th>0</th>\n",
              "      <td>63.0</td>\n",
              "      <td>1.0</td>\n",
              "      <td>1.0</td>\n",
              "      <td>145.0</td>\n",
              "      <td>233.0</td>\n",
              "      <td>1.0</td>\n",
              "      <td>2.0</td>\n",
              "      <td>150.0</td>\n",
              "      <td>0.0</td>\n",
              "      <td>2.3</td>\n",
              "      <td>3.0</td>\n",
              "      <td>0.0</td>\n",
              "      <td>6.0</td>\n",
              "      <td>0</td>\n",
              "    </tr>\n",
              "    <tr>\n",
              "      <th>1</th>\n",
              "      <td>67.0</td>\n",
              "      <td>1.0</td>\n",
              "      <td>4.0</td>\n",
              "      <td>160.0</td>\n",
              "      <td>286.0</td>\n",
              "      <td>0.0</td>\n",
              "      <td>2.0</td>\n",
              "      <td>108.0</td>\n",
              "      <td>1.0</td>\n",
              "      <td>1.5</td>\n",
              "      <td>2.0</td>\n",
              "      <td>3.0</td>\n",
              "      <td>3.0</td>\n",
              "      <td>1</td>\n",
              "    </tr>\n",
              "    <tr>\n",
              "      <th>2</th>\n",
              "      <td>67.0</td>\n",
              "      <td>1.0</td>\n",
              "      <td>4.0</td>\n",
              "      <td>120.0</td>\n",
              "      <td>229.0</td>\n",
              "      <td>0.0</td>\n",
              "      <td>2.0</td>\n",
              "      <td>129.0</td>\n",
              "      <td>1.0</td>\n",
              "      <td>2.6</td>\n",
              "      <td>2.0</td>\n",
              "      <td>2.0</td>\n",
              "      <td>7.0</td>\n",
              "      <td>1</td>\n",
              "    </tr>\n",
              "    <tr>\n",
              "      <th>3</th>\n",
              "      <td>37.0</td>\n",
              "      <td>1.0</td>\n",
              "      <td>3.0</td>\n",
              "      <td>130.0</td>\n",
              "      <td>250.0</td>\n",
              "      <td>0.0</td>\n",
              "      <td>0.0</td>\n",
              "      <td>187.0</td>\n",
              "      <td>0.0</td>\n",
              "      <td>3.5</td>\n",
              "      <td>3.0</td>\n",
              "      <td>0.0</td>\n",
              "      <td>3.0</td>\n",
              "      <td>0</td>\n",
              "    </tr>\n",
              "    <tr>\n",
              "      <th>4</th>\n",
              "      <td>41.0</td>\n",
              "      <td>0.0</td>\n",
              "      <td>2.0</td>\n",
              "      <td>130.0</td>\n",
              "      <td>204.0</td>\n",
              "      <td>0.0</td>\n",
              "      <td>2.0</td>\n",
              "      <td>172.0</td>\n",
              "      <td>0.0</td>\n",
              "      <td>1.4</td>\n",
              "      <td>1.0</td>\n",
              "      <td>0.0</td>\n",
              "      <td>3.0</td>\n",
              "      <td>0</td>\n",
              "    </tr>\n",
              "  </tbody>\n",
              "</table>\n",
              "</div>\n",
              "      <button class=\"colab-df-convert\" onclick=\"convertToInteractive('df-6465c761-dbd1-42e4-b676-7942d5712b9e')\"\n",
              "              title=\"Convert this dataframe to an interactive table.\"\n",
              "              style=\"display:none;\">\n",
              "        \n",
              "  <svg xmlns=\"http://www.w3.org/2000/svg\" height=\"24px\"viewBox=\"0 0 24 24\"\n",
              "       width=\"24px\">\n",
              "    <path d=\"M0 0h24v24H0V0z\" fill=\"none\"/>\n",
              "    <path d=\"M18.56 5.44l.94 2.06.94-2.06 2.06-.94-2.06-.94-.94-2.06-.94 2.06-2.06.94zm-11 1L8.5 8.5l.94-2.06 2.06-.94-2.06-.94L8.5 2.5l-.94 2.06-2.06.94zm10 10l.94 2.06.94-2.06 2.06-.94-2.06-.94-.94-2.06-.94 2.06-2.06.94z\"/><path d=\"M17.41 7.96l-1.37-1.37c-.4-.4-.92-.59-1.43-.59-.52 0-1.04.2-1.43.59L10.3 9.45l-7.72 7.72c-.78.78-.78 2.05 0 2.83L4 21.41c.39.39.9.59 1.41.59.51 0 1.02-.2 1.41-.59l7.78-7.78 2.81-2.81c.8-.78.8-2.07 0-2.86zM5.41 20L4 18.59l7.72-7.72 1.47 1.35L5.41 20z\"/>\n",
              "  </svg>\n",
              "      </button>\n",
              "      \n",
              "  <style>\n",
              "    .colab-df-container {\n",
              "      display:flex;\n",
              "      flex-wrap:wrap;\n",
              "      gap: 12px;\n",
              "    }\n",
              "\n",
              "    .colab-df-convert {\n",
              "      background-color: #E8F0FE;\n",
              "      border: none;\n",
              "      border-radius: 50%;\n",
              "      cursor: pointer;\n",
              "      display: none;\n",
              "      fill: #1967D2;\n",
              "      height: 32px;\n",
              "      padding: 0 0 0 0;\n",
              "      width: 32px;\n",
              "    }\n",
              "\n",
              "    .colab-df-convert:hover {\n",
              "      background-color: #E2EBFA;\n",
              "      box-shadow: 0px 1px 2px rgba(60, 64, 67, 0.3), 0px 1px 3px 1px rgba(60, 64, 67, 0.15);\n",
              "      fill: #174EA6;\n",
              "    }\n",
              "\n",
              "    [theme=dark] .colab-df-convert {\n",
              "      background-color: #3B4455;\n",
              "      fill: #D2E3FC;\n",
              "    }\n",
              "\n",
              "    [theme=dark] .colab-df-convert:hover {\n",
              "      background-color: #434B5C;\n",
              "      box-shadow: 0px 1px 3px 1px rgba(0, 0, 0, 0.15);\n",
              "      filter: drop-shadow(0px 1px 2px rgba(0, 0, 0, 0.3));\n",
              "      fill: #FFFFFF;\n",
              "    }\n",
              "  </style>\n",
              "\n",
              "      <script>\n",
              "        const buttonEl =\n",
              "          document.querySelector('#df-6465c761-dbd1-42e4-b676-7942d5712b9e button.colab-df-convert');\n",
              "        buttonEl.style.display =\n",
              "          google.colab.kernel.accessAllowed ? 'block' : 'none';\n",
              "\n",
              "        async function convertToInteractive(key) {\n",
              "          const element = document.querySelector('#df-6465c761-dbd1-42e4-b676-7942d5712b9e');\n",
              "          const dataTable =\n",
              "            await google.colab.kernel.invokeFunction('convertToInteractive',\n",
              "                                                     [key], {});\n",
              "          if (!dataTable) return;\n",
              "\n",
              "          const docLinkHtml = 'Like what you see? Visit the ' +\n",
              "            '<a target=\"_blank\" href=https://colab.research.google.com/notebooks/data_table.ipynb>data table notebook</a>'\n",
              "            + ' to learn more about interactive tables.';\n",
              "          element.innerHTML = '';\n",
              "          dataTable['output_type'] = 'display_data';\n",
              "          await google.colab.output.renderOutput(dataTable, element);\n",
              "          const docLink = document.createElement('div');\n",
              "          docLink.innerHTML = docLinkHtml;\n",
              "          element.appendChild(docLink);\n",
              "        }\n",
              "      </script>\n",
              "    </div>\n",
              "  </div>\n",
              "  "
            ],
            "text/plain": [
              "    age  sex   cp  trestbps   chol  fbs  ...  exang  oldpeak  slope   ca  thal  num\n",
              "0  63.0  1.0  1.0     145.0  233.0  1.0  ...    0.0      2.3    3.0  0.0   6.0    0\n",
              "1  67.0  1.0  4.0     160.0  286.0  0.0  ...    1.0      1.5    2.0  3.0   3.0    1\n",
              "2  67.0  1.0  4.0     120.0  229.0  0.0  ...    1.0      2.6    2.0  2.0   7.0    1\n",
              "3  37.0  1.0  3.0     130.0  250.0  0.0  ...    0.0      3.5    3.0  0.0   3.0    0\n",
              "4  41.0  0.0  2.0     130.0  204.0  0.0  ...    0.0      1.4    1.0  0.0   3.0    0\n",
              "\n",
              "[5 rows x 14 columns]"
            ]
          },
          "metadata": {},
          "execution_count": 15
        }
      ]
    },
    {
      "cell_type": "code",
      "source": [
        "#A nossa variável num diz respeito a quais pessoas possuem doença cardíaca ou não, podemos contar esses valores com value_counts\n",
        "\n",
        "df.num.value_counts()\n",
        "\n",
        "#após executarmos, observamos que 164 pessoas não possuem doenças cardíacas e 139 pessoas possuem"
      ],
      "metadata": {
        "colab": {
          "base_uri": "https://localhost:8080/"
        },
        "id": "n4GfwC3Ti-Nn",
        "outputId": "2dbab155-af4b-491c-deed-e5ead9639e92"
      },
      "execution_count": null,
      "outputs": [
        {
          "output_type": "execute_result",
          "data": {
            "text/plain": [
              "0    164\n",
              "1    139\n",
              "Name: num, dtype: int64"
            ]
          },
          "metadata": {},
          "execution_count": 10
        }
      ]
    },
    {
      "cell_type": "markdown",
      "source": [
        "Agora faremos uma etapa muito importante para a análise de nossos dados, verificaremos quais valores de nosso df são ausentes, para isso, usaremos o isnull."
      ],
      "metadata": {
        "id": "4A6siLsUPkU_"
      }
    },
    {
      "cell_type": "code",
      "source": [
        "df.isnull().sum()\n",
        "\n",
        "#adicionei o sum para a visualização dos valores ausentes ficar mais simples\n",
        "#depois de rodarmos a célula, podemos verificar que não possuimos valores ausentes em nosso df, o que é muito bom!"
      ],
      "metadata": {
        "colab": {
          "base_uri": "https://localhost:8080/"
        },
        "id": "CBULTItGjw0e",
        "outputId": "2c9196df-6a13-4718-f628-cf5921fdc328"
      },
      "execution_count": null,
      "outputs": [
        {
          "output_type": "execute_result",
          "data": {
            "text/plain": [
              "age         0\n",
              "sex         0\n",
              "cp          0\n",
              "trestbps    0\n",
              "chol        0\n",
              "fbs         0\n",
              "restecg     0\n",
              "thalach     0\n",
              "exang       0\n",
              "oldpeak     0\n",
              "slope       0\n",
              "ca          0\n",
              "thal        0\n",
              "num         0\n",
              "dtype: int64"
            ]
          },
          "metadata": {},
          "execution_count": 18
        }
      ]
    },
    {
      "cell_type": "markdown",
      "source": [
        "##Plotando gráficos\n",
        "\n",
        "Gráfico de linha para df_brasil:"
      ],
      "metadata": {
        "id": "zlCMujwHKqx4"
      }
    },
    {
      "cell_type": "code",
      "source": [
        "df_brasil.plot('ano', 'mortes_doencas_cardio', kind='line', xlabel='Ano', title='Mortes no Brasil', ylabel='Mortes (mil)')\n",
        "\n",
        "max_value = df_brasil.mortes_doencas_cardio.max()\n",
        "min_value = df_brasil.mortes_doencas_cardio.min()\n",
        "\n",
        "growth_rate = (max_value - min_value)/(max_value/100)\n",
        "print(growth_rate)\n",
        "print('\\n')"
      ],
      "metadata": {
        "id": "4Y4KL_VPkzZf",
        "colab": {
          "base_uri": "https://localhost:8080/",
          "height": 347
        },
        "outputId": "fee9ef12-b4e8-46ac-b659-c0b8a3013b22"
      },
      "execution_count": null,
      "outputs": [
        {
          "output_type": "stream",
          "name": "stdout",
          "text": [
            "26.053166858092357\n",
            "\n",
            "\n"
          ]
        },
        {
          "output_type": "display_data",
          "data": {
            "image/png": "[encoded data removed]",
            "text/plain": [
              "<Figure size 432x288 with 1 Axes>"
            ]
          },
          "metadata": {
            "needs_background": "light"
          }
        }
      ]
    },
    {
      "cell_type": "markdown",
      "source": [
        "Após plotarmos o gráfico, notamos uma alta de 100.000 mortes no período de 2004 a 2016 e também uma taxa de crescimento de `26.05%` do ano de 2004 ao ano de 2017. \n"
      ],
      "metadata": {
        "id": "UhO1c4cOyUzW"
      }
    },
    {
      "cell_type": "markdown",
      "source": [
        "Gênero dos pacientes:\n",
        "\n",
        "0 - Mulher;\n",
        "\n",
        "1 - Homem;\n",
        "\n",
        "Em relação à gênero, 206 pacientes são homens e 97 são mulheres. Vamos plotar um gráfico para visualizarmos a diferença.\n",
        "\n"
      ],
      "metadata": {
        "id": "aI7XPnoVsnxa"
      }
    },
    {
      "cell_type": "code",
      "source": [
        "x = df.sex.value_counts().index #aqui definimos os valores presentes no atríbuto 'sex' como indíce\n",
        "y = df.sex.value_counts().values #aqui definimos os valores presentes no atríbuto 'sex' com os valores presentes no df.sex\n",
        "\n",
        "fig, ax = plt.subplots()                       \n",
        "ax.bar(x, y, align='center', alpha=0.6)         \n",
        "ax.set_xticks(x)                               \n",
        "ax.set_xlabel('Gênero')                        \n",
        "ax.set_ylabel('Quantidade')                    \n",
        "ax.set_title('Gênero')                         \n",
        "plt.show()                                     "
      ],
      "metadata": {
        "colab": {
          "base_uri": "https://localhost:8080/",
          "height": 295
        },
        "id": "Zj8vNmp1acAi",
        "outputId": "a7025f9c-5e3d-4084-8242-e1d84b765d62"
      },
      "execution_count": null,
      "outputs": [
        {
          "output_type": "display_data",
          "data": {
            "image/png": "[encoded data removed]",
            "text/plain": [
              "<Figure size 432x288 with 1 Axes>"
            ]
          },
          "metadata": {
            "needs_background": "light"
          }
        }
      ]
    },
    {
      "cell_type": "markdown",
      "source": [
        "Vamos ver a quantidade de homens e mulheres que possuem e não possuem doença cardiovascular.\n",
        "\n"
      ],
      "metadata": {
        "id": "QxM81SvXa5xJ"
      }
    },
    {
      "cell_type": "code",
      "source": [
        "((df[\"sex\"] == 0) & (df[\"num\"] == 0)).value_counts() \n",
        "# 72 pacientes são mulheres e não possuem doença cardíaca"
      ],
      "metadata": {
        "colab": {
          "base_uri": "https://localhost:8080/"
        },
        "id": "GuIQXdHUHuWc",
        "outputId": "f4694475-4973-446d-8cfe-03f4b19c4f8f"
      },
      "execution_count": null,
      "outputs": [
        {
          "output_type": "execute_result",
          "data": {
            "text/plain": [
              "False    231\n",
              "True      72\n",
              "dtype: int64"
            ]
          },
          "metadata": {},
          "execution_count": 43
        }
      ]
    },
    {
      "cell_type": "code",
      "source": [
        "((df[\"sex\"] == 0) & (df[\"num\"] == 1)).value_counts() \n",
        "# 25 pacientes são mulheres e possuem doença cardíaca"
      ],
      "metadata": {
        "colab": {
          "base_uri": "https://localhost:8080/"
        },
        "id": "qk7wLyt0akns",
        "outputId": "a73f2be7-989b-426f-80b6-73aeab34fc8e"
      },
      "execution_count": null,
      "outputs": [
        {
          "output_type": "execute_result",
          "data": {
            "text/plain": [
              "False    278\n",
              "True      25\n",
              "dtype: int64"
            ]
          },
          "metadata": {},
          "execution_count": 44
        }
      ]
    },
    {
      "cell_type": "code",
      "source": [
        "((df[\"sex\"] == 1) & (df[\"num\"] == 0)).value_counts() \n",
        "# 92 pacientes são homens e não possuem doença cardíaca"
      ],
      "metadata": {
        "colab": {
          "base_uri": "https://localhost:8080/"
        },
        "id": "TBFrwGNNagiO",
        "outputId": "6eae23df-ca48-4f2c-d731-0576fdcd600c"
      },
      "execution_count": null,
      "outputs": [
        {
          "output_type": "execute_result",
          "data": {
            "text/plain": [
              "False    211\n",
              "True      92\n",
              "dtype: int64"
            ]
          },
          "metadata": {},
          "execution_count": 45
        }
      ]
    },
    {
      "cell_type": "code",
      "source": [
        "((df[\"sex\"] == 1) & (df[\"num\"] == 1)).value_counts() \n",
        "# 114 pacientes são homens e possuem doença cardíaca"
      ],
      "metadata": {
        "colab": {
          "base_uri": "https://localhost:8080/"
        },
        "id": "gKCA7Gtxadl7",
        "outputId": "8d6c0bb9-f8a0-4340-f21f-9cbb14599225"
      },
      "execution_count": null,
      "outputs": [
        {
          "output_type": "execute_result",
          "data": {
            "text/plain": [
              "False    189\n",
              "True     114\n",
              "dtype: int64"
            ]
          },
          "metadata": {},
          "execution_count": 46
        }
      ]
    },
    {
      "cell_type": "markdown",
      "source": [
        "Armazenando a quantidade de homens e mulheres em variáveis para efetuarmos o cálculo de porcentagem. "
      ],
      "metadata": {
        "id": "Mr9xlJ0JJ6K0"
      }
    },
    {
      "cell_type": "code",
      "source": [
        "women_amount = (df.sex == 0).sum()\n",
        "women_amount_d = ((df[\"sex\"] == 0) & (df[\"num\"] == 1)).sum()\n",
        "\n",
        "men_amount = (df.sex == 1).sum()\n",
        "men_amount_d = ((df[\"sex\"] == 1) & (df[\"num\"] == 1)).sum()"
      ],
      "metadata": {
        "id": "DtU34xIibSYg"
      },
      "execution_count": null,
      "outputs": []
    },
    {
      "cell_type": "markdown",
      "source": [
        "Aqui é calculada a porcentagem de homens e mulheres com doença cardiovascular."
      ],
      "metadata": {
        "id": "KO0oXrfoKHzj"
      }
    },
    {
      "cell_type": "code",
      "source": [
        "perc_women = (100*women_amount_d)/women_amount\n",
        "print(perc_women)\n",
        "\n",
        "perc_men = (100*men_amount_d)/men_amount\n",
        "print(perc_men)"
      ],
      "metadata": {
        "colab": {
          "base_uri": "https://localhost:8080/"
        },
        "id": "819u3h8zchKy",
        "outputId": "d2aed5b1-df65-4c0e-bc7a-0ca49db3770b"
      },
      "execution_count": null,
      "outputs": [
        {
          "output_type": "stream",
          "name": "stdout",
          "text": [
            "25.77319587628866\n",
            "55.33980582524272\n"
          ]
        }
      ]
    },
    {
      "cell_type": "markdown",
      "source": [
        "* Mulheres sem doença cardíaca: `72` \n",
        "* Mulheres com doença cardíaca: `25`\n",
        "\n",
        "* Homens sem doença cardíaca: `92`\n",
        "* Homens com doença cardíaca: `114`\n",
        "\n",
        "\n",
        "Após realizarmos essa análise, notamos que `25.77%` das mulheres  e `55.33%` dos homens possuem doença."
      ],
      "metadata": {
        "id": "yWogQv2ZbElS"
      }
    },
    {
      "cell_type": "markdown",
      "source": [
        "Aqui vamos visualizar as correlações entre as variáveis e salvar na variável `corr`, seguindo a análise vamos plotar um mapa de calor para visualizarmos de maneira mais intuitiva e teremos uma explicação mais detalhada."
      ],
      "metadata": {
        "id": "V5P5vORatSEh"
      }
    },
    {
      "cell_type": "code",
      "source": [
        "corr = df.corr(method='pearson')\n",
        "corr"
      ],
      "metadata": {
        "id": "UEuKw5aY-5RL",
        "colab": {
          "base_uri": "https://localhost:8080/",
          "height": 488
        },
        "outputId": "0fbe7c8f-cf7d-4cc2-f6b1-70ed4aebb512"
      },
      "execution_count": null,
      "outputs": [
        {
          "output_type": "execute_result",
          "data": {
            "text/html": [
              "\n",
              "  <div id=\"df-b75d2dbd-cd15-4d08-ad57-dc6f884a3d01\">\n",
              "    <div class=\"colab-df-container\">\n",
              "      <div>\n",
              "<style scoped>\n",
              "    .dataframe tbody tr th:only-of-type {\n",
              "        vertical-align: middle;\n",
              "    }\n",
              "\n",
              "    .dataframe tbody tr th {\n",
              "        vertical-align: top;\n",
              "    }\n",
              "\n",
              "    .dataframe thead th {\n",
              "        text-align: right;\n",
              "    }\n",
              "</style>\n",
              "<table border=\"1\" class=\"dataframe\">\n",
              "  <thead>\n",
              "    <tr style=\"text-align: right;\">\n",
              "      <th></th>\n",
              "      <th>age</th>\n",
              "      <th>sex</th>\n",
              "      <th>cp</th>\n",
              "      <th>trestbps</th>\n",
              "      <th>chol</th>\n",
              "      <th>fbs</th>\n",
              "      <th>restecg</th>\n",
              "      <th>thalach</th>\n",
              "      <th>exang</th>\n",
              "      <th>oldpeak</th>\n",
              "      <th>slope</th>\n",
              "      <th>ca</th>\n",
              "      <th>thal</th>\n",
              "      <th>num</th>\n",
              "    </tr>\n",
              "  </thead>\n",
              "  <tbody>\n",
              "    <tr>\n",
              "      <th>age</th>\n",
              "      <td>1.000000</td>\n",
              "      <td>-0.097542</td>\n",
              "      <td>0.104139</td>\n",
              "      <td>0.284946</td>\n",
              "      <td>0.208950</td>\n",
              "      <td>0.118530</td>\n",
              "      <td>0.148868</td>\n",
              "      <td>-0.393806</td>\n",
              "      <td>0.091661</td>\n",
              "      <td>0.203805</td>\n",
              "      <td>0.161770</td>\n",
              "      <td>0.365323</td>\n",
              "      <td>0.128303</td>\n",
              "      <td>0.223120</td>\n",
              "    </tr>\n",
              "    <tr>\n",
              "      <th>sex</th>\n",
              "      <td>-0.097542</td>\n",
              "      <td>1.000000</td>\n",
              "      <td>0.010084</td>\n",
              "      <td>-0.064456</td>\n",
              "      <td>-0.199915</td>\n",
              "      <td>0.047862</td>\n",
              "      <td>0.021647</td>\n",
              "      <td>-0.048663</td>\n",
              "      <td>0.146201</td>\n",
              "      <td>0.102173</td>\n",
              "      <td>0.037533</td>\n",
              "      <td>0.086048</td>\n",
              "      <td>0.380581</td>\n",
              "      <td>0.276816</td>\n",
              "    </tr>\n",
              "    <tr>\n",
              "      <th>cp</th>\n",
              "      <td>0.104139</td>\n",
              "      <td>0.010084</td>\n",
              "      <td>1.000000</td>\n",
              "      <td>-0.036077</td>\n",
              "      <td>0.072319</td>\n",
              "      <td>-0.039975</td>\n",
              "      <td>0.067505</td>\n",
              "      <td>-0.334422</td>\n",
              "      <td>0.384060</td>\n",
              "      <td>0.202277</td>\n",
              "      <td>0.152050</td>\n",
              "      <td>0.233117</td>\n",
              "      <td>0.262089</td>\n",
              "      <td>0.414446</td>\n",
              "    </tr>\n",
              "    <tr>\n",
              "      <th>trestbps</th>\n",
              "      <td>0.284946</td>\n",
              "      <td>-0.064456</td>\n",
              "      <td>-0.036077</td>\n",
              "      <td>1.000000</td>\n",
              "      <td>0.130120</td>\n",
              "      <td>0.175340</td>\n",
              "      <td>0.146560</td>\n",
              "      <td>-0.045351</td>\n",
              "      <td>0.064762</td>\n",
              "      <td>0.189171</td>\n",
              "      <td>0.117382</td>\n",
              "      <td>0.097528</td>\n",
              "      <td>0.134424</td>\n",
              "      <td>0.150825</td>\n",
              "    </tr>\n",
              "    <tr>\n",
              "      <th>chol</th>\n",
              "      <td>0.208950</td>\n",
              "      <td>-0.199915</td>\n",
              "      <td>0.072319</td>\n",
              "      <td>0.130120</td>\n",
              "      <td>1.000000</td>\n",
              "      <td>0.009841</td>\n",
              "      <td>0.171043</td>\n",
              "      <td>-0.003432</td>\n",
              "      <td>0.061310</td>\n",
              "      <td>0.046564</td>\n",
              "      <td>-0.004062</td>\n",
              "      <td>0.123726</td>\n",
              "      <td>0.018351</td>\n",
              "      <td>0.085164</td>\n",
              "    </tr>\n",
              "    <tr>\n",
              "      <th>fbs</th>\n",
              "      <td>0.118530</td>\n",
              "      <td>0.047862</td>\n",
              "      <td>-0.039975</td>\n",
              "      <td>0.175340</td>\n",
              "      <td>0.009841</td>\n",
              "      <td>1.000000</td>\n",
              "      <td>0.069564</td>\n",
              "      <td>-0.007854</td>\n",
              "      <td>0.025665</td>\n",
              "      <td>0.005747</td>\n",
              "      <td>0.059894</td>\n",
              "      <td>0.140764</td>\n",
              "      <td>0.064625</td>\n",
              "      <td>0.025264</td>\n",
              "    </tr>\n",
              "    <tr>\n",
              "      <th>restecg</th>\n",
              "      <td>0.148868</td>\n",
              "      <td>0.021647</td>\n",
              "      <td>0.067505</td>\n",
              "      <td>0.146560</td>\n",
              "      <td>0.171043</td>\n",
              "      <td>0.069564</td>\n",
              "      <td>1.000000</td>\n",
              "      <td>-0.083389</td>\n",
              "      <td>0.084867</td>\n",
              "      <td>0.114133</td>\n",
              "      <td>0.133946</td>\n",
              "      <td>0.131749</td>\n",
              "      <td>0.024325</td>\n",
              "      <td>0.169202</td>\n",
              "    </tr>\n",
              "    <tr>\n",
              "      <th>thalach</th>\n",
              "      <td>-0.393806</td>\n",
              "      <td>-0.048663</td>\n",
              "      <td>-0.334422</td>\n",
              "      <td>-0.045351</td>\n",
              "      <td>-0.003432</td>\n",
              "      <td>-0.007854</td>\n",
              "      <td>-0.083389</td>\n",
              "      <td>1.000000</td>\n",
              "      <td>-0.378103</td>\n",
              "      <td>-0.343085</td>\n",
              "      <td>-0.385601</td>\n",
              "      <td>-0.265699</td>\n",
              "      <td>-0.274142</td>\n",
              "      <td>-0.417167</td>\n",
              "    </tr>\n",
              "    <tr>\n",
              "      <th>exang</th>\n",
              "      <td>0.091661</td>\n",
              "      <td>0.146201</td>\n",
              "      <td>0.384060</td>\n",
              "      <td>0.064762</td>\n",
              "      <td>0.061310</td>\n",
              "      <td>0.025665</td>\n",
              "      <td>0.084867</td>\n",
              "      <td>-0.378103</td>\n",
              "      <td>1.000000</td>\n",
              "      <td>0.288223</td>\n",
              "      <td>0.257748</td>\n",
              "      <td>0.145788</td>\n",
              "      <td>0.325240</td>\n",
              "      <td>0.431894</td>\n",
              "    </tr>\n",
              "    <tr>\n",
              "      <th>oldpeak</th>\n",
              "      <td>0.203805</td>\n",
              "      <td>0.102173</td>\n",
              "      <td>0.202277</td>\n",
              "      <td>0.189171</td>\n",
              "      <td>0.046564</td>\n",
              "      <td>0.005747</td>\n",
              "      <td>0.114133</td>\n",
              "      <td>-0.343085</td>\n",
              "      <td>0.288223</td>\n",
              "      <td>1.000000</td>\n",
              "      <td>0.577537</td>\n",
              "      <td>0.301067</td>\n",
              "      <td>0.342405</td>\n",
              "      <td>0.424510</td>\n",
              "    </tr>\n",
              "    <tr>\n",
              "      <th>slope</th>\n",
              "      <td>0.161770</td>\n",
              "      <td>0.037533</td>\n",
              "      <td>0.152050</td>\n",
              "      <td>0.117382</td>\n",
              "      <td>-0.004062</td>\n",
              "      <td>0.059894</td>\n",
              "      <td>0.133946</td>\n",
              "      <td>-0.385601</td>\n",
              "      <td>0.257748</td>\n",
              "      <td>0.577537</td>\n",
              "      <td>1.000000</td>\n",
              "      <td>0.110803</td>\n",
              "      <td>0.286792</td>\n",
              "      <td>0.339213</td>\n",
              "    </tr>\n",
              "    <tr>\n",
              "      <th>ca</th>\n",
              "      <td>0.365323</td>\n",
              "      <td>0.086048</td>\n",
              "      <td>0.233117</td>\n",
              "      <td>0.097528</td>\n",
              "      <td>0.123726</td>\n",
              "      <td>0.140764</td>\n",
              "      <td>0.131749</td>\n",
              "      <td>-0.265699</td>\n",
              "      <td>0.145788</td>\n",
              "      <td>0.301067</td>\n",
              "      <td>0.110803</td>\n",
              "      <td>1.000000</td>\n",
              "      <td>0.255446</td>\n",
              "      <td>0.460033</td>\n",
              "    </tr>\n",
              "    <tr>\n",
              "      <th>thal</th>\n",
              "      <td>0.128303</td>\n",
              "      <td>0.380581</td>\n",
              "      <td>0.262089</td>\n",
              "      <td>0.134424</td>\n",
              "      <td>0.018351</td>\n",
              "      <td>0.064625</td>\n",
              "      <td>0.024325</td>\n",
              "      <td>-0.274142</td>\n",
              "      <td>0.325240</td>\n",
              "      <td>0.342405</td>\n",
              "      <td>0.286792</td>\n",
              "      <td>0.255446</td>\n",
              "      <td>1.000000</td>\n",
              "      <td>0.522057</td>\n",
              "    </tr>\n",
              "    <tr>\n",
              "      <th>num</th>\n",
              "      <td>0.223120</td>\n",
              "      <td>0.276816</td>\n",
              "      <td>0.414446</td>\n",
              "      <td>0.150825</td>\n",
              "      <td>0.085164</td>\n",
              "      <td>0.025264</td>\n",
              "      <td>0.169202</td>\n",
              "      <td>-0.417167</td>\n",
              "      <td>0.431894</td>\n",
              "      <td>0.424510</td>\n",
              "      <td>0.339213</td>\n",
              "      <td>0.460033</td>\n",
              "      <td>0.522057</td>\n",
              "      <td>1.000000</td>\n",
              "    </tr>\n",
              "  </tbody>\n",
              "</table>\n",
              "</div>\n",
              "      <button class=\"colab-df-convert\" onclick=\"convertToInteractive('df-b75d2dbd-cd15-4d08-ad57-dc6f884a3d01')\"\n",
              "              title=\"Convert this dataframe to an interactive table.\"\n",
              "              style=\"display:none;\">\n",
              "        \n",
              "  <svg xmlns=\"http://www.w3.org/2000/svg\" height=\"24px\"viewBox=\"0 0 24 24\"\n",
              "       width=\"24px\">\n",
              "    <path d=\"M0 0h24v24H0V0z\" fill=\"none\"/>\n",
              "    <path d=\"M18.56 5.44l.94 2.06.94-2.06 2.06-.94-2.06-.94-.94-2.06-.94 2.06-2.06.94zm-11 1L8.5 8.5l.94-2.06 2.06-.94-2.06-.94L8.5 2.5l-.94 2.06-2.06.94zm10 10l.94 2.06.94-2.06 2.06-.94-2.06-.94-.94-2.06-.94 2.06-2.06.94z\"/><path d=\"M17.41 7.96l-1.37-1.37c-.4-.4-.92-.59-1.43-.59-.52 0-1.04.2-1.43.59L10.3 9.45l-7.72 7.72c-.78.78-.78 2.05 0 2.83L4 21.41c.39.39.9.59 1.41.59.51 0 1.02-.2 1.41-.59l7.78-7.78 2.81-2.81c.8-.78.8-2.07 0-2.86zM5.41 20L4 18.59l7.72-7.72 1.47 1.35L5.41 20z\"/>\n",
              "  </svg>\n",
              "      </button>\n",
              "      \n",
              "  <style>\n",
              "    .colab-df-container {\n",
              "      display:flex;\n",
              "      flex-wrap:wrap;\n",
              "      gap: 12px;\n",
              "    }\n",
              "\n",
              "    .colab-df-convert {\n",
              "      background-color: #E8F0FE;\n",
              "      border: none;\n",
              "      border-radius: 50%;\n",
              "      cursor: pointer;\n",
              "      display: none;\n",
              "      fill: #1967D2;\n",
              "      height: 32px;\n",
              "      padding: 0 0 0 0;\n",
              "      width: 32px;\n",
              "    }\n",
              "\n",
              "    .colab-df-convert:hover {\n",
              "      background-color: #E2EBFA;\n",
              "      box-shadow: 0px 1px 2px rgba(60, 64, 67, 0.3), 0px 1px 3px 1px rgba(60, 64, 67, 0.15);\n",
              "      fill: #174EA6;\n",
              "    }\n",
              "\n",
              "    [theme=dark] .colab-df-convert {\n",
              "      background-color: #3B4455;\n",
              "      fill: #D2E3FC;\n",
              "    }\n",
              "\n",
              "    [theme=dark] .colab-df-convert:hover {\n",
              "      background-color: #434B5C;\n",
              "      box-shadow: 0px 1px 3px 1px rgba(0, 0, 0, 0.15);\n",
              "      filter: drop-shadow(0px 1px 2px rgba(0, 0, 0, 0.3));\n",
              "      fill: #FFFFFF;\n",
              "    }\n",
              "  </style>\n",
              "\n",
              "      <script>\n",
              "        const buttonEl =\n",
              "          document.querySelector('#df-b75d2dbd-cd15-4d08-ad57-dc6f884a3d01 button.colab-df-convert');\n",
              "        buttonEl.style.display =\n",
              "          google.colab.kernel.accessAllowed ? 'block' : 'none';\n",
              "\n",
              "        async function convertToInteractive(key) {\n",
              "          const element = document.querySelector('#df-b75d2dbd-cd15-4d08-ad57-dc6f884a3d01');\n",
              "          const dataTable =\n",
              "            await google.colab.kernel.invokeFunction('convertToInteractive',\n",
              "                                                     [key], {});\n",
              "          if (!dataTable) return;\n",
              "\n",
              "          const docLinkHtml = 'Like what you see? Visit the ' +\n",
              "            '<a target=\"_blank\" href=https://colab.research.google.com/notebooks/data_table.ipynb>data table notebook</a>'\n",
              "            + ' to learn more about interactive tables.';\n",
              "          element.innerHTML = '';\n",
              "          dataTable['output_type'] = 'display_data';\n",
              "          await google.colab.output.renderOutput(dataTable, element);\n",
              "          const docLink = document.createElement('div');\n",
              "          docLink.innerHTML = docLinkHtml;\n",
              "          element.appendChild(docLink);\n",
              "        }\n",
              "      </script>\n",
              "    </div>\n",
              "  </div>\n",
              "  "
            ],
            "text/plain": [
              "               age       sex        cp  ...        ca      thal       num\n",
              "age       1.000000 -0.097542  0.104139  ...  0.365323  0.128303  0.223120\n",
              "sex      -0.097542  1.000000  0.010084  ...  0.086048  0.380581  0.276816\n",
              "cp        0.104139  0.010084  1.000000  ...  0.233117  0.262089  0.414446\n",
              "trestbps  0.284946 -0.064456 -0.036077  ...  0.097528  0.134424  0.150825\n",
              "chol      0.208950 -0.199915  0.072319  ...  0.123726  0.018351  0.085164\n",
              "fbs       0.118530  0.047862 -0.039975  ...  0.140764  0.064625  0.025264\n",
              "restecg   0.148868  0.021647  0.067505  ...  0.131749  0.024325  0.169202\n",
              "thalach  -0.393806 -0.048663 -0.334422  ... -0.265699 -0.274142 -0.417167\n",
              "exang     0.091661  0.146201  0.384060  ...  0.145788  0.325240  0.431894\n",
              "oldpeak   0.203805  0.102173  0.202277  ...  0.301067  0.342405  0.424510\n",
              "slope     0.161770  0.037533  0.152050  ...  0.110803  0.286792  0.339213\n",
              "ca        0.365323  0.086048  0.233117  ...  1.000000  0.255446  0.460033\n",
              "thal      0.128303  0.380581  0.262089  ...  0.255446  1.000000  0.522057\n",
              "num       0.223120  0.276816  0.414446  ...  0.460033  0.522057  1.000000\n",
              "\n",
              "[14 rows x 14 columns]"
            ]
          },
          "metadata": {},
          "execution_count": 4
        }
      ]
    },
    {
      "cell_type": "markdown",
      "source": [
        "####Gráfico de dispersão:\n",
        "\n",
        "Este é importante para vermos correlações entre as variáveis em uma forma gráfica, temos 3 tipos de correlações: `postiva`, `negativa` e `nula`.\n",
        "\n",
        "Quando temos a `positiva`, vemos que a variável independente aumenta e a dependente também. A `negativa` se dá pela diminuição da independente e consequentemente da dependente. Já a `nula`, não ocorre nem aumento e nem diminuição, portanto há uma dispersão entre os pontos e isso significa que não há correlação aparente entre as variáveis."
      ],
      "metadata": {
        "id": "cRROwP0HJhbi"
      }
    },
    {
      "cell_type": "code",
      "source": [
        "#grafico de dispersão entre age e chol\n",
        "\n",
        "fig, ax = plt.subplots(figsize=(10,6)) \n",
        "ax.scatter('age', 'chol', data=df, s=3, alpha=1)\n",
        "ax.set_xlabel('Idade')\n",
        "ax.set_ylabel('Colesterol')\n",
        "ax.set_title('Gráfico de dispersão (Idade x Colesterol)');"
      ],
      "metadata": {
        "id": "ThHk4EhUQWqZ",
        "colab": {
          "base_uri": "https://localhost:8080/",
          "height": 404
        },
        "outputId": "2771610a-b404-468f-80bc-0d34ff1610c3"
      },
      "execution_count": null,
      "outputs": [
        {
          "output_type": "display_data",
          "data": {
            "image/png": "[encoded data removed]",
            "text/plain": [
              "<Figure size 720x432 with 1 Axes>"
            ]
          },
          "metadata": {
            "needs_background": "light"
          }
        }
      ]
    },
    {
      "cell_type": "markdown",
      "source": [
        "Neste plot, vemos uma correlação nula, podemos notar uma concentração de pacientes com nível de colesterol um pouco mais evidenciada entre as idades 50-60, mas isso não significa que os níveis de colesterol nesta idade sejam superiores ou inferiores aos dos demais."
      ],
      "metadata": {
        "id": "2LSHBCuDuGgR"
      }
    },
    {
      "cell_type": "markdown",
      "source": [
        "###Histograma de nível de colesterol\n",
        "\n"
      ],
      "metadata": {
        "id": "84-_0B2DvWQg"
      }
    },
    {
      "cell_type": "code",
      "source": [
        "df.chol.plot(kind='hist');"
      ],
      "metadata": {
        "colab": {
          "base_uri": "https://localhost:8080/",
          "height": 265
        },
        "id": "AnUA8UBzXUcV",
        "outputId": "e72170fd-b282-4009-c7b2-00df75fe17a1"
      },
      "execution_count": null,
      "outputs": [
        {
          "output_type": "display_data",
          "data": {
            "image/png": "[encoded data removed]",
            "text/plain": [
              "<Figure size 432x288 with 1 Axes>"
            ]
          },
          "metadata": {
            "needs_background": "light"
          }
        }
      ]
    },
    {
      "cell_type": "markdown",
      "source": [
        "Ao vermos este gráfico, notamos uma concentração de pacientes contendo níveis entre 200-300 (mg/dL - miligramas por decilitro). Para referência, um nível de colesterol interessante para o ser o humano seria menor que 200 mg/dL."
      ],
      "metadata": {
        "id": "xWZ_AJ72v-hk"
      }
    },
    {
      "cell_type": "markdown",
      "source": [
        "###Plotando heatmap de correlação:\n"
      ],
      "metadata": {
        "id": "YSyfoAyk9nZH"
      }
    },
    {
      "cell_type": "code",
      "source": [
        "fig, ax = plt.subplots(figsize=(10,10))  \n",
        "\n",
        "sns.heatmap(corr, cmap='RdBu', fmt='.2f', \n",
        "            square=True, linecolor='white', annot=True, ax=ax);"
      ],
      "metadata": {
        "colab": {
          "base_uri": "https://localhost:8080/",
          "height": 578
        },
        "id": "Ge7Lp6FwkHB5",
        "outputId": "2fcf2e37-2bd7-42e5-d9f6-8ac85d5e8725"
      },
      "execution_count": null,
      "outputs": [
        {
          "output_type": "display_data",
          "data": {
            "image/png": "[encoded data removed]",
            "text/plain": [
              "<Figure size 720x720 with 2 Axes>"
            ]
          },
          "metadata": {
            "needs_background": "light"
          }
        }
      ]
    },
    {
      "cell_type": "markdown",
      "source": [
        "Após plotarmos o `heatmap`, não vemos uma correlação significativa.\n",
        "\n",
        "`thal:` teste de estresse cardíaco;\n",
        "\n",
        "`num:` pessoas que possuem ou não doença cardiovascular;\n",
        "\n",
        "`oldpeak:` depressão do segmento ST induzida pelo exercício em relação ao repouso;\n",
        "\n",
        "`thelach:` máximo batimento cardíaco atingido.\n",
        "\n",
        "\n",
        "Em `thal` e `num`, vemos um coeficiente de correlação `r = 0.52`, onde este valor é moderado, portanto não se afetam significativamente.\n",
        "\n",
        "Em `oldpeak` e `num` o coeficiente de correlação `r = 0.58`, no qual este valor é um pouco maior que o anterior, mas ainda moderado.\n",
        "\n",
        "É interessante notar que o atributo `thelach`, possui uma correlação negativa moderada em relação ao atributo `num`, em que `r = -0,42`. "
      ],
      "metadata": {
        "id": "hClgahF_9l7A"
      }
    },
    {
      "cell_type": "markdown",
      "source": [
        "# Implementação do modelo\n",
        "\n",
        "Neste passo, iniciaremos a construir um modelo para classificarmos se um paciente possui doença cardíaca ou não."
      ],
      "metadata": {
        "id": "c1woxwhBs4jK"
      }
    },
    {
      "cell_type": "code",
      "source": [
        "# importando as bibliotecas necessárias\n",
        "from sklearn.model_selection import train_test_split\n",
        "from sklearn.preprocessing import StandardScaler\n",
        "from sklearn.metrics import confusion_matrix\n",
        "from sklearn.metrics import classification_report\n",
        "from sklearn.linear_model import LogisticRegression"
      ],
      "metadata": {
        "id": "YCcbkXJHs90g"
      },
      "execution_count": null,
      "outputs": []
    },
    {
      "cell_type": "code",
      "source": [
        "from sklearn import preprocessing\n",
        "# instanciando e e escolhendo os hyperparameters\n",
        "lr_model = LogisticRegression()\n",
        "\n",
        "# criando x e y\n",
        "x = df.drop('num', axis=1)\n",
        "y = df.num\n",
        "\n",
        "# dividindo o dataset entre treino e teste\n",
        "x_train, x_test, y_train, y_test = train_test_split(x, y)\n",
        "\n",
        "# padronizar os dados de treino\n",
        "scaler = StandardScaler().fit(x_train)\n",
        "x_train = scaler.transform(x_train)\n",
        "\n",
        "# fit do modelo (treinar)\n",
        "lr_model.fit(x_train, y_train)\n",
        "\n",
        "# padronizar os dados de teste\n",
        "x_test = scaler.transform(x_test)\n",
        "\n",
        "# fazer previsões\n",
        "y_pred = lr_model.predict(x_test)"
      ],
      "metadata": {
        "id": "XwaiAJtkt-u2"
      },
      "execution_count": null,
      "outputs": []
    },
    {
      "cell_type": "code",
      "source": [
        "print(classification_report(y_test, y_pred))"
      ],
      "metadata": {
        "colab": {
          "base_uri": "https://localhost:8080/"
        },
        "id": "_wus0f5Tv6jd",
        "outputId": "b4677a1b-fd1c-46c9-9af0-45e1b00bec18"
      },
      "execution_count": null,
      "outputs": [
        {
          "output_type": "stream",
          "name": "stdout",
          "text": [
            "              precision    recall  f1-score   support\n",
            "\n",
            "           0       0.82      0.95      0.88        38\n",
            "           1       0.94      0.79      0.86        38\n",
            "\n",
            "    accuracy                           0.87        76\n",
            "   macro avg       0.88      0.87      0.87        76\n",
            "weighted avg       0.88      0.87      0.87        76\n",
            "\n"
          ]
        }
      ]
    },
    {
      "cell_type": "code",
      "source": [
        "fig, ax = plt.subplots(figsize=(8,6))\n",
        "sns.heatmap(confusion_matrix(y_test, y_pred), annot=True, ax=ax)\n",
        "\n",
        "ax.set_title('Confusion Matrix')\n",
        "ax.set_xlabel('True')\n",
        "ax.set_ylabel('Prediction')"
      ],
      "metadata": {
        "colab": {
          "base_uri": "https://localhost:8080/",
          "height": 422
        },
        "id": "Y6GLpeBhwDPf",
        "outputId": "c6020207-7e60-427e-df83-8d25f82bd610"
      },
      "execution_count": null,
      "outputs": [
        {
          "output_type": "execute_result",
          "data": {
            "text/plain": [
              "Text(51.0, 0.5, 'Prediction')"
            ]
          },
          "metadata": {},
          "execution_count": 17
        },
        {
          "output_type": "display_data",
          "data": {
            "image/png": "[encoded data removed]",
            "text/plain": [
              "<Figure size 576x432 with 2 Axes>"
            ]
          },
          "metadata": {
            "needs_background": "light"
          }
        }
      ]
    },
    {
      "cell_type": "markdown",
      "source": [
        "## Conclusão:\n",
        "\n",
        "Após analisarmos este dataset, observamos uma quantidade maior de homens que possuem doenças do que mulheres, por mais de termos mais homens na pesquisa, 25% das mulheres possuem a doença e 55% dos homens também possuem. Buscamos validar alguma correlação importante em relação à possuir ou não uma doença cardíaca, obtemos apenas correlações moderadas e não significativas.\n",
        "\n",
        "Uma questão importante, também dita no inicio, seria adotar algumas medidas e mudanças no estilo de vida, pois é estimado que 90% das doenças cardiovasculares poderiam ser evitadas por isso.\n",
        "\n",
        "Na construção do modelo, observamos pouco erro do y de teste em relação ao y previsto. Em um próximo projeto, utilizaremos o xgboost para predizer nossa variável alvo."
      ],
      "metadata": {
        "id": "0pfzi0eweR3u"
      }
    },
    {
      "cell_type": "code",
      "source": [
        ""
      ],
      "metadata": {
        "id": "Dq3dcjbwxt1v"
      },
      "execution_count": null,
      "outputs": []
    }
  ]
}